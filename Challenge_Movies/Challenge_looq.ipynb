{
  "nbformat": 4,
  "nbformat_minor": 0,
  "metadata": {
    "colab": {
      "name": "Challenge_looq.ipynb",
      "provenance": [],
      "collapsed_sections": [],
      "authorship_tag": "ABX9TyPPBTS4ucyIED1dioPwGOx3",
      "include_colab_link": true
    },
    "kernelspec": {
      "name": "python3",
      "display_name": "Python 3"
    },
    "language_info": {
      "name": "python"
    }
  },
  "cells": [
    {
      "cell_type": "markdown",
      "metadata": {
        "id": "view-in-github",
        "colab_type": "text"
      },
      "source": [
        "<a href=\"https://colab.research.google.com/github/HemersonFarias/DataScience/blob/main/Challenge_looq.ipynb\" target=\"_parent\"><img src=\"https://colab.research.google.com/assets/colab-badge.svg\" alt=\"Open In Colab\"/></a>"
      ]
    },
    {
      "cell_type": "code",
      "source": [
        "import pandas as pd"
      ],
      "metadata": {
        "id": "xXinlGMeGWXN"
      },
      "execution_count": null,
      "outputs": []
    },
    {
      "cell_type": "code",
      "execution_count": null,
      "metadata": {
        "colab": {
          "base_uri": "https://localhost:8080/"
        },
        "id": "S8k3eBQhIYJF",
        "outputId": "cf69887d-2cc6-434d-aba3-bd3888206a84"
      },
      "outputs": [
        {
          "output_type": "stream",
          "name": "stdout",
          "text": [
            "Looking in indexes: https://pypi.org/simple, https://us-python.pkg.dev/colab-wheels/public/simple/\n",
            "Collecting mysql-connector-python\n",
            "  Downloading mysql_connector_python-8.0.29-cp37-cp37m-manylinux1_x86_64.whl (25.2 MB)\n",
            "\u001b[K     |████████████████████████████████| 25.2 MB 1.7 MB/s \n",
            "\u001b[?25hRequirement already satisfied: protobuf>=3.0.0 in /usr/local/lib/python3.7/dist-packages (from mysql-connector-python) (3.17.3)\n",
            "Requirement already satisfied: six>=1.9 in /usr/local/lib/python3.7/dist-packages (from protobuf>=3.0.0->mysql-connector-python) (1.15.0)\n",
            "Installing collected packages: mysql-connector-python\n",
            "Successfully installed mysql-connector-python-8.0.29\n"
          ]
        }
      ],
      "source": [
        "!pip install mysql-connector-python"
      ]
    },
    {
      "cell_type": "markdown",
      "source": [
        "## Código que pegar usuário e senha (correto)"
      ],
      "metadata": {
        "id": "lTQe5W3D6Mnx"
      }
    },
    {
      "cell_type": "code",
      "source": [
        "import mysql.connector\n",
        "from getpass import getpass\n",
        "\n",
        "\n",
        "mydb = mysql.connector.connect(user=input(\"Enter username: \"),  \n",
        "                               password=getpass(\"Enter password: \"), \n",
        "                               host='35.199.127.241', \n",
        "                               database='looqbox_challenge'\n",
        ")\n",
        "\n",
        "mycursor = mydb.cursor()\n",
        "\n",
        "#mycursor.execute(\"SELECT PRODUCT_COD, PRODUCT_NAME, PRODUCT_VAL AS 'PRODUCT VALUE' FROM data_product order by PRODUCT_VAL DESC LIMIT 10; \")\n",
        "\n",
        "#myresult = mycursor.fetchall()\n",
        "\n"
      ],
      "metadata": {
        "id": "RwyLm0lXW1me",
        "colab": {
          "base_uri": "https://localhost:8080/"
        },
        "outputId": "9e8dcf1a-2ca6-4c19-dc50-a452ea821566"
      },
      "execution_count": null,
      "outputs": [
        {
          "name": "stdout",
          "output_type": "stream",
          "text": [
            "Enter username: looqbox-challenge\n",
            "Enter password: ··········\n"
          ]
        }
      ]
    },
    {
      "cell_type": "markdown",
      "source": [
        "## Question 1"
      ],
      "metadata": {
        "id": "ks2kas6j4RKF"
      }
    },
    {
      "cell_type": "code",
      "source": [
        "mycursor.execute(\"SELECT * FROM data_product_sales\")\n",
        "\n",
        "myresult = mycursor.fetchall()"
      ],
      "metadata": {
        "id": "kc7iBvlhDpzI"
      },
      "execution_count": null,
      "outputs": []
    },
    {
      "cell_type": "code",
      "source": [
        "data = pd.DataFrame(myresult, columns = ['Store_cod', 'Product_code', 'Date', 'Sales_value', 'Sales_qty']) #transfor to DataFrame and set the name of columns"
      ],
      "metadata": {
        "id": "Eze4chnNFUTe"
      },
      "execution_count": null,
      "outputs": []
    },
    {
      "cell_type": "code",
      "source": [
        "data['Store_cod'] = data.Store_cod.astype(int) #set Store_cod as integer\n"
      ],
      "metadata": {
        "id": "4Ug8H3PFyCKP"
      },
      "execution_count": null,
      "outputs": []
    },
    {
      "cell_type": "code",
      "source": [
        "data['Product_code'] = data.Product_code.astype(int) #set Product_code as integer\n"
      ],
      "metadata": {
        "id": "wqODTP_kylbi"
      },
      "execution_count": null,
      "outputs": []
    },
    {
      "cell_type": "code",
      "source": [
        "data['Date'] = pd.to_datetime(data.Date) #transfor Date to datetime"
      ],
      "metadata": {
        "id": "BcKjw8pyy7Hp"
      },
      "execution_count": null,
      "outputs": []
    },
    {
      "cell_type": "code",
      "source": [
        ""
      ],
      "metadata": {
        "id": "x-7SdIs26Ui7"
      },
      "execution_count": null,
      "outputs": []
    },
    {
      "cell_type": "code",
      "source": [
        "data.Date.head()"
      ],
      "metadata": {
        "colab": {
          "base_uri": "https://localhost:8080/"
        },
        "id": "l3cCabnxyeyM",
        "outputId": "9f191eb2-9688-46c4-97b6-53b43bdd731d"
      },
      "execution_count": null,
      "outputs": [
        {
          "output_type": "execute_result",
          "data": {
            "text/plain": [
              "0   2019-01-01\n",
              "1   2019-01-02\n",
              "2   2019-01-03\n",
              "3   2019-01-04\n",
              "4   2019-01-05\n",
              "Name: Date, dtype: datetime64[ns]"
            ]
          },
          "metadata": {},
          "execution_count": 569
        }
      ]
    },
    {
      "cell_type": "code",
      "source": [
        "def my_data(vStore_cod, vProduct_code, vDate):\n",
        "  new_data = data.loc[data['Store_cod'] == vStore_cod]\n",
        "  new_data = new_data.loc[data['Product_code'] == vProduct_code]\n",
        "  new_data = new_data.loc[data['Date'] >= vDate[0]]\n",
        "  new_data = new_data.loc[data['Date'] <= vDate[1]]\n",
        "\n",
        "  return new_data\n"
      ],
      "metadata": {
        "id": "Sy6XvzH8GycR"
      },
      "execution_count": null,
      "outputs": []
    },
    {
      "cell_type": "code",
      "source": [
        ""
      ],
      "metadata": {
        "id": "_Gvq8aSx4Pjt"
      },
      "execution_count": null,
      "outputs": []
    },
    {
      "cell_type": "code",
      "source": [
        "data.Product_code.unique()"
      ],
      "metadata": {
        "colab": {
          "base_uri": "https://localhost:8080/"
        },
        "id": "WzlfA0yL3g4G",
        "outputId": "166b49e6-92e5-4885-be8f-c7ba723c0a3f"
      },
      "execution_count": null,
      "outputs": [
        {
          "output_type": "execute_result",
          "data": {
            "text/plain": [
              "array([    18,     48,    172,    275,    311,    365,    485,    589,\n",
              "          614,    626,    707,    868,   1023,   1102,   1111,   1223,\n",
              "         1450,   1501,   1850,   2120,   2218,   2468,   2624,   2772,\n",
              "         2853,   2933,   2947,   2986,   3771,   3775,   4028,   4086,\n",
              "         4210,   4854,   5065,   6019,   6430,   6476,   6479,   6609,\n",
              "         6704,   6710,   7214,   7767,   8154,   8408,  10557,  11645,\n",
              "        11778,  12639,  13311,  19477,  21862,  22101,  22595,  23141,\n",
              "        26793,  33633,  38542,  46824,  50133,  55167,  58664,  67108,\n",
              "        83765,  86166,  96287, 102136, 103198, 105553, 133593, 141288,\n",
              "       151422, 155703, 241404,     10,     11,     12,     13,     14,\n",
              "           15,     17,     19,     20,     21,     22,     23,     24,\n",
              "           25,     27,     28,     29,     30,     31,     32,     33,\n",
              "           34,     35,   1171,   1838,   3155,   5902,   5984,  13089,\n",
              "        19468,  21768,  36075,  38920, 123115, 175754])"
            ]
          },
          "metadata": {},
          "execution_count": 573
        }
      ]
    },
    {
      "cell_type": "code",
      "source": [
        "my_data(1,172,['2019-01-05', '2019-01-31'])"
      ],
      "metadata": {
        "id": "Rq8gOUQBJr9x",
        "colab": {
          "base_uri": "https://localhost:8080/",
          "height": 896
        },
        "outputId": "3d689334-a4e4-453b-88d4-ce05e348163e"
      },
      "execution_count": null,
      "outputs": [
        {
          "output_type": "execute_result",
          "data": {
            "text/plain": [
              "      Store_cod  Product_code       Date Sales_value Sales_qty\n",
              "3730          1           172 2019-01-05      553.15       185\n",
              "3731          1           172 2019-01-06      457.47       153\n",
              "3732          1           172 2019-01-07      460.46       154\n",
              "3733          1           172 2019-01-08      523.25       175\n",
              "3734          1           172 2019-01-09      879.06       294\n",
              "3735          1           172 2019-01-10      732.55       245\n",
              "3736          1           172 2019-01-11      630.89       211\n",
              "3737          1           172 2019-01-12      526.24       176\n",
              "3738          1           172 2019-01-13      472.42       158\n",
              "3739          1           172 2019-01-14      436.54       146\n",
              "3740          1           172 2019-01-15      538.20       180\n",
              "3741          1           172 2019-01-16      888.03       297\n",
              "3742          1           172 2019-01-17      687.70       230\n",
              "3743          1           172 2019-01-18      666.77       223\n",
              "3744          1           172 2019-01-19      550.16       184\n",
              "3745          1           172 2019-01-20      457.47       153\n",
              "3746          1           172 2019-01-21      454.48       152\n",
              "3747          1           172 2019-01-22      490.36       164\n",
              "3748          1           172 2019-01-23      938.86       314\n",
              "3749          1           172 2019-01-24      666.77       223\n",
              "3750          1           172 2019-01-25      675.74       226\n",
              "3751          1           172 2019-01-26      550.16       184\n",
              "3752          1           172 2019-01-27      481.39       161\n",
              "3753          1           172 2019-01-28      460.46       154\n",
              "3754          1           172 2019-01-29      490.36       164\n",
              "3755          1           172 2019-01-30      849.16       284\n",
              "3756          1           172 2019-01-31      696.67       233"
            ],
            "text/html": [
              "\n",
              "  <div id=\"df-885bf24a-e358-4ab2-8449-caae0b6bdf85\">\n",
              "    <div class=\"colab-df-container\">\n",
              "      <div>\n",
              "<style scoped>\n",
              "    .dataframe tbody tr th:only-of-type {\n",
              "        vertical-align: middle;\n",
              "    }\n",
              "\n",
              "    .dataframe tbody tr th {\n",
              "        vertical-align: top;\n",
              "    }\n",
              "\n",
              "    .dataframe thead th {\n",
              "        text-align: right;\n",
              "    }\n",
              "</style>\n",
              "<table border=\"1\" class=\"dataframe\">\n",
              "  <thead>\n",
              "    <tr style=\"text-align: right;\">\n",
              "      <th></th>\n",
              "      <th>Store_cod</th>\n",
              "      <th>Product_code</th>\n",
              "      <th>Date</th>\n",
              "      <th>Sales_value</th>\n",
              "      <th>Sales_qty</th>\n",
              "    </tr>\n",
              "  </thead>\n",
              "  <tbody>\n",
              "    <tr>\n",
              "      <th>3730</th>\n",
              "      <td>1</td>\n",
              "      <td>172</td>\n",
              "      <td>2019-01-05</td>\n",
              "      <td>553.15</td>\n",
              "      <td>185</td>\n",
              "    </tr>\n",
              "    <tr>\n",
              "      <th>3731</th>\n",
              "      <td>1</td>\n",
              "      <td>172</td>\n",
              "      <td>2019-01-06</td>\n",
              "      <td>457.47</td>\n",
              "      <td>153</td>\n",
              "    </tr>\n",
              "    <tr>\n",
              "      <th>3732</th>\n",
              "      <td>1</td>\n",
              "      <td>172</td>\n",
              "      <td>2019-01-07</td>\n",
              "      <td>460.46</td>\n",
              "      <td>154</td>\n",
              "    </tr>\n",
              "    <tr>\n",
              "      <th>3733</th>\n",
              "      <td>1</td>\n",
              "      <td>172</td>\n",
              "      <td>2019-01-08</td>\n",
              "      <td>523.25</td>\n",
              "      <td>175</td>\n",
              "    </tr>\n",
              "    <tr>\n",
              "      <th>3734</th>\n",
              "      <td>1</td>\n",
              "      <td>172</td>\n",
              "      <td>2019-01-09</td>\n",
              "      <td>879.06</td>\n",
              "      <td>294</td>\n",
              "    </tr>\n",
              "    <tr>\n",
              "      <th>3735</th>\n",
              "      <td>1</td>\n",
              "      <td>172</td>\n",
              "      <td>2019-01-10</td>\n",
              "      <td>732.55</td>\n",
              "      <td>245</td>\n",
              "    </tr>\n",
              "    <tr>\n",
              "      <th>3736</th>\n",
              "      <td>1</td>\n",
              "      <td>172</td>\n",
              "      <td>2019-01-11</td>\n",
              "      <td>630.89</td>\n",
              "      <td>211</td>\n",
              "    </tr>\n",
              "    <tr>\n",
              "      <th>3737</th>\n",
              "      <td>1</td>\n",
              "      <td>172</td>\n",
              "      <td>2019-01-12</td>\n",
              "      <td>526.24</td>\n",
              "      <td>176</td>\n",
              "    </tr>\n",
              "    <tr>\n",
              "      <th>3738</th>\n",
              "      <td>1</td>\n",
              "      <td>172</td>\n",
              "      <td>2019-01-13</td>\n",
              "      <td>472.42</td>\n",
              "      <td>158</td>\n",
              "    </tr>\n",
              "    <tr>\n",
              "      <th>3739</th>\n",
              "      <td>1</td>\n",
              "      <td>172</td>\n",
              "      <td>2019-01-14</td>\n",
              "      <td>436.54</td>\n",
              "      <td>146</td>\n",
              "    </tr>\n",
              "    <tr>\n",
              "      <th>3740</th>\n",
              "      <td>1</td>\n",
              "      <td>172</td>\n",
              "      <td>2019-01-15</td>\n",
              "      <td>538.20</td>\n",
              "      <td>180</td>\n",
              "    </tr>\n",
              "    <tr>\n",
              "      <th>3741</th>\n",
              "      <td>1</td>\n",
              "      <td>172</td>\n",
              "      <td>2019-01-16</td>\n",
              "      <td>888.03</td>\n",
              "      <td>297</td>\n",
              "    </tr>\n",
              "    <tr>\n",
              "      <th>3742</th>\n",
              "      <td>1</td>\n",
              "      <td>172</td>\n",
              "      <td>2019-01-17</td>\n",
              "      <td>687.70</td>\n",
              "      <td>230</td>\n",
              "    </tr>\n",
              "    <tr>\n",
              "      <th>3743</th>\n",
              "      <td>1</td>\n",
              "      <td>172</td>\n",
              "      <td>2019-01-18</td>\n",
              "      <td>666.77</td>\n",
              "      <td>223</td>\n",
              "    </tr>\n",
              "    <tr>\n",
              "      <th>3744</th>\n",
              "      <td>1</td>\n",
              "      <td>172</td>\n",
              "      <td>2019-01-19</td>\n",
              "      <td>550.16</td>\n",
              "      <td>184</td>\n",
              "    </tr>\n",
              "    <tr>\n",
              "      <th>3745</th>\n",
              "      <td>1</td>\n",
              "      <td>172</td>\n",
              "      <td>2019-01-20</td>\n",
              "      <td>457.47</td>\n",
              "      <td>153</td>\n",
              "    </tr>\n",
              "    <tr>\n",
              "      <th>3746</th>\n",
              "      <td>1</td>\n",
              "      <td>172</td>\n",
              "      <td>2019-01-21</td>\n",
              "      <td>454.48</td>\n",
              "      <td>152</td>\n",
              "    </tr>\n",
              "    <tr>\n",
              "      <th>3747</th>\n",
              "      <td>1</td>\n",
              "      <td>172</td>\n",
              "      <td>2019-01-22</td>\n",
              "      <td>490.36</td>\n",
              "      <td>164</td>\n",
              "    </tr>\n",
              "    <tr>\n",
              "      <th>3748</th>\n",
              "      <td>1</td>\n",
              "      <td>172</td>\n",
              "      <td>2019-01-23</td>\n",
              "      <td>938.86</td>\n",
              "      <td>314</td>\n",
              "    </tr>\n",
              "    <tr>\n",
              "      <th>3749</th>\n",
              "      <td>1</td>\n",
              "      <td>172</td>\n",
              "      <td>2019-01-24</td>\n",
              "      <td>666.77</td>\n",
              "      <td>223</td>\n",
              "    </tr>\n",
              "    <tr>\n",
              "      <th>3750</th>\n",
              "      <td>1</td>\n",
              "      <td>172</td>\n",
              "      <td>2019-01-25</td>\n",
              "      <td>675.74</td>\n",
              "      <td>226</td>\n",
              "    </tr>\n",
              "    <tr>\n",
              "      <th>3751</th>\n",
              "      <td>1</td>\n",
              "      <td>172</td>\n",
              "      <td>2019-01-26</td>\n",
              "      <td>550.16</td>\n",
              "      <td>184</td>\n",
              "    </tr>\n",
              "    <tr>\n",
              "      <th>3752</th>\n",
              "      <td>1</td>\n",
              "      <td>172</td>\n",
              "      <td>2019-01-27</td>\n",
              "      <td>481.39</td>\n",
              "      <td>161</td>\n",
              "    </tr>\n",
              "    <tr>\n",
              "      <th>3753</th>\n",
              "      <td>1</td>\n",
              "      <td>172</td>\n",
              "      <td>2019-01-28</td>\n",
              "      <td>460.46</td>\n",
              "      <td>154</td>\n",
              "    </tr>\n",
              "    <tr>\n",
              "      <th>3754</th>\n",
              "      <td>1</td>\n",
              "      <td>172</td>\n",
              "      <td>2019-01-29</td>\n",
              "      <td>490.36</td>\n",
              "      <td>164</td>\n",
              "    </tr>\n",
              "    <tr>\n",
              "      <th>3755</th>\n",
              "      <td>1</td>\n",
              "      <td>172</td>\n",
              "      <td>2019-01-30</td>\n",
              "      <td>849.16</td>\n",
              "      <td>284</td>\n",
              "    </tr>\n",
              "    <tr>\n",
              "      <th>3756</th>\n",
              "      <td>1</td>\n",
              "      <td>172</td>\n",
              "      <td>2019-01-31</td>\n",
              "      <td>696.67</td>\n",
              "      <td>233</td>\n",
              "    </tr>\n",
              "  </tbody>\n",
              "</table>\n",
              "</div>\n",
              "      <button class=\"colab-df-convert\" onclick=\"convertToInteractive('df-885bf24a-e358-4ab2-8449-caae0b6bdf85')\"\n",
              "              title=\"Convert this dataframe to an interactive table.\"\n",
              "              style=\"display:none;\">\n",
              "        \n",
              "  <svg xmlns=\"http://www.w3.org/2000/svg\" height=\"24px\"viewBox=\"0 0 24 24\"\n",
              "       width=\"24px\">\n",
              "    <path d=\"M0 0h24v24H0V0z\" fill=\"none\"/>\n",
              "    <path d=\"M18.56 5.44l.94 2.06.94-2.06 2.06-.94-2.06-.94-.94-2.06-.94 2.06-2.06.94zm-11 1L8.5 8.5l.94-2.06 2.06-.94-2.06-.94L8.5 2.5l-.94 2.06-2.06.94zm10 10l.94 2.06.94-2.06 2.06-.94-2.06-.94-.94-2.06-.94 2.06-2.06.94z\"/><path d=\"M17.41 7.96l-1.37-1.37c-.4-.4-.92-.59-1.43-.59-.52 0-1.04.2-1.43.59L10.3 9.45l-7.72 7.72c-.78.78-.78 2.05 0 2.83L4 21.41c.39.39.9.59 1.41.59.51 0 1.02-.2 1.41-.59l7.78-7.78 2.81-2.81c.8-.78.8-2.07 0-2.86zM5.41 20L4 18.59l7.72-7.72 1.47 1.35L5.41 20z\"/>\n",
              "  </svg>\n",
              "      </button>\n",
              "      \n",
              "  <style>\n",
              "    .colab-df-container {\n",
              "      display:flex;\n",
              "      flex-wrap:wrap;\n",
              "      gap: 12px;\n",
              "    }\n",
              "\n",
              "    .colab-df-convert {\n",
              "      background-color: #E8F0FE;\n",
              "      border: none;\n",
              "      border-radius: 50%;\n",
              "      cursor: pointer;\n",
              "      display: none;\n",
              "      fill: #1967D2;\n",
              "      height: 32px;\n",
              "      padding: 0 0 0 0;\n",
              "      width: 32px;\n",
              "    }\n",
              "\n",
              "    .colab-df-convert:hover {\n",
              "      background-color: #E2EBFA;\n",
              "      box-shadow: 0px 1px 2px rgba(60, 64, 67, 0.3), 0px 1px 3px 1px rgba(60, 64, 67, 0.15);\n",
              "      fill: #174EA6;\n",
              "    }\n",
              "\n",
              "    [theme=dark] .colab-df-convert {\n",
              "      background-color: #3B4455;\n",
              "      fill: #D2E3FC;\n",
              "    }\n",
              "\n",
              "    [theme=dark] .colab-df-convert:hover {\n",
              "      background-color: #434B5C;\n",
              "      box-shadow: 0px 1px 3px 1px rgba(0, 0, 0, 0.15);\n",
              "      filter: drop-shadow(0px 1px 2px rgba(0, 0, 0, 0.3));\n",
              "      fill: #FFFFFF;\n",
              "    }\n",
              "  </style>\n",
              "\n",
              "      <script>\n",
              "        const buttonEl =\n",
              "          document.querySelector('#df-885bf24a-e358-4ab2-8449-caae0b6bdf85 button.colab-df-convert');\n",
              "        buttonEl.style.display =\n",
              "          google.colab.kernel.accessAllowed ? 'block' : 'none';\n",
              "\n",
              "        async function convertToInteractive(key) {\n",
              "          const element = document.querySelector('#df-885bf24a-e358-4ab2-8449-caae0b6bdf85');\n",
              "          const dataTable =\n",
              "            await google.colab.kernel.invokeFunction('convertToInteractive',\n",
              "                                                     [key], {});\n",
              "          if (!dataTable) return;\n",
              "\n",
              "          const docLinkHtml = 'Like what you see? Visit the ' +\n",
              "            '<a target=\"_blank\" href=https://colab.research.google.com/notebooks/data_table.ipynb>data table notebook</a>'\n",
              "            + ' to learn more about interactive tables.';\n",
              "          element.innerHTML = '';\n",
              "          dataTable['output_type'] = 'display_data';\n",
              "          await google.colab.output.renderOutput(dataTable, element);\n",
              "          const docLink = document.createElement('div');\n",
              "          docLink.innerHTML = docLinkHtml;\n",
              "          element.appendChild(docLink);\n",
              "        }\n",
              "      </script>\n",
              "    </div>\n",
              "  </div>\n",
              "  "
            ]
          },
          "metadata": {},
          "execution_count": 574
        }
      ]
    },
    {
      "cell_type": "code",
      "source": [
        "teste_new_data = data.loc[data['Date'] >= d[0] ]\n",
        "teste_new_data"
      ],
      "metadata": {
        "id": "YkJh4RbKJ1oy",
        "colab": {
          "base_uri": "https://localhost:8080/",
          "height": 424
        },
        "outputId": "63f32467-07de-4961-ccb6-90ea7402a23d"
      },
      "execution_count": null,
      "outputs": [
        {
          "output_type": "execute_result",
          "data": {
            "text/plain": [
              "         Store_cod  Product_code       Date Sales_value Sales_qty\n",
              "4                1            18 2019-01-05      893.80        82\n",
              "5                1            18 2019-01-06      741.20        68\n",
              "6                1            18 2019-01-07      654.00        60\n",
              "7                1            18 2019-01-08      741.20        68\n",
              "8                1            18 2019-01-09     1373.40       126\n",
              "...            ...           ...        ...         ...       ...\n",
              "2173128          9        241404 2019-12-27     7671.75       193\n",
              "2173129          9        241404 2019-12-28     6201.00       156\n",
              "2173130          9        241404 2019-12-29     4889.25       123\n",
              "2173131          9        241404 2019-12-30     4730.25       119\n",
              "2173132          9        241404 2019-12-31     5127.75       129\n",
              "\n",
              "[458831 rows x 5 columns]"
            ],
            "text/html": [
              "\n",
              "  <div id=\"df-8769a369-b9cf-475c-ae09-395d383c88d4\">\n",
              "    <div class=\"colab-df-container\">\n",
              "      <div>\n",
              "<style scoped>\n",
              "    .dataframe tbody tr th:only-of-type {\n",
              "        vertical-align: middle;\n",
              "    }\n",
              "\n",
              "    .dataframe tbody tr th {\n",
              "        vertical-align: top;\n",
              "    }\n",
              "\n",
              "    .dataframe thead th {\n",
              "        text-align: right;\n",
              "    }\n",
              "</style>\n",
              "<table border=\"1\" class=\"dataframe\">\n",
              "  <thead>\n",
              "    <tr style=\"text-align: right;\">\n",
              "      <th></th>\n",
              "      <th>Store_cod</th>\n",
              "      <th>Product_code</th>\n",
              "      <th>Date</th>\n",
              "      <th>Sales_value</th>\n",
              "      <th>Sales_qty</th>\n",
              "    </tr>\n",
              "  </thead>\n",
              "  <tbody>\n",
              "    <tr>\n",
              "      <th>4</th>\n",
              "      <td>1</td>\n",
              "      <td>18</td>\n",
              "      <td>2019-01-05</td>\n",
              "      <td>893.80</td>\n",
              "      <td>82</td>\n",
              "    </tr>\n",
              "    <tr>\n",
              "      <th>5</th>\n",
              "      <td>1</td>\n",
              "      <td>18</td>\n",
              "      <td>2019-01-06</td>\n",
              "      <td>741.20</td>\n",
              "      <td>68</td>\n",
              "    </tr>\n",
              "    <tr>\n",
              "      <th>6</th>\n",
              "      <td>1</td>\n",
              "      <td>18</td>\n",
              "      <td>2019-01-07</td>\n",
              "      <td>654.00</td>\n",
              "      <td>60</td>\n",
              "    </tr>\n",
              "    <tr>\n",
              "      <th>7</th>\n",
              "      <td>1</td>\n",
              "      <td>18</td>\n",
              "      <td>2019-01-08</td>\n",
              "      <td>741.20</td>\n",
              "      <td>68</td>\n",
              "    </tr>\n",
              "    <tr>\n",
              "      <th>8</th>\n",
              "      <td>1</td>\n",
              "      <td>18</td>\n",
              "      <td>2019-01-09</td>\n",
              "      <td>1373.40</td>\n",
              "      <td>126</td>\n",
              "    </tr>\n",
              "    <tr>\n",
              "      <th>...</th>\n",
              "      <td>...</td>\n",
              "      <td>...</td>\n",
              "      <td>...</td>\n",
              "      <td>...</td>\n",
              "      <td>...</td>\n",
              "    </tr>\n",
              "    <tr>\n",
              "      <th>2173128</th>\n",
              "      <td>9</td>\n",
              "      <td>241404</td>\n",
              "      <td>2019-12-27</td>\n",
              "      <td>7671.75</td>\n",
              "      <td>193</td>\n",
              "    </tr>\n",
              "    <tr>\n",
              "      <th>2173129</th>\n",
              "      <td>9</td>\n",
              "      <td>241404</td>\n",
              "      <td>2019-12-28</td>\n",
              "      <td>6201.00</td>\n",
              "      <td>156</td>\n",
              "    </tr>\n",
              "    <tr>\n",
              "      <th>2173130</th>\n",
              "      <td>9</td>\n",
              "      <td>241404</td>\n",
              "      <td>2019-12-29</td>\n",
              "      <td>4889.25</td>\n",
              "      <td>123</td>\n",
              "    </tr>\n",
              "    <tr>\n",
              "      <th>2173131</th>\n",
              "      <td>9</td>\n",
              "      <td>241404</td>\n",
              "      <td>2019-12-30</td>\n",
              "      <td>4730.25</td>\n",
              "      <td>119</td>\n",
              "    </tr>\n",
              "    <tr>\n",
              "      <th>2173132</th>\n",
              "      <td>9</td>\n",
              "      <td>241404</td>\n",
              "      <td>2019-12-31</td>\n",
              "      <td>5127.75</td>\n",
              "      <td>129</td>\n",
              "    </tr>\n",
              "  </tbody>\n",
              "</table>\n",
              "<p>458831 rows × 5 columns</p>\n",
              "</div>\n",
              "      <button class=\"colab-df-convert\" onclick=\"convertToInteractive('df-8769a369-b9cf-475c-ae09-395d383c88d4')\"\n",
              "              title=\"Convert this dataframe to an interactive table.\"\n",
              "              style=\"display:none;\">\n",
              "        \n",
              "  <svg xmlns=\"http://www.w3.org/2000/svg\" height=\"24px\"viewBox=\"0 0 24 24\"\n",
              "       width=\"24px\">\n",
              "    <path d=\"M0 0h24v24H0V0z\" fill=\"none\"/>\n",
              "    <path d=\"M18.56 5.44l.94 2.06.94-2.06 2.06-.94-2.06-.94-.94-2.06-.94 2.06-2.06.94zm-11 1L8.5 8.5l.94-2.06 2.06-.94-2.06-.94L8.5 2.5l-.94 2.06-2.06.94zm10 10l.94 2.06.94-2.06 2.06-.94-2.06-.94-.94-2.06-.94 2.06-2.06.94z\"/><path d=\"M17.41 7.96l-1.37-1.37c-.4-.4-.92-.59-1.43-.59-.52 0-1.04.2-1.43.59L10.3 9.45l-7.72 7.72c-.78.78-.78 2.05 0 2.83L4 21.41c.39.39.9.59 1.41.59.51 0 1.02-.2 1.41-.59l7.78-7.78 2.81-2.81c.8-.78.8-2.07 0-2.86zM5.41 20L4 18.59l7.72-7.72 1.47 1.35L5.41 20z\"/>\n",
              "  </svg>\n",
              "      </button>\n",
              "      \n",
              "  <style>\n",
              "    .colab-df-container {\n",
              "      display:flex;\n",
              "      flex-wrap:wrap;\n",
              "      gap: 12px;\n",
              "    }\n",
              "\n",
              "    .colab-df-convert {\n",
              "      background-color: #E8F0FE;\n",
              "      border: none;\n",
              "      border-radius: 50%;\n",
              "      cursor: pointer;\n",
              "      display: none;\n",
              "      fill: #1967D2;\n",
              "      height: 32px;\n",
              "      padding: 0 0 0 0;\n",
              "      width: 32px;\n",
              "    }\n",
              "\n",
              "    .colab-df-convert:hover {\n",
              "      background-color: #E2EBFA;\n",
              "      box-shadow: 0px 1px 2px rgba(60, 64, 67, 0.3), 0px 1px 3px 1px rgba(60, 64, 67, 0.15);\n",
              "      fill: #174EA6;\n",
              "    }\n",
              "\n",
              "    [theme=dark] .colab-df-convert {\n",
              "      background-color: #3B4455;\n",
              "      fill: #D2E3FC;\n",
              "    }\n",
              "\n",
              "    [theme=dark] .colab-df-convert:hover {\n",
              "      background-color: #434B5C;\n",
              "      box-shadow: 0px 1px 3px 1px rgba(0, 0, 0, 0.15);\n",
              "      filter: drop-shadow(0px 1px 2px rgba(0, 0, 0, 0.3));\n",
              "      fill: #FFFFFF;\n",
              "    }\n",
              "  </style>\n",
              "\n",
              "      <script>\n",
              "        const buttonEl =\n",
              "          document.querySelector('#df-8769a369-b9cf-475c-ae09-395d383c88d4 button.colab-df-convert');\n",
              "        buttonEl.style.display =\n",
              "          google.colab.kernel.accessAllowed ? 'block' : 'none';\n",
              "\n",
              "        async function convertToInteractive(key) {\n",
              "          const element = document.querySelector('#df-8769a369-b9cf-475c-ae09-395d383c88d4');\n",
              "          const dataTable =\n",
              "            await google.colab.kernel.invokeFunction('convertToInteractive',\n",
              "                                                     [key], {});\n",
              "          if (!dataTable) return;\n",
              "\n",
              "          const docLinkHtml = 'Like what you see? Visit the ' +\n",
              "            '<a target=\"_blank\" href=https://colab.research.google.com/notebooks/data_table.ipynb>data table notebook</a>'\n",
              "            + ' to learn more about interactive tables.';\n",
              "          element.innerHTML = '';\n",
              "          dataTable['output_type'] = 'display_data';\n",
              "          await google.colab.output.renderOutput(dataTable, element);\n",
              "          const docLink = document.createElement('div');\n",
              "          docLink.innerHTML = docLinkHtml;\n",
              "          element.appendChild(docLink);\n",
              "        }\n",
              "      </script>\n",
              "    </div>\n",
              "  </div>\n",
              "  "
            ]
          },
          "metadata": {},
          "execution_count": 555
        }
      ]
    },
    {
      "cell_type": "code",
      "source": [
        "d = ['2019-01-05', '2019-01-31'] "
      ],
      "metadata": {
        "id": "y8QUVgp9J7We"
      },
      "execution_count": null,
      "outputs": []
    },
    {
      "cell_type": "code",
      "source": [
        "data.head()"
      ],
      "metadata": {
        "colab": {
          "base_uri": "https://localhost:8080/",
          "height": 206
        },
        "id": "GUi3aoup0yCM",
        "outputId": "0a653c26-11ef-4d3c-f49d-a96124f6856e"
      },
      "execution_count": null,
      "outputs": [
        {
          "output_type": "execute_result",
          "data": {
            "text/plain": [
              "   Store_cod  Product_code       Date Sales_value Sales_qty\n",
              "0          1            18 2019-01-01      708.50        65\n",
              "1          1            18 2019-01-02     1297.10       119\n",
              "2          1            18 2019-01-03     1144.50       105\n",
              "3          1            18 2019-01-04     1090.00       100\n",
              "4          1            18 2019-01-05      893.80        82"
            ],
            "text/html": [
              "\n",
              "  <div id=\"df-66844c4f-32c1-4e6f-bb6a-d181459d26f9\">\n",
              "    <div class=\"colab-df-container\">\n",
              "      <div>\n",
              "<style scoped>\n",
              "    .dataframe tbody tr th:only-of-type {\n",
              "        vertical-align: middle;\n",
              "    }\n",
              "\n",
              "    .dataframe tbody tr th {\n",
              "        vertical-align: top;\n",
              "    }\n",
              "\n",
              "    .dataframe thead th {\n",
              "        text-align: right;\n",
              "    }\n",
              "</style>\n",
              "<table border=\"1\" class=\"dataframe\">\n",
              "  <thead>\n",
              "    <tr style=\"text-align: right;\">\n",
              "      <th></th>\n",
              "      <th>Store_cod</th>\n",
              "      <th>Product_code</th>\n",
              "      <th>Date</th>\n",
              "      <th>Sales_value</th>\n",
              "      <th>Sales_qty</th>\n",
              "    </tr>\n",
              "  </thead>\n",
              "  <tbody>\n",
              "    <tr>\n",
              "      <th>0</th>\n",
              "      <td>1</td>\n",
              "      <td>18</td>\n",
              "      <td>2019-01-01</td>\n",
              "      <td>708.50</td>\n",
              "      <td>65</td>\n",
              "    </tr>\n",
              "    <tr>\n",
              "      <th>1</th>\n",
              "      <td>1</td>\n",
              "      <td>18</td>\n",
              "      <td>2019-01-02</td>\n",
              "      <td>1297.10</td>\n",
              "      <td>119</td>\n",
              "    </tr>\n",
              "    <tr>\n",
              "      <th>2</th>\n",
              "      <td>1</td>\n",
              "      <td>18</td>\n",
              "      <td>2019-01-03</td>\n",
              "      <td>1144.50</td>\n",
              "      <td>105</td>\n",
              "    </tr>\n",
              "    <tr>\n",
              "      <th>3</th>\n",
              "      <td>1</td>\n",
              "      <td>18</td>\n",
              "      <td>2019-01-04</td>\n",
              "      <td>1090.00</td>\n",
              "      <td>100</td>\n",
              "    </tr>\n",
              "    <tr>\n",
              "      <th>4</th>\n",
              "      <td>1</td>\n",
              "      <td>18</td>\n",
              "      <td>2019-01-05</td>\n",
              "      <td>893.80</td>\n",
              "      <td>82</td>\n",
              "    </tr>\n",
              "  </tbody>\n",
              "</table>\n",
              "</div>\n",
              "      <button class=\"colab-df-convert\" onclick=\"convertToInteractive('df-66844c4f-32c1-4e6f-bb6a-d181459d26f9')\"\n",
              "              title=\"Convert this dataframe to an interactive table.\"\n",
              "              style=\"display:none;\">\n",
              "        \n",
              "  <svg xmlns=\"http://www.w3.org/2000/svg\" height=\"24px\"viewBox=\"0 0 24 24\"\n",
              "       width=\"24px\">\n",
              "    <path d=\"M0 0h24v24H0V0z\" fill=\"none\"/>\n",
              "    <path d=\"M18.56 5.44l.94 2.06.94-2.06 2.06-.94-2.06-.94-.94-2.06-.94 2.06-2.06.94zm-11 1L8.5 8.5l.94-2.06 2.06-.94-2.06-.94L8.5 2.5l-.94 2.06-2.06.94zm10 10l.94 2.06.94-2.06 2.06-.94-2.06-.94-.94-2.06-.94 2.06-2.06.94z\"/><path d=\"M17.41 7.96l-1.37-1.37c-.4-.4-.92-.59-1.43-.59-.52 0-1.04.2-1.43.59L10.3 9.45l-7.72 7.72c-.78.78-.78 2.05 0 2.83L4 21.41c.39.39.9.59 1.41.59.51 0 1.02-.2 1.41-.59l7.78-7.78 2.81-2.81c.8-.78.8-2.07 0-2.86zM5.41 20L4 18.59l7.72-7.72 1.47 1.35L5.41 20z\"/>\n",
              "  </svg>\n",
              "      </button>\n",
              "      \n",
              "  <style>\n",
              "    .colab-df-container {\n",
              "      display:flex;\n",
              "      flex-wrap:wrap;\n",
              "      gap: 12px;\n",
              "    }\n",
              "\n",
              "    .colab-df-convert {\n",
              "      background-color: #E8F0FE;\n",
              "      border: none;\n",
              "      border-radius: 50%;\n",
              "      cursor: pointer;\n",
              "      display: none;\n",
              "      fill: #1967D2;\n",
              "      height: 32px;\n",
              "      padding: 0 0 0 0;\n",
              "      width: 32px;\n",
              "    }\n",
              "\n",
              "    .colab-df-convert:hover {\n",
              "      background-color: #E2EBFA;\n",
              "      box-shadow: 0px 1px 2px rgba(60, 64, 67, 0.3), 0px 1px 3px 1px rgba(60, 64, 67, 0.15);\n",
              "      fill: #174EA6;\n",
              "    }\n",
              "\n",
              "    [theme=dark] .colab-df-convert {\n",
              "      background-color: #3B4455;\n",
              "      fill: #D2E3FC;\n",
              "    }\n",
              "\n",
              "    [theme=dark] .colab-df-convert:hover {\n",
              "      background-color: #434B5C;\n",
              "      box-shadow: 0px 1px 3px 1px rgba(0, 0, 0, 0.15);\n",
              "      filter: drop-shadow(0px 1px 2px rgba(0, 0, 0, 0.3));\n",
              "      fill: #FFFFFF;\n",
              "    }\n",
              "  </style>\n",
              "\n",
              "      <script>\n",
              "        const buttonEl =\n",
              "          document.querySelector('#df-66844c4f-32c1-4e6f-bb6a-d181459d26f9 button.colab-df-convert');\n",
              "        buttonEl.style.display =\n",
              "          google.colab.kernel.accessAllowed ? 'block' : 'none';\n",
              "\n",
              "        async function convertToInteractive(key) {\n",
              "          const element = document.querySelector('#df-66844c4f-32c1-4e6f-bb6a-d181459d26f9');\n",
              "          const dataTable =\n",
              "            await google.colab.kernel.invokeFunction('convertToInteractive',\n",
              "                                                     [key], {});\n",
              "          if (!dataTable) return;\n",
              "\n",
              "          const docLinkHtml = 'Like what you see? Visit the ' +\n",
              "            '<a target=\"_blank\" href=https://colab.research.google.com/notebooks/data_table.ipynb>data table notebook</a>'\n",
              "            + ' to learn more about interactive tables.';\n",
              "          element.innerHTML = '';\n",
              "          dataTable['output_type'] = 'display_data';\n",
              "          await google.colab.output.renderOutput(dataTable, element);\n",
              "          const docLink = document.createElement('div');\n",
              "          docLink.innerHTML = docLinkHtml;\n",
              "          element.appendChild(docLink);\n",
              "        }\n",
              "      </script>\n",
              "    </div>\n",
              "  </div>\n",
              "  "
            ]
          },
          "metadata": {},
          "execution_count": 551
        }
      ]
    },
    {
      "cell_type": "code",
      "source": [
        ""
      ],
      "metadata": {
        "id": "hb19iPBK0x5j"
      },
      "execution_count": null,
      "outputs": []
    },
    {
      "cell_type": "markdown",
      "source": [
        "# Question 2"
      ],
      "metadata": {
        "id": "fot2PguOgWKg"
      }
    },
    {
      "cell_type": "markdown",
      "source": [
        "## Importing"
      ],
      "metadata": {
        "id": "XPANtg22Ufjb"
      }
    },
    {
      "cell_type": "code",
      "source": [
        "mycursor.execute(\"SELECT STORE_CODE, STORE_NAME, START_DATE, END_DATE, BUSINESS_NAME, BUSINESS_CODE FROM data_store_cad LIMIT 100\") #use query 1\n",
        "query1 = mycursor.fetchall() #fetches all results and put in query1"
      ],
      "metadata": {
        "id": "-4rtG04igaSI"
      },
      "execution_count": null,
      "outputs": []
    },
    {
      "cell_type": "code",
      "source": [
        "mycursor.execute(\"SELECT STORE_CODE, DATE, SALES_VALUE, SALES_QTY FROM data_store_sales WHERE DATE BETWEEN '2019-01-01' AND '2019-12-31'\") #use query 2\n",
        "query2 = mycursor.fetchall() #fetches all results and put in query2"
      ],
      "metadata": {
        "id": "3mg13ahBBCEw"
      },
      "execution_count": null,
      "outputs": []
    },
    {
      "cell_type": "markdown",
      "source": [
        "## Transforming Data"
      ],
      "metadata": {
        "id": "JcgrXPxHUnqx"
      }
    },
    {
      "cell_type": "code",
      "source": [
        "df1 = pd.DataFrame(query1, columns = ['Store_cod', 'Product_code', 'Start_Date','End_Date', 'Business_Name', 'Business_code']) #tranform query 1 to dataframe and chose the name of columns\n",
        "df2 = pd.DataFrame(query2, columns = ['Store_cod', 'Date', 'Sale_value', 'Sales_qty']) ##tranform query 2 to dataframe and chose the name of columns"
      ],
      "metadata": {
        "id": "xNG4Is8Fgmts"
      },
      "execution_count": null,
      "outputs": []
    },
    {
      "cell_type": "code",
      "source": [
        "df1.Start_Date.dtypes #check type of column"
      ],
      "metadata": {
        "id": "_YBGDNwWg6qA",
        "colab": {
          "base_uri": "https://localhost:8080/"
        },
        "outputId": "49c69146-6200-4e53-8f37-b4672d27bef8"
      },
      "execution_count": null,
      "outputs": [
        {
          "output_type": "execute_result",
          "data": {
            "text/plain": [
              "dtype('O')"
            ]
          },
          "metadata": {},
          "execution_count": 204
        }
      ]
    },
    {
      "cell_type": "code",
      "source": [
        "df1['Start_Date'] = pd.to_datetime(df1.Start_Date) #transform to date  the columns Start_Date, because was imported as object\n",
        "df2['Date'] = pd.to_datetime(df2.Date) #transform to date  the columns Date"
      ],
      "metadata": {
        "id": "pOo-h4kaGVJI"
      },
      "execution_count": null,
      "outputs": []
    },
    {
      "cell_type": "markdown",
      "source": [
        "## Filtering Data"
      ],
      "metadata": {
        "id": "BpK-NSdzUwo6"
      }
    },
    {
      "cell_type": "code",
      "source": [
        "df2 = df2[(df2['Date'] > '2019-12-01') & (df2['Date'] < '2019-12-31')] #filter query 2 as asked"
      ],
      "metadata": {
        "id": "HkIx58E8Bzt7"
      },
      "execution_count": null,
      "outputs": []
    },
    {
      "cell_type": "markdown",
      "source": [
        "## Calculate ticket value"
      ],
      "metadata": {
        "id": "2e0Y59cZV7K-"
      }
    },
    {
      "cell_type": "code",
      "source": [
        "df2['Ticket'] = df2.Sale_value/df2.Sales_qty #Calculate ticket value"
      ],
      "metadata": {
        "id": "hZvGBGGCN18x"
      },
      "execution_count": null,
      "outputs": []
    },
    {
      "cell_type": "code",
      "source": [
        "df2"
      ],
      "metadata": {
        "id": "lvJ8vBbRN7kh",
        "colab": {
          "base_uri": "https://localhost:8080/"
        },
        "outputId": "dda722a0-4b19-4263-b2c0-c4c385ef747b"
      },
      "execution_count": null,
      "outputs": [
        {
          "output_type": "execute_result",
          "data": {
            "text/plain": [
              "      Store_cod       Date  Sale_value  Sales_qty     Ticket\n",
              "6700          1 2019-12-02   170756.36      11085  15.404272\n",
              "6701         10 2019-12-02   122944.35       4649  26.445332\n",
              "6702         11 2019-12-02   222921.67       7513  29.671459\n",
              "6703         12 2019-12-02   197926.09       6797  29.119625\n",
              "6704         13 2019-12-02   170756.36      11085  15.404272\n",
              "...         ...        ...         ...        ...        ...\n",
              "7275          5 2019-12-30   169775.21      11035  15.385157\n",
              "7276          6 2019-12-30   169775.21      11035  15.385157\n",
              "7277          7 2019-12-30   169775.21      11035  15.385157\n",
              "7278          8 2019-12-30   168003.11      10936  15.362391\n",
              "7279          9 2019-12-30   154459.78       5328  28.990199\n",
              "\n",
              "[580 rows x 5 columns]"
            ],
            "text/html": [
              "\n",
              "  <div id=\"df-4be98ff9-f023-4714-b3fe-f9683f8ed9a2\">\n",
              "    <div class=\"colab-df-container\">\n",
              "      <div>\n",
              "<style scoped>\n",
              "    .dataframe tbody tr th:only-of-type {\n",
              "        vertical-align: middle;\n",
              "    }\n",
              "\n",
              "    .dataframe tbody tr th {\n",
              "        vertical-align: top;\n",
              "    }\n",
              "\n",
              "    .dataframe thead th {\n",
              "        text-align: right;\n",
              "    }\n",
              "</style>\n",
              "<table border=\"1\" class=\"dataframe\">\n",
              "  <thead>\n",
              "    <tr style=\"text-align: right;\">\n",
              "      <th></th>\n",
              "      <th>Store_cod</th>\n",
              "      <th>Date</th>\n",
              "      <th>Sale_value</th>\n",
              "      <th>Sales_qty</th>\n",
              "      <th>Ticket</th>\n",
              "    </tr>\n",
              "  </thead>\n",
              "  <tbody>\n",
              "    <tr>\n",
              "      <th>6700</th>\n",
              "      <td>1</td>\n",
              "      <td>2019-12-02</td>\n",
              "      <td>170756.36</td>\n",
              "      <td>11085</td>\n",
              "      <td>15.404272</td>\n",
              "    </tr>\n",
              "    <tr>\n",
              "      <th>6701</th>\n",
              "      <td>10</td>\n",
              "      <td>2019-12-02</td>\n",
              "      <td>122944.35</td>\n",
              "      <td>4649</td>\n",
              "      <td>26.445332</td>\n",
              "    </tr>\n",
              "    <tr>\n",
              "      <th>6702</th>\n",
              "      <td>11</td>\n",
              "      <td>2019-12-02</td>\n",
              "      <td>222921.67</td>\n",
              "      <td>7513</td>\n",
              "      <td>29.671459</td>\n",
              "    </tr>\n",
              "    <tr>\n",
              "      <th>6703</th>\n",
              "      <td>12</td>\n",
              "      <td>2019-12-02</td>\n",
              "      <td>197926.09</td>\n",
              "      <td>6797</td>\n",
              "      <td>29.119625</td>\n",
              "    </tr>\n",
              "    <tr>\n",
              "      <th>6704</th>\n",
              "      <td>13</td>\n",
              "      <td>2019-12-02</td>\n",
              "      <td>170756.36</td>\n",
              "      <td>11085</td>\n",
              "      <td>15.404272</td>\n",
              "    </tr>\n",
              "    <tr>\n",
              "      <th>...</th>\n",
              "      <td>...</td>\n",
              "      <td>...</td>\n",
              "      <td>...</td>\n",
              "      <td>...</td>\n",
              "      <td>...</td>\n",
              "    </tr>\n",
              "    <tr>\n",
              "      <th>7275</th>\n",
              "      <td>5</td>\n",
              "      <td>2019-12-30</td>\n",
              "      <td>169775.21</td>\n",
              "      <td>11035</td>\n",
              "      <td>15.385157</td>\n",
              "    </tr>\n",
              "    <tr>\n",
              "      <th>7276</th>\n",
              "      <td>6</td>\n",
              "      <td>2019-12-30</td>\n",
              "      <td>169775.21</td>\n",
              "      <td>11035</td>\n",
              "      <td>15.385157</td>\n",
              "    </tr>\n",
              "    <tr>\n",
              "      <th>7277</th>\n",
              "      <td>7</td>\n",
              "      <td>2019-12-30</td>\n",
              "      <td>169775.21</td>\n",
              "      <td>11035</td>\n",
              "      <td>15.385157</td>\n",
              "    </tr>\n",
              "    <tr>\n",
              "      <th>7278</th>\n",
              "      <td>8</td>\n",
              "      <td>2019-12-30</td>\n",
              "      <td>168003.11</td>\n",
              "      <td>10936</td>\n",
              "      <td>15.362391</td>\n",
              "    </tr>\n",
              "    <tr>\n",
              "      <th>7279</th>\n",
              "      <td>9</td>\n",
              "      <td>2019-12-30</td>\n",
              "      <td>154459.78</td>\n",
              "      <td>5328</td>\n",
              "      <td>28.990199</td>\n",
              "    </tr>\n",
              "  </tbody>\n",
              "</table>\n",
              "<p>580 rows × 5 columns</p>\n",
              "</div>\n",
              "      <button class=\"colab-df-convert\" onclick=\"convertToInteractive('df-4be98ff9-f023-4714-b3fe-f9683f8ed9a2')\"\n",
              "              title=\"Convert this dataframe to an interactive table.\"\n",
              "              style=\"display:none;\">\n",
              "        \n",
              "  <svg xmlns=\"http://www.w3.org/2000/svg\" height=\"24px\"viewBox=\"0 0 24 24\"\n",
              "       width=\"24px\">\n",
              "    <path d=\"M0 0h24v24H0V0z\" fill=\"none\"/>\n",
              "    <path d=\"M18.56 5.44l.94 2.06.94-2.06 2.06-.94-2.06-.94-.94-2.06-.94 2.06-2.06.94zm-11 1L8.5 8.5l.94-2.06 2.06-.94-2.06-.94L8.5 2.5l-.94 2.06-2.06.94zm10 10l.94 2.06.94-2.06 2.06-.94-2.06-.94-.94-2.06-.94 2.06-2.06.94z\"/><path d=\"M17.41 7.96l-1.37-1.37c-.4-.4-.92-.59-1.43-.59-.52 0-1.04.2-1.43.59L10.3 9.45l-7.72 7.72c-.78.78-.78 2.05 0 2.83L4 21.41c.39.39.9.59 1.41.59.51 0 1.02-.2 1.41-.59l7.78-7.78 2.81-2.81c.8-.78.8-2.07 0-2.86zM5.41 20L4 18.59l7.72-7.72 1.47 1.35L5.41 20z\"/>\n",
              "  </svg>\n",
              "      </button>\n",
              "      \n",
              "  <style>\n",
              "    .colab-df-container {\n",
              "      display:flex;\n",
              "      flex-wrap:wrap;\n",
              "      gap: 12px;\n",
              "    }\n",
              "\n",
              "    .colab-df-convert {\n",
              "      background-color: #E8F0FE;\n",
              "      border: none;\n",
              "      border-radius: 50%;\n",
              "      cursor: pointer;\n",
              "      display: none;\n",
              "      fill: #1967D2;\n",
              "      height: 32px;\n",
              "      padding: 0 0 0 0;\n",
              "      width: 32px;\n",
              "    }\n",
              "\n",
              "    .colab-df-convert:hover {\n",
              "      background-color: #E2EBFA;\n",
              "      box-shadow: 0px 1px 2px rgba(60, 64, 67, 0.3), 0px 1px 3px 1px rgba(60, 64, 67, 0.15);\n",
              "      fill: #174EA6;\n",
              "    }\n",
              "\n",
              "    [theme=dark] .colab-df-convert {\n",
              "      background-color: #3B4455;\n",
              "      fill: #D2E3FC;\n",
              "    }\n",
              "\n",
              "    [theme=dark] .colab-df-convert:hover {\n",
              "      background-color: #434B5C;\n",
              "      box-shadow: 0px 1px 3px 1px rgba(0, 0, 0, 0.15);\n",
              "      filter: drop-shadow(0px 1px 2px rgba(0, 0, 0, 0.3));\n",
              "      fill: #FFFFFF;\n",
              "    }\n",
              "  </style>\n",
              "\n",
              "      <script>\n",
              "        const buttonEl =\n",
              "          document.querySelector('#df-4be98ff9-f023-4714-b3fe-f9683f8ed9a2 button.colab-df-convert');\n",
              "        buttonEl.style.display =\n",
              "          google.colab.kernel.accessAllowed ? 'block' : 'none';\n",
              "\n",
              "        async function convertToInteractive(key) {\n",
              "          const element = document.querySelector('#df-4be98ff9-f023-4714-b3fe-f9683f8ed9a2');\n",
              "          const dataTable =\n",
              "            await google.colab.kernel.invokeFunction('convertToInteractive',\n",
              "                                                     [key], {});\n",
              "          if (!dataTable) return;\n",
              "\n",
              "          const docLinkHtml = 'Like what you see? Visit the ' +\n",
              "            '<a target=\"_blank\" href=https://colab.research.google.com/notebooks/data_table.ipynb>data table notebook</a>'\n",
              "            + ' to learn more about interactive tables.';\n",
              "          element.innerHTML = '';\n",
              "          dataTable['output_type'] = 'display_data';\n",
              "          await google.colab.output.renderOutput(dataTable, element);\n",
              "          const docLink = document.createElement('div');\n",
              "          docLink.innerHTML = docLinkHtml;\n",
              "          element.appendChild(docLink);\n",
              "        }\n",
              "      </script>\n",
              "    </div>\n",
              "  </div>\n",
              "  "
            ]
          },
          "metadata": {},
          "execution_count": 208
        }
      ]
    },
    {
      "cell_type": "markdown",
      "source": [
        "## Merge the columns"
      ],
      "metadata": {
        "id": "D2mWhO_tWAsJ"
      }
    },
    {
      "cell_type": "code",
      "source": [
        "df0 = pd.merge(df2, df1, on = 'Store_cod') #merge two columns (query1 and query2)\n",
        "df0"
      ],
      "metadata": {
        "id": "IdajzrrGF5Hz",
        "colab": {
          "base_uri": "https://localhost:8080/"
        },
        "outputId": "746559cb-178d-4cd0-88b4-52f0fb2ac207"
      },
      "execution_count": null,
      "outputs": [
        {
          "output_type": "execute_result",
          "data": {
            "text/plain": [
              "     Store_cod       Date  Sale_value  Sales_qty     Ticket Product_code  \\\n",
              "0            1 2019-12-02   170756.36      11085  15.404272    Sao Paulo   \n",
              "1            1 2019-12-03   196899.17      12805  15.376741    Sao Paulo   \n",
              "2            1 2019-12-04   341691.51      22195  15.394977    Sao Paulo   \n",
              "3            1 2019-12-05   296725.34      19332  15.348921    Sao Paulo   \n",
              "4            1 2019-12-06   244171.36      15800  15.453884    Sao Paulo   \n",
              "..         ...        ...         ...        ...        ...          ...   \n",
              "575          9 2019-12-26   236975.89       8170  29.005617       London   \n",
              "576          9 2019-12-27   249839.86       8622  28.977019       London   \n",
              "577          9 2019-12-28   201536.13       6958  28.964664       London   \n",
              "578          9 2019-12-29   159300.08       5497  28.979458       London   \n",
              "579          9 2019-12-30   154459.78       5328  28.990199       London   \n",
              "\n",
              "    Start_Date End_Date Business_Name  Business_code  \n",
              "0   2006-10-01                 Varejo              1  \n",
              "1   2006-10-01                 Varejo              1  \n",
              "2   2006-10-01                 Varejo              1  \n",
              "3   2006-10-01                 Varejo              1  \n",
              "4   2006-10-01                 Varejo              1  \n",
              "..         ...      ...           ...            ...  \n",
              "575 2014-10-01                  Farma              4  \n",
              "576 2014-10-01                  Farma              4  \n",
              "577 2014-10-01                  Farma              4  \n",
              "578 2014-10-01                  Farma              4  \n",
              "579 2014-10-01                  Farma              4  \n",
              "\n",
              "[580 rows x 10 columns]"
            ],
            "text/html": [
              "\n",
              "  <div id=\"df-9123f62d-aece-4cdc-bcb3-ee266980aee8\">\n",
              "    <div class=\"colab-df-container\">\n",
              "      <div>\n",
              "<style scoped>\n",
              "    .dataframe tbody tr th:only-of-type {\n",
              "        vertical-align: middle;\n",
              "    }\n",
              "\n",
              "    .dataframe tbody tr th {\n",
              "        vertical-align: top;\n",
              "    }\n",
              "\n",
              "    .dataframe thead th {\n",
              "        text-align: right;\n",
              "    }\n",
              "</style>\n",
              "<table border=\"1\" class=\"dataframe\">\n",
              "  <thead>\n",
              "    <tr style=\"text-align: right;\">\n",
              "      <th></th>\n",
              "      <th>Store_cod</th>\n",
              "      <th>Date</th>\n",
              "      <th>Sale_value</th>\n",
              "      <th>Sales_qty</th>\n",
              "      <th>Ticket</th>\n",
              "      <th>Product_code</th>\n",
              "      <th>Start_Date</th>\n",
              "      <th>End_Date</th>\n",
              "      <th>Business_Name</th>\n",
              "      <th>Business_code</th>\n",
              "    </tr>\n",
              "  </thead>\n",
              "  <tbody>\n",
              "    <tr>\n",
              "      <th>0</th>\n",
              "      <td>1</td>\n",
              "      <td>2019-12-02</td>\n",
              "      <td>170756.36</td>\n",
              "      <td>11085</td>\n",
              "      <td>15.404272</td>\n",
              "      <td>Sao Paulo</td>\n",
              "      <td>2006-10-01</td>\n",
              "      <td></td>\n",
              "      <td>Varejo</td>\n",
              "      <td>1</td>\n",
              "    </tr>\n",
              "    <tr>\n",
              "      <th>1</th>\n",
              "      <td>1</td>\n",
              "      <td>2019-12-03</td>\n",
              "      <td>196899.17</td>\n",
              "      <td>12805</td>\n",
              "      <td>15.376741</td>\n",
              "      <td>Sao Paulo</td>\n",
              "      <td>2006-10-01</td>\n",
              "      <td></td>\n",
              "      <td>Varejo</td>\n",
              "      <td>1</td>\n",
              "    </tr>\n",
              "    <tr>\n",
              "      <th>2</th>\n",
              "      <td>1</td>\n",
              "      <td>2019-12-04</td>\n",
              "      <td>341691.51</td>\n",
              "      <td>22195</td>\n",
              "      <td>15.394977</td>\n",
              "      <td>Sao Paulo</td>\n",
              "      <td>2006-10-01</td>\n",
              "      <td></td>\n",
              "      <td>Varejo</td>\n",
              "      <td>1</td>\n",
              "    </tr>\n",
              "    <tr>\n",
              "      <th>3</th>\n",
              "      <td>1</td>\n",
              "      <td>2019-12-05</td>\n",
              "      <td>296725.34</td>\n",
              "      <td>19332</td>\n",
              "      <td>15.348921</td>\n",
              "      <td>Sao Paulo</td>\n",
              "      <td>2006-10-01</td>\n",
              "      <td></td>\n",
              "      <td>Varejo</td>\n",
              "      <td>1</td>\n",
              "    </tr>\n",
              "    <tr>\n",
              "      <th>4</th>\n",
              "      <td>1</td>\n",
              "      <td>2019-12-06</td>\n",
              "      <td>244171.36</td>\n",
              "      <td>15800</td>\n",
              "      <td>15.453884</td>\n",
              "      <td>Sao Paulo</td>\n",
              "      <td>2006-10-01</td>\n",
              "      <td></td>\n",
              "      <td>Varejo</td>\n",
              "      <td>1</td>\n",
              "    </tr>\n",
              "    <tr>\n",
              "      <th>...</th>\n",
              "      <td>...</td>\n",
              "      <td>...</td>\n",
              "      <td>...</td>\n",
              "      <td>...</td>\n",
              "      <td>...</td>\n",
              "      <td>...</td>\n",
              "      <td>...</td>\n",
              "      <td>...</td>\n",
              "      <td>...</td>\n",
              "      <td>...</td>\n",
              "    </tr>\n",
              "    <tr>\n",
              "      <th>575</th>\n",
              "      <td>9</td>\n",
              "      <td>2019-12-26</td>\n",
              "      <td>236975.89</td>\n",
              "      <td>8170</td>\n",
              "      <td>29.005617</td>\n",
              "      <td>London</td>\n",
              "      <td>2014-10-01</td>\n",
              "      <td></td>\n",
              "      <td>Farma</td>\n",
              "      <td>4</td>\n",
              "    </tr>\n",
              "    <tr>\n",
              "      <th>576</th>\n",
              "      <td>9</td>\n",
              "      <td>2019-12-27</td>\n",
              "      <td>249839.86</td>\n",
              "      <td>8622</td>\n",
              "      <td>28.977019</td>\n",
              "      <td>London</td>\n",
              "      <td>2014-10-01</td>\n",
              "      <td></td>\n",
              "      <td>Farma</td>\n",
              "      <td>4</td>\n",
              "    </tr>\n",
              "    <tr>\n",
              "      <th>577</th>\n",
              "      <td>9</td>\n",
              "      <td>2019-12-28</td>\n",
              "      <td>201536.13</td>\n",
              "      <td>6958</td>\n",
              "      <td>28.964664</td>\n",
              "      <td>London</td>\n",
              "      <td>2014-10-01</td>\n",
              "      <td></td>\n",
              "      <td>Farma</td>\n",
              "      <td>4</td>\n",
              "    </tr>\n",
              "    <tr>\n",
              "      <th>578</th>\n",
              "      <td>9</td>\n",
              "      <td>2019-12-29</td>\n",
              "      <td>159300.08</td>\n",
              "      <td>5497</td>\n",
              "      <td>28.979458</td>\n",
              "      <td>London</td>\n",
              "      <td>2014-10-01</td>\n",
              "      <td></td>\n",
              "      <td>Farma</td>\n",
              "      <td>4</td>\n",
              "    </tr>\n",
              "    <tr>\n",
              "      <th>579</th>\n",
              "      <td>9</td>\n",
              "      <td>2019-12-30</td>\n",
              "      <td>154459.78</td>\n",
              "      <td>5328</td>\n",
              "      <td>28.990199</td>\n",
              "      <td>London</td>\n",
              "      <td>2014-10-01</td>\n",
              "      <td></td>\n",
              "      <td>Farma</td>\n",
              "      <td>4</td>\n",
              "    </tr>\n",
              "  </tbody>\n",
              "</table>\n",
              "<p>580 rows × 10 columns</p>\n",
              "</div>\n",
              "      <button class=\"colab-df-convert\" onclick=\"convertToInteractive('df-9123f62d-aece-4cdc-bcb3-ee266980aee8')\"\n",
              "              title=\"Convert this dataframe to an interactive table.\"\n",
              "              style=\"display:none;\">\n",
              "        \n",
              "  <svg xmlns=\"http://www.w3.org/2000/svg\" height=\"24px\"viewBox=\"0 0 24 24\"\n",
              "       width=\"24px\">\n",
              "    <path d=\"M0 0h24v24H0V0z\" fill=\"none\"/>\n",
              "    <path d=\"M18.56 5.44l.94 2.06.94-2.06 2.06-.94-2.06-.94-.94-2.06-.94 2.06-2.06.94zm-11 1L8.5 8.5l.94-2.06 2.06-.94-2.06-.94L8.5 2.5l-.94 2.06-2.06.94zm10 10l.94 2.06.94-2.06 2.06-.94-2.06-.94-.94-2.06-.94 2.06-2.06.94z\"/><path d=\"M17.41 7.96l-1.37-1.37c-.4-.4-.92-.59-1.43-.59-.52 0-1.04.2-1.43.59L10.3 9.45l-7.72 7.72c-.78.78-.78 2.05 0 2.83L4 21.41c.39.39.9.59 1.41.59.51 0 1.02-.2 1.41-.59l7.78-7.78 2.81-2.81c.8-.78.8-2.07 0-2.86zM5.41 20L4 18.59l7.72-7.72 1.47 1.35L5.41 20z\"/>\n",
              "  </svg>\n",
              "      </button>\n",
              "      \n",
              "  <style>\n",
              "    .colab-df-container {\n",
              "      display:flex;\n",
              "      flex-wrap:wrap;\n",
              "      gap: 12px;\n",
              "    }\n",
              "\n",
              "    .colab-df-convert {\n",
              "      background-color: #E8F0FE;\n",
              "      border: none;\n",
              "      border-radius: 50%;\n",
              "      cursor: pointer;\n",
              "      display: none;\n",
              "      fill: #1967D2;\n",
              "      height: 32px;\n",
              "      padding: 0 0 0 0;\n",
              "      width: 32px;\n",
              "    }\n",
              "\n",
              "    .colab-df-convert:hover {\n",
              "      background-color: #E2EBFA;\n",
              "      box-shadow: 0px 1px 2px rgba(60, 64, 67, 0.3), 0px 1px 3px 1px rgba(60, 64, 67, 0.15);\n",
              "      fill: #174EA6;\n",
              "    }\n",
              "\n",
              "    [theme=dark] .colab-df-convert {\n",
              "      background-color: #3B4455;\n",
              "      fill: #D2E3FC;\n",
              "    }\n",
              "\n",
              "    [theme=dark] .colab-df-convert:hover {\n",
              "      background-color: #434B5C;\n",
              "      box-shadow: 0px 1px 3px 1px rgba(0, 0, 0, 0.15);\n",
              "      filter: drop-shadow(0px 1px 2px rgba(0, 0, 0, 0.3));\n",
              "      fill: #FFFFFF;\n",
              "    }\n",
              "  </style>\n",
              "\n",
              "      <script>\n",
              "        const buttonEl =\n",
              "          document.querySelector('#df-9123f62d-aece-4cdc-bcb3-ee266980aee8 button.colab-df-convert');\n",
              "        buttonEl.style.display =\n",
              "          google.colab.kernel.accessAllowed ? 'block' : 'none';\n",
              "\n",
              "        async function convertToInteractive(key) {\n",
              "          const element = document.querySelector('#df-9123f62d-aece-4cdc-bcb3-ee266980aee8');\n",
              "          const dataTable =\n",
              "            await google.colab.kernel.invokeFunction('convertToInteractive',\n",
              "                                                     [key], {});\n",
              "          if (!dataTable) return;\n",
              "\n",
              "          const docLinkHtml = 'Like what you see? Visit the ' +\n",
              "            '<a target=\"_blank\" href=https://colab.research.google.com/notebooks/data_table.ipynb>data table notebook</a>'\n",
              "            + ' to learn more about interactive tables.';\n",
              "          element.innerHTML = '';\n",
              "          dataTable['output_type'] = 'display_data';\n",
              "          await google.colab.output.renderOutput(dataTable, element);\n",
              "          const docLink = document.createElement('div');\n",
              "          docLink.innerHTML = docLinkHtml;\n",
              "          element.appendChild(docLink);\n",
              "        }\n",
              "      </script>\n",
              "    </div>\n",
              "  </div>\n",
              "  "
            ]
          },
          "metadata": {},
          "execution_count": 209
        }
      ]
    },
    {
      "cell_type": "markdown",
      "source": [
        "## Choose the columns and rename"
      ],
      "metadata": {
        "id": "p7motuGtWD18"
      }
    },
    {
      "cell_type": "code",
      "source": [
        "result_df = df0[['Product_code','Business_Name','Ticket']] #Choose just 3 columns to show on the result\n",
        "#result_df = result_df.rename(columns ={'Product_code': 'Loja', 'Business_Name': 'Categoria'}) #rename columns"
      ],
      "metadata": {
        "id": "4QdTJmC4Bgap"
      },
      "execution_count": null,
      "outputs": []
    },
    {
      "cell_type": "code",
      "source": [
        "result = result_df.groupby(['Product_code','Business_Name'], as_index=False).agg('mean').round(2) #calculae meand from group Loja and Categoria"
      ],
      "metadata": {
        "id": "x1-zcUZ8ghlA"
      },
      "execution_count": null,
      "outputs": []
    },
    {
      "cell_type": "code",
      "source": [
        "result = result.rename(columns ={'Product_code': 'Loja', 'Business_Name': 'Categoria', 'Ticket':'TM'}) #rename columns"
      ],
      "metadata": {
        "id": "dJjaVLLZmi1W"
      },
      "execution_count": null,
      "outputs": []
    },
    {
      "cell_type": "markdown",
      "source": [
        "## Result"
      ],
      "metadata": {
        "id": "1G2hfFLcoFrr"
      }
    },
    {
      "cell_type": "code",
      "source": [
        "result #show result!"
      ],
      "metadata": {
        "colab": {
          "base_uri": "https://localhost:8080/",
          "height": 676
        },
        "id": "VaQcq267iIeD",
        "outputId": "e43f4b20-8da5-49e3-f658-42e2b3c50c0a"
      },
      "execution_count": null,
      "outputs": [
        {
          "output_type": "execute_result",
          "data": {
            "text/plain": [
              "              Loja    Categoria     TM\n",
              "0            Bahia      Atacado  15.39\n",
              "1          Bangkok        Posto  13.67\n",
              "2            Belem  Proximidade  15.36\n",
              "3           Berlin  Proximidade  15.39\n",
              "4     Buenos Aires      Atacado  15.39\n",
              "5          Chicago       Varejo  15.53\n",
              "6            Dubai      Atacado  15.39\n",
              "7        Hong Kong        Farma  26.32\n",
              "8           London        Farma  29.00\n",
              "9            Madri        Farma  29.01\n",
              "10           Miami        Posto  13.67\n",
              "11        New York  Proximidade  15.39\n",
              "12           Paris  Proximidade  15.39\n",
              "13  Rio de Janeiro        Farma  29.56\n",
              "14            Roma       Varejo  15.39\n",
              "15        Salvador      Atacado  15.39\n",
              "16       Sao Paulo       Varejo  15.39\n",
              "17          Sidney        Posto  13.67\n",
              "18           Tokio       Varejo  15.39\n",
              "19       Vancouver        Posto  13.67"
            ],
            "text/html": [
              "\n",
              "  <div id=\"df-3ee76e07-1cf5-4cfd-8da7-ffa08990f042\">\n",
              "    <div class=\"colab-df-container\">\n",
              "      <div>\n",
              "<style scoped>\n",
              "    .dataframe tbody tr th:only-of-type {\n",
              "        vertical-align: middle;\n",
              "    }\n",
              "\n",
              "    .dataframe tbody tr th {\n",
              "        vertical-align: top;\n",
              "    }\n",
              "\n",
              "    .dataframe thead th {\n",
              "        text-align: right;\n",
              "    }\n",
              "</style>\n",
              "<table border=\"1\" class=\"dataframe\">\n",
              "  <thead>\n",
              "    <tr style=\"text-align: right;\">\n",
              "      <th></th>\n",
              "      <th>Loja</th>\n",
              "      <th>Categoria</th>\n",
              "      <th>TM</th>\n",
              "    </tr>\n",
              "  </thead>\n",
              "  <tbody>\n",
              "    <tr>\n",
              "      <th>0</th>\n",
              "      <td>Bahia</td>\n",
              "      <td>Atacado</td>\n",
              "      <td>15.39</td>\n",
              "    </tr>\n",
              "    <tr>\n",
              "      <th>1</th>\n",
              "      <td>Bangkok</td>\n",
              "      <td>Posto</td>\n",
              "      <td>13.67</td>\n",
              "    </tr>\n",
              "    <tr>\n",
              "      <th>2</th>\n",
              "      <td>Belem</td>\n",
              "      <td>Proximidade</td>\n",
              "      <td>15.36</td>\n",
              "    </tr>\n",
              "    <tr>\n",
              "      <th>3</th>\n",
              "      <td>Berlin</td>\n",
              "      <td>Proximidade</td>\n",
              "      <td>15.39</td>\n",
              "    </tr>\n",
              "    <tr>\n",
              "      <th>4</th>\n",
              "      <td>Buenos Aires</td>\n",
              "      <td>Atacado</td>\n",
              "      <td>15.39</td>\n",
              "    </tr>\n",
              "    <tr>\n",
              "      <th>5</th>\n",
              "      <td>Chicago</td>\n",
              "      <td>Varejo</td>\n",
              "      <td>15.53</td>\n",
              "    </tr>\n",
              "    <tr>\n",
              "      <th>6</th>\n",
              "      <td>Dubai</td>\n",
              "      <td>Atacado</td>\n",
              "      <td>15.39</td>\n",
              "    </tr>\n",
              "    <tr>\n",
              "      <th>7</th>\n",
              "      <td>Hong Kong</td>\n",
              "      <td>Farma</td>\n",
              "      <td>26.32</td>\n",
              "    </tr>\n",
              "    <tr>\n",
              "      <th>8</th>\n",
              "      <td>London</td>\n",
              "      <td>Farma</td>\n",
              "      <td>29.00</td>\n",
              "    </tr>\n",
              "    <tr>\n",
              "      <th>9</th>\n",
              "      <td>Madri</td>\n",
              "      <td>Farma</td>\n",
              "      <td>29.01</td>\n",
              "    </tr>\n",
              "    <tr>\n",
              "      <th>10</th>\n",
              "      <td>Miami</td>\n",
              "      <td>Posto</td>\n",
              "      <td>13.67</td>\n",
              "    </tr>\n",
              "    <tr>\n",
              "      <th>11</th>\n",
              "      <td>New York</td>\n",
              "      <td>Proximidade</td>\n",
              "      <td>15.39</td>\n",
              "    </tr>\n",
              "    <tr>\n",
              "      <th>12</th>\n",
              "      <td>Paris</td>\n",
              "      <td>Proximidade</td>\n",
              "      <td>15.39</td>\n",
              "    </tr>\n",
              "    <tr>\n",
              "      <th>13</th>\n",
              "      <td>Rio de Janeiro</td>\n",
              "      <td>Farma</td>\n",
              "      <td>29.56</td>\n",
              "    </tr>\n",
              "    <tr>\n",
              "      <th>14</th>\n",
              "      <td>Roma</td>\n",
              "      <td>Varejo</td>\n",
              "      <td>15.39</td>\n",
              "    </tr>\n",
              "    <tr>\n",
              "      <th>15</th>\n",
              "      <td>Salvador</td>\n",
              "      <td>Atacado</td>\n",
              "      <td>15.39</td>\n",
              "    </tr>\n",
              "    <tr>\n",
              "      <th>16</th>\n",
              "      <td>Sao Paulo</td>\n",
              "      <td>Varejo</td>\n",
              "      <td>15.39</td>\n",
              "    </tr>\n",
              "    <tr>\n",
              "      <th>17</th>\n",
              "      <td>Sidney</td>\n",
              "      <td>Posto</td>\n",
              "      <td>13.67</td>\n",
              "    </tr>\n",
              "    <tr>\n",
              "      <th>18</th>\n",
              "      <td>Tokio</td>\n",
              "      <td>Varejo</td>\n",
              "      <td>15.39</td>\n",
              "    </tr>\n",
              "    <tr>\n",
              "      <th>19</th>\n",
              "      <td>Vancouver</td>\n",
              "      <td>Posto</td>\n",
              "      <td>13.67</td>\n",
              "    </tr>\n",
              "  </tbody>\n",
              "</table>\n",
              "</div>\n",
              "      <button class=\"colab-df-convert\" onclick=\"convertToInteractive('df-3ee76e07-1cf5-4cfd-8da7-ffa08990f042')\"\n",
              "              title=\"Convert this dataframe to an interactive table.\"\n",
              "              style=\"display:none;\">\n",
              "        \n",
              "  <svg xmlns=\"http://www.w3.org/2000/svg\" height=\"24px\"viewBox=\"0 0 24 24\"\n",
              "       width=\"24px\">\n",
              "    <path d=\"M0 0h24v24H0V0z\" fill=\"none\"/>\n",
              "    <path d=\"M18.56 5.44l.94 2.06.94-2.06 2.06-.94-2.06-.94-.94-2.06-.94 2.06-2.06.94zm-11 1L8.5 8.5l.94-2.06 2.06-.94-2.06-.94L8.5 2.5l-.94 2.06-2.06.94zm10 10l.94 2.06.94-2.06 2.06-.94-2.06-.94-.94-2.06-.94 2.06-2.06.94z\"/><path d=\"M17.41 7.96l-1.37-1.37c-.4-.4-.92-.59-1.43-.59-.52 0-1.04.2-1.43.59L10.3 9.45l-7.72 7.72c-.78.78-.78 2.05 0 2.83L4 21.41c.39.39.9.59 1.41.59.51 0 1.02-.2 1.41-.59l7.78-7.78 2.81-2.81c.8-.78.8-2.07 0-2.86zM5.41 20L4 18.59l7.72-7.72 1.47 1.35L5.41 20z\"/>\n",
              "  </svg>\n",
              "      </button>\n",
              "      \n",
              "  <style>\n",
              "    .colab-df-container {\n",
              "      display:flex;\n",
              "      flex-wrap:wrap;\n",
              "      gap: 12px;\n",
              "    }\n",
              "\n",
              "    .colab-df-convert {\n",
              "      background-color: #E8F0FE;\n",
              "      border: none;\n",
              "      border-radius: 50%;\n",
              "      cursor: pointer;\n",
              "      display: none;\n",
              "      fill: #1967D2;\n",
              "      height: 32px;\n",
              "      padding: 0 0 0 0;\n",
              "      width: 32px;\n",
              "    }\n",
              "\n",
              "    .colab-df-convert:hover {\n",
              "      background-color: #E2EBFA;\n",
              "      box-shadow: 0px 1px 2px rgba(60, 64, 67, 0.3), 0px 1px 3px 1px rgba(60, 64, 67, 0.15);\n",
              "      fill: #174EA6;\n",
              "    }\n",
              "\n",
              "    [theme=dark] .colab-df-convert {\n",
              "      background-color: #3B4455;\n",
              "      fill: #D2E3FC;\n",
              "    }\n",
              "\n",
              "    [theme=dark] .colab-df-convert:hover {\n",
              "      background-color: #434B5C;\n",
              "      box-shadow: 0px 1px 3px 1px rgba(0, 0, 0, 0.15);\n",
              "      filter: drop-shadow(0px 1px 2px rgba(0, 0, 0, 0.3));\n",
              "      fill: #FFFFFF;\n",
              "    }\n",
              "  </style>\n",
              "\n",
              "      <script>\n",
              "        const buttonEl =\n",
              "          document.querySelector('#df-3ee76e07-1cf5-4cfd-8da7-ffa08990f042 button.colab-df-convert');\n",
              "        buttonEl.style.display =\n",
              "          google.colab.kernel.accessAllowed ? 'block' : 'none';\n",
              "\n",
              "        async function convertToInteractive(key) {\n",
              "          const element = document.querySelector('#df-3ee76e07-1cf5-4cfd-8da7-ffa08990f042');\n",
              "          const dataTable =\n",
              "            await google.colab.kernel.invokeFunction('convertToInteractive',\n",
              "                                                     [key], {});\n",
              "          if (!dataTable) return;\n",
              "\n",
              "          const docLinkHtml = 'Like what you see? Visit the ' +\n",
              "            '<a target=\"_blank\" href=https://colab.research.google.com/notebooks/data_table.ipynb>data table notebook</a>'\n",
              "            + ' to learn more about interactive tables.';\n",
              "          element.innerHTML = '';\n",
              "          dataTable['output_type'] = 'display_data';\n",
              "          await google.colab.output.renderOutput(dataTable, element);\n",
              "          const docLink = document.createElement('div');\n",
              "          docLink.innerHTML = docLinkHtml;\n",
              "          element.appendChild(docLink);\n",
              "        }\n",
              "      </script>\n",
              "    </div>\n",
              "  </div>\n",
              "  "
            ]
          },
          "metadata": {},
          "execution_count": 235
        }
      ]
    },
    {
      "cell_type": "code",
      "source": [
        "#Importing data\n",
        "import mysql.connector\n",
        "from getpass import getpass\n",
        "\n",
        "\n",
        "mydb = mysql.connector.connect(user=input(\"Enter username: \"),  #call a imput to the user put username\n",
        "                               password=getpass(\"Enter password: \"), #call a imput to the user put password\n",
        "                               host='35.199.127.241', \n",
        "                               database='looqbox_challenge'\n",
        ")\n",
        "mycursor = mydb.cursor()\n",
        "mycursor.execute(\"SELECT STORE_CODE, STORE_NAME, START_DATE, END_DATE, BUSINESS_NAME, BUSINESS_CODE FROM data_store_cad LIMIT 100\") #use query 1\n",
        "query1 = mycursor.fetchall() #fetches all results and put in query1\n",
        "mycursor.execute(\"SELECT STORE_CODE, DATE, SALES_VALUE, SALES_QTY FROM data_store_sales WHERE DATE BETWEEN '2019-01-01' AND '2019-12-31'\") #use query 2\n",
        "query2 = mycursor.fetchall() #fetches all results and put in query2\n",
        "\n",
        "#Transforming Data\n",
        "df1 = pd.DataFrame(query1, columns = ['Store_cod', 'Product_code', 'Start_Date','End_Date', 'Business_Name', 'Business_code']) #tranform query 1 to dataframe and chose the name of columns\n",
        "df2 = pd.DataFrame(query2, columns = ['Store_cod', 'Date', 'Sale_value', 'Sales_qty']) #tranform query 2 to dataframe and chose the name of columns\n",
        "df1.Start_Date.dtypes #check type of column\n",
        "df1['Start_Date'] = pd.to_datetime(df1.Start_Date) #transform to date  the columns Start_Date, because was imported as object\n",
        "df2['Date'] = pd.to_datetime(df2.Date) #transform to date  the columns Date\n",
        "\n",
        "#Filtering Data\n",
        "df2 = df2[(df2['Date'] > '2019-12-01') & (df2['Date'] < '2019-12-31')] #filter query 2 as asked\n",
        "\n",
        "#Calculate ticket value\n",
        "df2['Ticket'] = df2.Sale_value/df2.Sales_qty #Calculate ticket value\n",
        "\n",
        "#Merge the columns\n",
        "df0 = pd.merge(df2, df1, on = 'Store_cod') #merge two columns (query1 and query2)\n",
        "\n",
        "#Choose the columns and rename\n",
        "result_df = df0[['Product_code','Business_Name','Ticket']] #Choose just 3 columns to show on the result\n",
        "result = result_df.groupby(['Product_code','Business_Name'], as_index=False).agg('mean').round(2) #calculae meand from group Loja and Categoria\n",
        "result = result.rename(columns ={'Product_code': 'Loja', 'Business_Name': 'Categoria', 'Ticket':'TM'}) #rename columns\n",
        "\n",
        "result #show result!"
      ],
      "metadata": {
        "colab": {
          "base_uri": "https://localhost:8080/",
          "height": 711
        },
        "id": "md1EsEcXbFS_",
        "outputId": "909682b8-7005-4cb9-bb47-25cbf975c4ea"
      },
      "execution_count": null,
      "outputs": [
        {
          "name": "stdout",
          "output_type": "stream",
          "text": [
            "Enter username: looqbox-challenge\n",
            "Enter password: ··········\n"
          ]
        },
        {
          "output_type": "execute_result",
          "data": {
            "text/plain": [
              "              Loja    Categoria     TM\n",
              "0            Bahia      Atacado  15.39\n",
              "1          Bangkok        Posto  13.67\n",
              "2            Belem  Proximidade  15.36\n",
              "3           Berlin  Proximidade  15.39\n",
              "4     Buenos Aires      Atacado  15.39\n",
              "5          Chicago       Varejo  15.53\n",
              "6            Dubai      Atacado  15.39\n",
              "7        Hong Kong        Farma  26.32\n",
              "8           London        Farma  29.00\n",
              "9            Madri        Farma  29.01\n",
              "10           Miami        Posto  13.67\n",
              "11        New York  Proximidade  15.39\n",
              "12           Paris  Proximidade  15.39\n",
              "13  Rio de Janeiro        Farma  29.56\n",
              "14            Roma       Varejo  15.39\n",
              "15        Salvador      Atacado  15.39\n",
              "16       Sao Paulo       Varejo  15.39\n",
              "17          Sidney        Posto  13.67\n",
              "18           Tokio       Varejo  15.39\n",
              "19       Vancouver        Posto  13.67"
            ],
            "text/html": [
              "\n",
              "  <div id=\"df-ac967ce0-ea44-402e-b384-c8b32549541e\">\n",
              "    <div class=\"colab-df-container\">\n",
              "      <div>\n",
              "<style scoped>\n",
              "    .dataframe tbody tr th:only-of-type {\n",
              "        vertical-align: middle;\n",
              "    }\n",
              "\n",
              "    .dataframe tbody tr th {\n",
              "        vertical-align: top;\n",
              "    }\n",
              "\n",
              "    .dataframe thead th {\n",
              "        text-align: right;\n",
              "    }\n",
              "</style>\n",
              "<table border=\"1\" class=\"dataframe\">\n",
              "  <thead>\n",
              "    <tr style=\"text-align: right;\">\n",
              "      <th></th>\n",
              "      <th>Loja</th>\n",
              "      <th>Categoria</th>\n",
              "      <th>TM</th>\n",
              "    </tr>\n",
              "  </thead>\n",
              "  <tbody>\n",
              "    <tr>\n",
              "      <th>0</th>\n",
              "      <td>Bahia</td>\n",
              "      <td>Atacado</td>\n",
              "      <td>15.39</td>\n",
              "    </tr>\n",
              "    <tr>\n",
              "      <th>1</th>\n",
              "      <td>Bangkok</td>\n",
              "      <td>Posto</td>\n",
              "      <td>13.67</td>\n",
              "    </tr>\n",
              "    <tr>\n",
              "      <th>2</th>\n",
              "      <td>Belem</td>\n",
              "      <td>Proximidade</td>\n",
              "      <td>15.36</td>\n",
              "    </tr>\n",
              "    <tr>\n",
              "      <th>3</th>\n",
              "      <td>Berlin</td>\n",
              "      <td>Proximidade</td>\n",
              "      <td>15.39</td>\n",
              "    </tr>\n",
              "    <tr>\n",
              "      <th>4</th>\n",
              "      <td>Buenos Aires</td>\n",
              "      <td>Atacado</td>\n",
              "      <td>15.39</td>\n",
              "    </tr>\n",
              "    <tr>\n",
              "      <th>5</th>\n",
              "      <td>Chicago</td>\n",
              "      <td>Varejo</td>\n",
              "      <td>15.53</td>\n",
              "    </tr>\n",
              "    <tr>\n",
              "      <th>6</th>\n",
              "      <td>Dubai</td>\n",
              "      <td>Atacado</td>\n",
              "      <td>15.39</td>\n",
              "    </tr>\n",
              "    <tr>\n",
              "      <th>7</th>\n",
              "      <td>Hong Kong</td>\n",
              "      <td>Farma</td>\n",
              "      <td>26.32</td>\n",
              "    </tr>\n",
              "    <tr>\n",
              "      <th>8</th>\n",
              "      <td>London</td>\n",
              "      <td>Farma</td>\n",
              "      <td>29.00</td>\n",
              "    </tr>\n",
              "    <tr>\n",
              "      <th>9</th>\n",
              "      <td>Madri</td>\n",
              "      <td>Farma</td>\n",
              "      <td>29.01</td>\n",
              "    </tr>\n",
              "    <tr>\n",
              "      <th>10</th>\n",
              "      <td>Miami</td>\n",
              "      <td>Posto</td>\n",
              "      <td>13.67</td>\n",
              "    </tr>\n",
              "    <tr>\n",
              "      <th>11</th>\n",
              "      <td>New York</td>\n",
              "      <td>Proximidade</td>\n",
              "      <td>15.39</td>\n",
              "    </tr>\n",
              "    <tr>\n",
              "      <th>12</th>\n",
              "      <td>Paris</td>\n",
              "      <td>Proximidade</td>\n",
              "      <td>15.39</td>\n",
              "    </tr>\n",
              "    <tr>\n",
              "      <th>13</th>\n",
              "      <td>Rio de Janeiro</td>\n",
              "      <td>Farma</td>\n",
              "      <td>29.56</td>\n",
              "    </tr>\n",
              "    <tr>\n",
              "      <th>14</th>\n",
              "      <td>Roma</td>\n",
              "      <td>Varejo</td>\n",
              "      <td>15.39</td>\n",
              "    </tr>\n",
              "    <tr>\n",
              "      <th>15</th>\n",
              "      <td>Salvador</td>\n",
              "      <td>Atacado</td>\n",
              "      <td>15.39</td>\n",
              "    </tr>\n",
              "    <tr>\n",
              "      <th>16</th>\n",
              "      <td>Sao Paulo</td>\n",
              "      <td>Varejo</td>\n",
              "      <td>15.39</td>\n",
              "    </tr>\n",
              "    <tr>\n",
              "      <th>17</th>\n",
              "      <td>Sidney</td>\n",
              "      <td>Posto</td>\n",
              "      <td>13.67</td>\n",
              "    </tr>\n",
              "    <tr>\n",
              "      <th>18</th>\n",
              "      <td>Tokio</td>\n",
              "      <td>Varejo</td>\n",
              "      <td>15.39</td>\n",
              "    </tr>\n",
              "    <tr>\n",
              "      <th>19</th>\n",
              "      <td>Vancouver</td>\n",
              "      <td>Posto</td>\n",
              "      <td>13.67</td>\n",
              "    </tr>\n",
              "  </tbody>\n",
              "</table>\n",
              "</div>\n",
              "      <button class=\"colab-df-convert\" onclick=\"convertToInteractive('df-ac967ce0-ea44-402e-b384-c8b32549541e')\"\n",
              "              title=\"Convert this dataframe to an interactive table.\"\n",
              "              style=\"display:none;\">\n",
              "        \n",
              "  <svg xmlns=\"http://www.w3.org/2000/svg\" height=\"24px\"viewBox=\"0 0 24 24\"\n",
              "       width=\"24px\">\n",
              "    <path d=\"M0 0h24v24H0V0z\" fill=\"none\"/>\n",
              "    <path d=\"M18.56 5.44l.94 2.06.94-2.06 2.06-.94-2.06-.94-.94-2.06-.94 2.06-2.06.94zm-11 1L8.5 8.5l.94-2.06 2.06-.94-2.06-.94L8.5 2.5l-.94 2.06-2.06.94zm10 10l.94 2.06.94-2.06 2.06-.94-2.06-.94-.94-2.06-.94 2.06-2.06.94z\"/><path d=\"M17.41 7.96l-1.37-1.37c-.4-.4-.92-.59-1.43-.59-.52 0-1.04.2-1.43.59L10.3 9.45l-7.72 7.72c-.78.78-.78 2.05 0 2.83L4 21.41c.39.39.9.59 1.41.59.51 0 1.02-.2 1.41-.59l7.78-7.78 2.81-2.81c.8-.78.8-2.07 0-2.86zM5.41 20L4 18.59l7.72-7.72 1.47 1.35L5.41 20z\"/>\n",
              "  </svg>\n",
              "      </button>\n",
              "      \n",
              "  <style>\n",
              "    .colab-df-container {\n",
              "      display:flex;\n",
              "      flex-wrap:wrap;\n",
              "      gap: 12px;\n",
              "    }\n",
              "\n",
              "    .colab-df-convert {\n",
              "      background-color: #E8F0FE;\n",
              "      border: none;\n",
              "      border-radius: 50%;\n",
              "      cursor: pointer;\n",
              "      display: none;\n",
              "      fill: #1967D2;\n",
              "      height: 32px;\n",
              "      padding: 0 0 0 0;\n",
              "      width: 32px;\n",
              "    }\n",
              "\n",
              "    .colab-df-convert:hover {\n",
              "      background-color: #E2EBFA;\n",
              "      box-shadow: 0px 1px 2px rgba(60, 64, 67, 0.3), 0px 1px 3px 1px rgba(60, 64, 67, 0.15);\n",
              "      fill: #174EA6;\n",
              "    }\n",
              "\n",
              "    [theme=dark] .colab-df-convert {\n",
              "      background-color: #3B4455;\n",
              "      fill: #D2E3FC;\n",
              "    }\n",
              "\n",
              "    [theme=dark] .colab-df-convert:hover {\n",
              "      background-color: #434B5C;\n",
              "      box-shadow: 0px 1px 3px 1px rgba(0, 0, 0, 0.15);\n",
              "      filter: drop-shadow(0px 1px 2px rgba(0, 0, 0, 0.3));\n",
              "      fill: #FFFFFF;\n",
              "    }\n",
              "  </style>\n",
              "\n",
              "      <script>\n",
              "        const buttonEl =\n",
              "          document.querySelector('#df-ac967ce0-ea44-402e-b384-c8b32549541e button.colab-df-convert');\n",
              "        buttonEl.style.display =\n",
              "          google.colab.kernel.accessAllowed ? 'block' : 'none';\n",
              "\n",
              "        async function convertToInteractive(key) {\n",
              "          const element = document.querySelector('#df-ac967ce0-ea44-402e-b384-c8b32549541e');\n",
              "          const dataTable =\n",
              "            await google.colab.kernel.invokeFunction('convertToInteractive',\n",
              "                                                     [key], {});\n",
              "          if (!dataTable) return;\n",
              "\n",
              "          const docLinkHtml = 'Like what you see? Visit the ' +\n",
              "            '<a target=\"_blank\" href=https://colab.research.google.com/notebooks/data_table.ipynb>data table notebook</a>'\n",
              "            + ' to learn more about interactive tables.';\n",
              "          element.innerHTML = '';\n",
              "          dataTable['output_type'] = 'display_data';\n",
              "          await google.colab.output.renderOutput(dataTable, element);\n",
              "          const docLink = document.createElement('div');\n",
              "          docLink.innerHTML = docLinkHtml;\n",
              "          element.appendChild(docLink);\n",
              "        }\n",
              "      </script>\n",
              "    </div>\n",
              "  </div>\n",
              "  "
            ]
          },
          "metadata": {},
          "execution_count": 364
        }
      ]
    },
    {
      "cell_type": "markdown",
      "source": [
        "# Question 3"
      ],
      "metadata": {
        "id": "9JprEAYDkd4A"
      }
    },
    {
      "cell_type": "markdown",
      "source": [
        "## Importing library seaborn"
      ],
      "metadata": {
        "id": "P2C8gS92DIOO"
      }
    },
    {
      "cell_type": "code",
      "source": [
        "import seaborn as sns #importing library seabonr"
      ],
      "metadata": {
        "id": "2KPh4XU9DH_C"
      },
      "execution_count": null,
      "outputs": []
    },
    {
      "cell_type": "markdown",
      "source": [
        "## Importing table IMDB_movies"
      ],
      "metadata": {
        "id": "BQh9XSQ0DZVN"
      }
    },
    {
      "cell_type": "code",
      "source": [
        "mycursor.execute(\"SELECT * FROM IMDB_movies;\") #select table IMDB_movies\n",
        "imdb_movies = mycursor.fetchall() #fetches all results and put in imdb_movie"
      ],
      "metadata": {
        "id": "NtuK4WlYvyib"
      },
      "execution_count": null,
      "outputs": []
    },
    {
      "cell_type": "code",
      "source": [
        "imdb_movies = pd.DataFrame(imdb_movies, columns = ['Id', 'Title', 'Genre', 'Director','Actors', 'Year', 'RunTime', 'Rating', 'Votes', 'RevenueMillions', 'Metascore']) #tranform query 1 to dataframe and chose the name of columns\n"
      ],
      "metadata": {
        "id": "tDQI1cZps0Fz"
      },
      "execution_count": null,
      "outputs": []
    },
    {
      "cell_type": "markdown",
      "source": [
        "## Expanding columns Genre, Director and Actors"
      ],
      "metadata": {
        "id": "Yx9s3I7oF7xK"
      }
    },
    {
      "cell_type": "code",
      "source": [
        "imdb_movies.Genre = imdb_movies.Genre.str.split(\",\") #split genre to generate a list\n",
        "imdb_movies.Actors = imdb_movies.Actors.str.split(\",\") #split actors to generate a list"
      ],
      "metadata": {
        "id": "QFxcphUGG53u"
      },
      "execution_count": null,
      "outputs": []
    },
    {
      "cell_type": "code",
      "source": [
        "imdb_movies.Rating = imdb_movies.Rating.astype(int) #set Rating as integer"
      ],
      "metadata": {
        "id": "IbyI8S-DJmLI"
      },
      "execution_count": null,
      "outputs": []
    },
    {
      "cell_type": "code",
      "source": [
        "imdb_movies.Genre.explode().unique() #show the list of Genre"
      ],
      "metadata": {
        "colab": {
          "base_uri": "https://localhost:8080/"
        },
        "id": "HfJAVknlSDVs",
        "outputId": "2e3aaf6a-394e-4471-826c-cf7a245acea0"
      },
      "execution_count": null,
      "outputs": [
        {
          "output_type": "execute_result",
          "data": {
            "text/plain": [
              "array(['Action', 'Adventure', 'Sci-Fi', 'Mystery', 'Horror', 'Thriller',\n",
              "       'Animation', 'Comedy', 'Family', 'Fantasy', 'Drama', 'Music',\n",
              "       'Biography', 'Romance', 'History', 'Crime', 'Western', 'War',\n",
              "       'Musical', 'Sport'], dtype=object)"
            ]
          },
          "metadata": {},
          "execution_count": 385
        }
      ]
    },
    {
      "cell_type": "code",
      "source": [
        "imdb_movies['Genre(Action)'] = imdb_movies.Genre.apply(lambda x: 'Action' in x) #Show when it has Action Genre\n",
        "imdb_movies['Genre(Sci-Fi)'] = imdb_movies.Genre.apply(lambda x: 'Sci-Fi' in x) #Show when it has Sci-Fi Genre\n",
        "imdb_movies['Genre(Crime)'] = imdb_movies.Genre.apply(lambda x: 'Crime' in x) #Show when it has Crime Genre\n",
        "imdb_movies['Genre(Romance)'] = imdb_movies.Genre.apply(lambda x: 'Romance' in x) #Show when it has Romance Genre"
      ],
      "metadata": {
        "id": "oVtLsWwsXPlh"
      },
      "execution_count": null,
      "outputs": []
    },
    {
      "cell_type": "code",
      "source": [
        "Action_list = { #list o use on map to set Action when it's True and Others when False\n",
        "    False: 'Others',\n",
        "    True: 'Action'}\n",
        "Sci_Fi_list = {  #list o use on map to set Sci-Fi when it's True and Others when False\n",
        "    False: 'Others',\n",
        "    True: 'Sci_Fi'}\n",
        "Crime_list = { #list o use on map to set Crime when it's True and Others when False\n",
        "    False: 'Others',\n",
        "    True: 'Crime'}\n",
        "Romance_list = { #list o use on map to set Romance when it's True and Others when False\n",
        "    False: 'Others',\n",
        "    True: 'Romance'}"
      ],
      "metadata": {
        "id": "WTu-LZPUjZaq"
      },
      "execution_count": null,
      "outputs": []
    },
    {
      "cell_type": "code",
      "source": [
        "Action_list = { #map to set Action when it's True and Others when False\n",
        "    False: 'Others',\n",
        "    True: 'Action'}"
      ],
      "metadata": {
        "id": "2I3f9IeB0IyM"
      },
      "execution_count": null,
      "outputs": []
    },
    {
      "cell_type": "code",
      "source": [
        "Sci_Fi_list = {  #list o use on map to set Sci-Fi when it's True and Others when False\n",
        "    False: 'Others',\n",
        "    True: 'Sci_Fi'}"
      ],
      "metadata": {
        "id": "T_3YagAs1zPU"
      },
      "execution_count": null,
      "outputs": []
    },
    {
      "cell_type": "code",
      "source": [
        "Crime_list = { #list o use on map to set Crime when it's True and Others when False\n",
        "    False: 'Others',\n",
        "    True: 'Crime'}  "
      ],
      "metadata": {
        "id": "oMvLk3zN2MFE"
      },
      "execution_count": null,
      "outputs": []
    },
    {
      "cell_type": "code",
      "source": [
        "Romance_list = { #list o use on map to set Romance when it's True and Others when False\n",
        "    False: 'Others',\n",
        "    True: 'Romance'}  "
      ],
      "metadata": {
        "id": "_GEpi-jV4W8X"
      },
      "execution_count": null,
      "outputs": []
    },
    {
      "cell_type": "code",
      "source": [
        "imdb_movies['Genre(Action)'] = imdb_movies['Genre(Action)'].map(Action_list) #Change the name of data as list before\n",
        "imdb_movies['Genre(Sci-Fi)'] = imdb_movies['Genre(Sci-Fi)'].map(Sci_Fi_list)\n",
        "imdb_movies['Genre(Crime)'] = imdb_movies['Genre(Crime)'].map(Crime_list)\n",
        "imdb_movies['Genre(Romance)'] = imdb_movies['Genre(Romance)'].map(Romance_list)"
      ],
      "metadata": {
        "id": "11FvlapQzxaV"
      },
      "execution_count": null,
      "outputs": []
    },
    {
      "cell_type": "code",
      "source": [
        "imdb_movies #show the result to confirm"
      ],
      "metadata": {
        "id": "DidYDVM62gWJ"
      },
      "execution_count": null,
      "outputs": []
    },
    {
      "cell_type": "markdown",
      "source": [
        "## Plots"
      ],
      "metadata": {
        "id": "4c4bUkdGDuXP"
      }
    },
    {
      "cell_type": "code",
      "source": [
        "sns.relplot(x='Year',y='Rating',kind='line',data=imdb_movies)\n",
        "sns.relplot(x='Year',y='Metascore',kind='line',data=imdb_movies)\n"
      ],
      "metadata": {
        "colab": {
          "base_uri": "https://localhost:8080/",
          "height": 730
        },
        "id": "rPlFuqSRj3dr",
        "outputId": "9fd5d16f-28de-42a2-b44b-0c2f1dad069f"
      },
      "execution_count": null,
      "outputs": [
        {
          "output_type": "execute_result",
          "data": {
            "text/plain": [
              "<seaborn.axisgrid.FacetGrid at 0x7f4e1b35e2d0>"
            ]
          },
          "metadata": {},
          "execution_count": 448
        },
        {
          "output_type": "display_data",
          "data": {
            "text/plain": [
              "<Figure size 360x360 with 1 Axes>"
            ],
            "image/png": "[encoded data removed]"
          },
          "metadata": {}
        },
        {
          "output_type": "display_data",
          "data": {
            "text/plain": [
              "<Figure size 360x360 with 1 Axes>"
            ],
            "image/png": "[encoded data removed]"
          },
          "metadata": {}
        }
      ]
    },
    {
      "cell_type": "code",
      "source": [
        "sns.relplot(x='Year',y='Rating',hue='Genre(Action)',kind='line',data=imdb_movies) "
      ],
      "metadata": {
        "colab": {
          "base_uri": "https://localhost:8080/",
          "height": 382
        },
        "id": "ixH9_4NDJ_nu",
        "outputId": "2d40583a-f6c6-4b8c-8230-de67de9ff2d7"
      },
      "execution_count": null,
      "outputs": [
        {
          "output_type": "execute_result",
          "data": {
            "text/plain": [
              "<seaborn.axisgrid.FacetGrid at 0x7f4e1e658190>"
            ]
          },
          "metadata": {},
          "execution_count": 397
        },
        {
          "output_type": "display_data",
          "data": {
            "text/plain": [
              "<Figure size 451.925x360 with 1 Axes>"
            ],
            "image/png": "[encoded data removed]"
          },
          "metadata": {}
        }
      ]
    },
    {
      "cell_type": "code",
      "source": [
        "sns.relplot(x='Year',y='Metascore',hue='Genre(Action)',kind='line',data=imdb_movies)"
      ],
      "metadata": {
        "colab": {
          "base_uri": "https://localhost:8080/",
          "height": 386
        },
        "id": "tjrlQqi9ynbf",
        "outputId": "efea46d3-09ce-4cb4-a174-2f440f856614"
      },
      "execution_count": null,
      "outputs": [
        {
          "output_type": "execute_result",
          "data": {
            "text/plain": [
              "<seaborn.axisgrid.FacetGrid at 0x7f4e215cb090>"
            ]
          },
          "metadata": {},
          "execution_count": 182
        },
        {
          "output_type": "display_data",
          "data": {
            "text/plain": [
              "<Figure size 437.375x360 with 1 Axes>"
            ],
            "image/png": "[encoded data removed]"
          },
          "metadata": {
            "needs_background": "light"
          }
        }
      ]
    },
    {
      "cell_type": "code",
      "source": [
        "from matplotlib import pyplot as plt\n"
      ],
      "metadata": {
        "id": "fQhKYbphd28S"
      },
      "execution_count": null,
      "outputs": []
    },
    {
      "cell_type": "code",
      "source": [
        "plt.figure(figsize=(15,8))"
      ],
      "metadata": {
        "colab": {
          "base_uri": "https://localhost:8080/",
          "height": 52
        },
        "id": "Xch3d5Q6dh_c",
        "outputId": "cf3fbf40-c9e1-4419-9f45-9178e9a601c4"
      },
      "execution_count": null,
      "outputs": [
        {
          "output_type": "execute_result",
          "data": {
            "text/plain": [
              "<Figure size 1080x576 with 0 Axes>"
            ]
          },
          "metadata": {},
          "execution_count": 408
        },
        {
          "output_type": "display_data",
          "data": {
            "text/plain": [
              "<Figure size 1080x576 with 0 Axes>"
            ]
          },
          "metadata": {}
        }
      ]
    },
    {
      "cell_type": "code",
      "source": [
        "sns.displot(x='Rating',y='Metascore', data=imdb_movies, height=10)"
      ],
      "metadata": {
        "colab": {
          "base_uri": "https://localhost:8080/",
          "height": 742
        },
        "id": "hXGTQ98TeXJk",
        "outputId": "418e846f-1a0d-4037-c6bc-a37bc83cc609"
      },
      "execution_count": null,
      "outputs": [
        {
          "output_type": "execute_result",
          "data": {
            "text/plain": [
              "<seaborn.axisgrid.FacetGrid at 0x7f4e1c01c8d0>"
            ]
          },
          "metadata": {},
          "execution_count": 434
        },
        {
          "output_type": "display_data",
          "data": {
            "text/plain": [
              "<Figure size 720x720 with 1 Axes>"
            ],
            "image/png": "[encoded data removed]"
          },
          "metadata": {}
        }
      ]
    },
    {
      "cell_type": "code",
      "source": [
        "sns.violinplot(x='Rating',y='Metascore', data=imdb_movies, alpha = 0.8)\n",
        "\n"
      ],
      "metadata": {
        "colab": {
          "base_uri": "https://localhost:8080/",
          "height": 519
        },
        "id": "LOQLGuFygscU",
        "outputId": "5d3d69e0-1727-40c1-e5af-c6743c5effd8"
      },
      "execution_count": null,
      "outputs": [
        {
          "output_type": "execute_result",
          "data": {
            "text/plain": [
              "<matplotlib.axes._subplots.AxesSubplot at 0x7f4e1b4e7650>"
            ]
          },
          "metadata": {},
          "execution_count": 444
        },
        {
          "output_type": "display_data",
          "data": {
            "text/plain": [
              "<Figure size 1080x576 with 1 Axes>"
            ],
            "image/png": "[encoded data removed]"
          },
          "metadata": {}
        }
      ]
    },
    {
      "cell_type": "code",
      "source": [
        "sns.relplot(x='Metascore',y='Rating',,data=imdb_movies['Genre(Action)']) "
      ],
      "metadata": {
        "id": "kkyBdD8Ndabq"
      },
      "execution_count": null,
      "outputs": []
    },
    {
      "cell_type": "code",
      "source": [
        "sns.relplot(x='Year',y='Rating',hue='Genre(Crime)',kind='line',data=imdb_movies)"
      ],
      "metadata": {
        "colab": {
          "base_uri": "https://localhost:8080/",
          "height": 386
        },
        "id": "9ywJ5-FmKbU0",
        "outputId": "5594f420-442e-4603-db87-ff95826d8394"
      },
      "execution_count": null,
      "outputs": [
        {
          "output_type": "execute_result",
          "data": {
            "text/plain": [
              "<seaborn.axisgrid.FacetGrid at 0x7f4e1d3f3f90>"
            ]
          },
          "metadata": {},
          "execution_count": 323
        },
        {
          "output_type": "display_data",
          "data": {
            "text/plain": [
              "<Figure size 435.625x360 with 1 Axes>"
            ],
            "image/png": "[encoded data removed]"
          },
          "metadata": {
            "needs_background": "light"
          }
        }
      ]
    },
    {
      "cell_type": "code",
      "source": [
        "sns.relplot(x='Year',y='Metascore',hue='Genre(Crime)',kind='line',data=imdb_movies)"
      ],
      "metadata": {
        "colab": {
          "base_uri": "https://localhost:8080/",
          "height": 386
        },
        "id": "O1Mf2Os23xNO",
        "outputId": "cd4515b3-5096-473b-d16b-ebe942ddc25c"
      },
      "execution_count": null,
      "outputs": [
        {
          "output_type": "execute_result",
          "data": {
            "text/plain": [
              "<seaborn.axisgrid.FacetGrid at 0x7f4e21444110>"
            ]
          },
          "metadata": {},
          "execution_count": 185
        },
        {
          "output_type": "display_data",
          "data": {
            "text/plain": [
              "<Figure size 435.625x360 with 1 Axes>"
            ],
            "image/png": "[encoded data removed]"
          },
          "metadata": {
            "needs_background": "light"
          }
        }
      ]
    },
    {
      "cell_type": "code",
      "source": [
        "sns.relplot(x='Year',y='Metascore',hue='Genre(Sci-Fi)',kind='line',data=imdb_movies)"
      ],
      "metadata": {
        "colab": {
          "base_uri": "https://localhost:8080/",
          "height": 386
        },
        "id": "cs-vKl3Cz21i",
        "outputId": "10041b4c-540d-4d77-91cf-3e6b1a22611b"
      },
      "execution_count": null,
      "outputs": [
        {
          "output_type": "execute_result",
          "data": {
            "text/plain": [
              "<seaborn.axisgrid.FacetGrid at 0x7f4e21372d10>"
            ]
          },
          "metadata": {},
          "execution_count": 187
        },
        {
          "output_type": "display_data",
          "data": {
            "text/plain": [
              "<Figure size 432.125x360 with 1 Axes>"
            ],
            "image/png": "[encoded data removed]"
          },
          "metadata": {
            "needs_background": "light"
          }
        }
      ]
    },
    {
      "cell_type": "code",
      "source": [
        "sns.relplot(x='Year',y='Metascore',hue='Genre(Romance)',kind='line',data=imdb_movies)"
      ],
      "metadata": {
        "colab": {
          "base_uri": "https://localhost:8080/",
          "height": 382
        },
        "id": "PX7-7Ym73eu7",
        "outputId": "cb1bbf9a-65cf-4e36-9354-eb9e5df2e80d"
      },
      "execution_count": null,
      "outputs": [
        {
          "output_type": "execute_result",
          "data": {
            "text/plain": [
              "<seaborn.axisgrid.FacetGrid at 0x7f4e1aeafed0>"
            ]
          },
          "metadata": {},
          "execution_count": 459
        },
        {
          "output_type": "display_data",
          "data": {
            "text/plain": [
              "<Figure size 470.175x360 with 1 Axes>"
            ],
            "image/png": "[encoded data removed]"
          },
          "metadata": {}
        }
      ]
    },
    {
      "cell_type": "code",
      "source": [
        "sns.set(rc = {'figure.figsize':(6,6)})"
      ],
      "metadata": {
        "id": "IMbwxwRYKt05"
      },
      "execution_count": null,
      "outputs": []
    },
    {
      "cell_type": "code",
      "source": [
        "sns.boxplot(x='Year',y='Metascore',hue = 'Genre(Action)',data=imdb_movies)"
      ],
      "metadata": {
        "colab": {
          "base_uri": "https://localhost:8080/",
          "height": 519
        },
        "id": "JcgmU9aiD4fV",
        "outputId": "d48abb5d-927b-4cf9-b48f-7f56296b6b42"
      },
      "execution_count": null,
      "outputs": [
        {
          "output_type": "execute_result",
          "data": {
            "text/plain": [
              "<matplotlib.axes._subplots.AxesSubplot at 0x7f4e1b288410>"
            ]
          },
          "metadata": {},
          "execution_count": 453
        },
        {
          "output_type": "display_data",
          "data": {
            "text/plain": [
              "<Figure size 1080x576 with 1 Axes>"
            ],
            "image/png": "[encoded data removed]"
          },
          "metadata": {}
        }
      ]
    },
    {
      "cell_type": "code",
      "source": [
        "sns.boxplot(x='Genre(Action)',y='Metascore',data=imdb_movies)"
      ],
      "metadata": {
        "colab": {
          "base_uri": "https://localhost:8080/",
          "height": 411
        },
        "id": "VKxYnL8QD4Xt",
        "outputId": "6a30581e-0473-45d8-f5fe-18020eb4ce54"
      },
      "execution_count": null,
      "outputs": [
        {
          "output_type": "execute_result",
          "data": {
            "text/plain": [
              "<matplotlib.axes._subplots.AxesSubplot at 0x7f4e1afc3050>"
            ]
          },
          "metadata": {},
          "execution_count": 458
        },
        {
          "output_type": "display_data",
          "data": {
            "text/plain": [
              "<Figure size 432x432 with 1 Axes>"
            ],
            "image/png": "[encoded data removed]"
          },
          "metadata": {}
        }
      ]
    },
    {
      "cell_type": "code",
      "source": [
        "sns.boxplot(x='Genre(Romance)',y='Metascore',data=imdb_movies)"
      ],
      "metadata": {
        "colab": {
          "base_uri": "https://localhost:8080/",
          "height": 411
        },
        "id": "fOCFMtviAWJp",
        "outputId": "59c0de23-4103-45eb-c78f-541bde160926"
      },
      "execution_count": null,
      "outputs": [
        {
          "output_type": "execute_result",
          "data": {
            "text/plain": [
              "<matplotlib.axes._subplots.AxesSubplot at 0x7f4e1ae40d50>"
            ]
          },
          "metadata": {},
          "execution_count": 460
        },
        {
          "output_type": "display_data",
          "data": {
            "text/plain": [
              "<Figure size 432x432 with 1 Axes>"
            ],
            "image/png": "[encoded data removed]"
          },
          "metadata": {}
        }
      ]
    },
    {
      "cell_type": "code",
      "source": [
        "sns.displot(imdb_movies.Metascore)"
      ],
      "metadata": {
        "colab": {
          "base_uri": "https://localhost:8080/",
          "height": 382
        },
        "id": "2jDdp7-3BAf8",
        "outputId": "618ff750-e751-4542-e4d8-62833d212914"
      },
      "execution_count": null,
      "outputs": [
        {
          "output_type": "execute_result",
          "data": {
            "text/plain": [
              "<seaborn.axisgrid.FacetGrid at 0x7f4e23b2fb50>"
            ]
          },
          "metadata": {},
          "execution_count": 332
        },
        {
          "output_type": "display_data",
          "data": {
            "text/plain": [
              "<Figure size 360x360 with 1 Axes>"
            ],
            "image/png": "[encoded data removed]"
          },
          "metadata": {}
        }
      ]
    },
    {
      "cell_type": "code",
      "source": [
        "imdb_movies_just_action = imdb_movies.loc[imdb_movies['Genre(Action)'] == 'Action']"
      ],
      "metadata": {
        "id": "iUsTqE3bC_5R"
      },
      "execution_count": null,
      "outputs": []
    },
    {
      "cell_type": "code",
      "source": [
        "sns.displot(imdb_movies_just_action.Metascore)"
      ],
      "metadata": {
        "colab": {
          "base_uri": "https://localhost:8080/",
          "height": 382
        },
        "id": "Q84uukyECJJH",
        "outputId": "b428eb6a-3c9e-423b-9ec4-11fdcfb8def9"
      },
      "execution_count": null,
      "outputs": [
        {
          "output_type": "execute_result",
          "data": {
            "text/plain": [
              "<seaborn.axisgrid.FacetGrid at 0x7f4e1ae19d50>"
            ]
          },
          "metadata": {},
          "execution_count": 466
        },
        {
          "output_type": "display_data",
          "data": {
            "text/plain": [
              "<Figure size 360x360 with 1 Axes>"
            ],
            "image/png": "[encoded data removed]"
          },
          "metadata": {}
        }
      ]
    },
    {
      "cell_type": "code",
      "source": [
        "imdb_movies_action = imdb_movies[imdb_movies['Genre(Action)'] == 'Action']"
      ],
      "metadata": {
        "id": "2eqeHaCEL9ZM"
      },
      "execution_count": null,
      "outputs": []
    },
    {
      "cell_type": "code",
      "source": [
        "imdb_movies_action[['Rating', 'Metascore']].describe()\n"
      ],
      "metadata": {
        "id": "RVRh2ZXsUNGh",
        "colab": {
          "base_uri": "https://localhost:8080/",
          "height": 300
        },
        "outputId": "e4652871-f0ca-4d6a-a258-4f90417e9678"
      },
      "execution_count": null,
      "outputs": [
        {
          "output_type": "execute_result",
          "data": {
            "text/plain": [
              "           Rating   Metascore\n",
              "count  303.000000  289.000000\n",
              "mean     6.663366   53.830450\n",
              "std      0.934375   15.474295\n",
              "min      3.000000   20.000000\n",
              "25%      6.000000   41.000000\n",
              "50%      7.000000   54.000000\n",
              "75%      7.000000   65.000000\n",
              "max      9.000000   90.000000"
            ],
            "text/html": [
              "\n",
              "  <div id=\"df-e65ba5f9-196e-452c-8e50-0e502694f396\">\n",
              "    <div class=\"colab-df-container\">\n",
              "      <div>\n",
              "<style scoped>\n",
              "    .dataframe tbody tr th:only-of-type {\n",
              "        vertical-align: middle;\n",
              "    }\n",
              "\n",
              "    .dataframe tbody tr th {\n",
              "        vertical-align: top;\n",
              "    }\n",
              "\n",
              "    .dataframe thead th {\n",
              "        text-align: right;\n",
              "    }\n",
              "</style>\n",
              "<table border=\"1\" class=\"dataframe\">\n",
              "  <thead>\n",
              "    <tr style=\"text-align: right;\">\n",
              "      <th></th>\n",
              "      <th>Rating</th>\n",
              "      <th>Metascore</th>\n",
              "    </tr>\n",
              "  </thead>\n",
              "  <tbody>\n",
              "    <tr>\n",
              "      <th>count</th>\n",
              "      <td>303.000000</td>\n",
              "      <td>289.000000</td>\n",
              "    </tr>\n",
              "    <tr>\n",
              "      <th>mean</th>\n",
              "      <td>6.663366</td>\n",
              "      <td>53.830450</td>\n",
              "    </tr>\n",
              "    <tr>\n",
              "      <th>std</th>\n",
              "      <td>0.934375</td>\n",
              "      <td>15.474295</td>\n",
              "    </tr>\n",
              "    <tr>\n",
              "      <th>min</th>\n",
              "      <td>3.000000</td>\n",
              "      <td>20.000000</td>\n",
              "    </tr>\n",
              "    <tr>\n",
              "      <th>25%</th>\n",
              "      <td>6.000000</td>\n",
              "      <td>41.000000</td>\n",
              "    </tr>\n",
              "    <tr>\n",
              "      <th>50%</th>\n",
              "      <td>7.000000</td>\n",
              "      <td>54.000000</td>\n",
              "    </tr>\n",
              "    <tr>\n",
              "      <th>75%</th>\n",
              "      <td>7.000000</td>\n",
              "      <td>65.000000</td>\n",
              "    </tr>\n",
              "    <tr>\n",
              "      <th>max</th>\n",
              "      <td>9.000000</td>\n",
              "      <td>90.000000</td>\n",
              "    </tr>\n",
              "  </tbody>\n",
              "</table>\n",
              "</div>\n",
              "      <button class=\"colab-df-convert\" onclick=\"convertToInteractive('df-e65ba5f9-196e-452c-8e50-0e502694f396')\"\n",
              "              title=\"Convert this dataframe to an interactive table.\"\n",
              "              style=\"display:none;\">\n",
              "        \n",
              "  <svg xmlns=\"http://www.w3.org/2000/svg\" height=\"24px\"viewBox=\"0 0 24 24\"\n",
              "       width=\"24px\">\n",
              "    <path d=\"M0 0h24v24H0V0z\" fill=\"none\"/>\n",
              "    <path d=\"M18.56 5.44l.94 2.06.94-2.06 2.06-.94-2.06-.94-.94-2.06-.94 2.06-2.06.94zm-11 1L8.5 8.5l.94-2.06 2.06-.94-2.06-.94L8.5 2.5l-.94 2.06-2.06.94zm10 10l.94 2.06.94-2.06 2.06-.94-2.06-.94-.94-2.06-.94 2.06-2.06.94z\"/><path d=\"M17.41 7.96l-1.37-1.37c-.4-.4-.92-.59-1.43-.59-.52 0-1.04.2-1.43.59L10.3 9.45l-7.72 7.72c-.78.78-.78 2.05 0 2.83L4 21.41c.39.39.9.59 1.41.59.51 0 1.02-.2 1.41-.59l7.78-7.78 2.81-2.81c.8-.78.8-2.07 0-2.86zM5.41 20L4 18.59l7.72-7.72 1.47 1.35L5.41 20z\"/>\n",
              "  </svg>\n",
              "      </button>\n",
              "      \n",
              "  <style>\n",
              "    .colab-df-container {\n",
              "      display:flex;\n",
              "      flex-wrap:wrap;\n",
              "      gap: 12px;\n",
              "    }\n",
              "\n",
              "    .colab-df-convert {\n",
              "      background-color: #E8F0FE;\n",
              "      border: none;\n",
              "      border-radius: 50%;\n",
              "      cursor: pointer;\n",
              "      display: none;\n",
              "      fill: #1967D2;\n",
              "      height: 32px;\n",
              "      padding: 0 0 0 0;\n",
              "      width: 32px;\n",
              "    }\n",
              "\n",
              "    .colab-df-convert:hover {\n",
              "      background-color: #E2EBFA;\n",
              "      box-shadow: 0px 1px 2px rgba(60, 64, 67, 0.3), 0px 1px 3px 1px rgba(60, 64, 67, 0.15);\n",
              "      fill: #174EA6;\n",
              "    }\n",
              "\n",
              "    [theme=dark] .colab-df-convert {\n",
              "      background-color: #3B4455;\n",
              "      fill: #D2E3FC;\n",
              "    }\n",
              "\n",
              "    [theme=dark] .colab-df-convert:hover {\n",
              "      background-color: #434B5C;\n",
              "      box-shadow: 0px 1px 3px 1px rgba(0, 0, 0, 0.15);\n",
              "      filter: drop-shadow(0px 1px 2px rgba(0, 0, 0, 0.3));\n",
              "      fill: #FFFFFF;\n",
              "    }\n",
              "  </style>\n",
              "\n",
              "      <script>\n",
              "        const buttonEl =\n",
              "          document.querySelector('#df-e65ba5f9-196e-452c-8e50-0e502694f396 button.colab-df-convert');\n",
              "        buttonEl.style.display =\n",
              "          google.colab.kernel.accessAllowed ? 'block' : 'none';\n",
              "\n",
              "        async function convertToInteractive(key) {\n",
              "          const element = document.querySelector('#df-e65ba5f9-196e-452c-8e50-0e502694f396');\n",
              "          const dataTable =\n",
              "            await google.colab.kernel.invokeFunction('convertToInteractive',\n",
              "                                                     [key], {});\n",
              "          if (!dataTable) return;\n",
              "\n",
              "          const docLinkHtml = 'Like what you see? Visit the ' +\n",
              "            '<a target=\"_blank\" href=https://colab.research.google.com/notebooks/data_table.ipynb>data table notebook</a>'\n",
              "            + ' to learn more about interactive tables.';\n",
              "          element.innerHTML = '';\n",
              "          dataTable['output_type'] = 'display_data';\n",
              "          await google.colab.output.renderOutput(dataTable, element);\n",
              "          const docLink = document.createElement('div');\n",
              "          docLink.innerHTML = docLinkHtml;\n",
              "          element.appendChild(docLink);\n",
              "        }\n",
              "      </script>\n",
              "    </div>\n",
              "  </div>\n",
              "  "
            ]
          },
          "metadata": {},
          "execution_count": 475
        }
      ]
    },
    {
      "cell_type": "code",
      "source": [
        "sns.distplot(imdb_movies_action.Metascore, bins = 20)"
      ],
      "metadata": {
        "colab": {
          "base_uri": "https://localhost:8080/",
          "height": 446
        },
        "id": "UvA3vlHqq4Lp",
        "outputId": "53885c4b-5d27-42a9-b890-77a487a7f1a9"
      },
      "execution_count": null,
      "outputs": [
        {
          "output_type": "stream",
          "name": "stderr",
          "text": [
            "/usr/local/lib/python3.7/dist-packages/seaborn/distributions.py:2619: FutureWarning: `distplot` is a deprecated function and will be removed in a future version. Please adapt your code to use either `displot` (a figure-level function with similar flexibility) or `histplot` (an axes-level function for histograms).\n",
            "  warnings.warn(msg, FutureWarning)\n"
          ]
        },
        {
          "output_type": "execute_result",
          "data": {
            "text/plain": [
              "<matplotlib.axes._subplots.AxesSubplot at 0x7f4e1aba7690>"
            ]
          },
          "metadata": {},
          "execution_count": 492
        },
        {
          "output_type": "display_data",
          "data": {
            "text/plain": [
              "<Figure size 432x432 with 1 Axes>"
            ],
            "image/png": "[encoded data removed]"
          },
          "metadata": {}
        }
      ]
    },
    {
      "cell_type": "code",
      "source": [
        "imdb_movies_action_worst =  imdb_movies_action[imdb_movies_action['Metascore'] < 41 ]"
      ],
      "metadata": {
        "id": "Q2ANpOUsrJv5"
      },
      "execution_count": null,
      "outputs": []
    },
    {
      "cell_type": "code",
      "source": [
        "imdb_movies_action.sort_values(by = 'Metascore')"
      ],
      "metadata": {
        "colab": {
          "base_uri": "https://localhost:8080/",
          "height": 424
        },
        "id": "KoirZgSDrn3_",
        "outputId": "39c2822b-f74d-43c2-8d1c-77ce3cb36ed3"
      },
      "execution_count": null,
      "outputs": [
        {
          "output_type": "execute_result",
          "data": {
            "text/plain": [
              "      Id                   Title                         Genre  \\\n",
              "581  582      The Last Airbender   [Action, Adventure, Family]   \n",
              "537  538             The Do-Over   [Action, Adventure, Comedy]   \n",
              "787  788               Max Steel   [Action, Adventure, Family]   \n",
              "51    52  Underworld: Blood Wars  [Action, Adventure, Fantasy]   \n",
              "215  216           Gods of Egypt  [Action, Adventure, Fantasy]   \n",
              "..   ...                     ...                           ...   \n",
              "617  618     Free State of Jones    [Action, Biography, Drama]   \n",
              "758  759     Conan the Barbarian  [Action, Adventure, Fantasy]   \n",
              "766  767            Ender's Game              [Action, Sci-Fi]   \n",
              "828  829              Grindhouse    [Action, Horror, Thriller]   \n",
              "969  970         The Lone Ranger  [Action, Adventure, Western]   \n",
              "\n",
              "               Director                                             Actors  \\\n",
              "581  M. Night Shyamalan  [Noah Ringer,  Nicola Peltz,  Jackson Rathbone...   \n",
              "537        Steven Brill  [Adam Sandler,  David Spade,  Paula Patton,  K...   \n",
              "787     Stewart Hendler  [Ben Winchell,  Josh Brener,  Maria Bello,  An...   \n",
              "51        Anna Foerster  [Kate Beckinsale,  Theo James,  Tobias Menzies...   \n",
              "215         Alex Proyas  [Brenton Thwaites,  Nikolaj Coster-Waldau,  Ge...   \n",
              "..                  ...                                                ...   \n",
              "617           Gary Ross  [Matthew McConaughey,  Gugu Mbatha-Raw,  Maher...   \n",
              "758       Marcus Nispel  [Jason Momoa,  Ron Perlman,  Rose McGowan, Ste...   \n",
              "766          Gavin Hood  [Harrison Ford,  Asa Butterfield,  Hailee Stei...   \n",
              "828    Robert Rodriguez  [Kurt Russell,  Rose McGowan,  Danny Trejo,  Z...   \n",
              "969      Gore Verbinski  [Johnny Depp,  Armie Hammer,  William Fichtner...   \n",
              "\n",
              "     Year  RunTime  Rating   Votes RevenueMillions  Metascore Genre(Action)  \\\n",
              "581  2010      103       4  125129            None       20.0        Action   \n",
              "537  2016      108       6   24761               1       22.0        Action   \n",
              "787  2016       92       5   11555               4       22.0        Action   \n",
              "51   2016       91       6   41362              30       23.0        Action   \n",
              "215  2016      126       6   73568              31       25.0        Action   \n",
              "..    ...      ...     ...     ...             ...        ...           ...   \n",
              "617  2016      139       7   29895            None        NaN        Action   \n",
              "758  2011      113       5   84893              21        NaN        Action   \n",
              "766  2013      114       7  194236              62        NaN        Action   \n",
              "828  2007      191       8  160350              25        NaN        Action   \n",
              "969  2013      150       7  190855              89        NaN        Action   \n",
              "\n",
              "    Genre(Sci-Fi) Genre(Crime) Genre(Romance)  \n",
              "581        Others       Others         Others  \n",
              "537        Others       Others         Others  \n",
              "787        Others       Others         Others  \n",
              "51         Others       Others         Others  \n",
              "215        Others       Others         Others  \n",
              "..            ...          ...            ...  \n",
              "617        Others       Others         Others  \n",
              "758        Others       Others         Others  \n",
              "766        Sci_Fi       Others         Others  \n",
              "828        Others       Others         Others  \n",
              "969        Others       Others         Others  \n",
              "\n",
              "[303 rows x 15 columns]"
            ],
            "text/html": [
              "\n",
              "  <div id=\"df-1c4568aa-72fc-4499-9c3e-5464fd24afa6\">\n",
              "    <div class=\"colab-df-container\">\n",
              "      <div>\n",
              "<style scoped>\n",
              "    .dataframe tbody tr th:only-of-type {\n",
              "        vertical-align: middle;\n",
              "    }\n",
              "\n",
              "    .dataframe tbody tr th {\n",
              "        vertical-align: top;\n",
              "    }\n",
              "\n",
              "    .dataframe thead th {\n",
              "        text-align: right;\n",
              "    }\n",
              "</style>\n",
              "<table border=\"1\" class=\"dataframe\">\n",
              "  <thead>\n",
              "    <tr style=\"text-align: right;\">\n",
              "      <th></th>\n",
              "      <th>Id</th>\n",
              "      <th>Title</th>\n",
              "      <th>Genre</th>\n",
              "      <th>Director</th>\n",
              "      <th>Actors</th>\n",
              "      <th>Year</th>\n",
              "      <th>RunTime</th>\n",
              "      <th>Rating</th>\n",
              "      <th>Votes</th>\n",
              "      <th>RevenueMillions</th>\n",
              "      <th>Metascore</th>\n",
              "      <th>Genre(Action)</th>\n",
              "      <th>Genre(Sci-Fi)</th>\n",
              "      <th>Genre(Crime)</th>\n",
              "      <th>Genre(Romance)</th>\n",
              "    </tr>\n",
              "  </thead>\n",
              "  <tbody>\n",
              "    <tr>\n",
              "      <th>581</th>\n",
              "      <td>582</td>\n",
              "      <td>The Last Airbender</td>\n",
              "      <td>[Action, Adventure, Family]</td>\n",
              "      <td>M. Night Shyamalan</td>\n",
              "      <td>[Noah Ringer,  Nicola Peltz,  Jackson Rathbone...</td>\n",
              "      <td>2010</td>\n",
              "      <td>103</td>\n",
              "      <td>4</td>\n",
              "      <td>125129</td>\n",
              "      <td>None</td>\n",
              "      <td>20.0</td>\n",
              "      <td>Action</td>\n",
              "      <td>Others</td>\n",
              "      <td>Others</td>\n",
              "      <td>Others</td>\n",
              "    </tr>\n",
              "    <tr>\n",
              "      <th>537</th>\n",
              "      <td>538</td>\n",
              "      <td>The Do-Over</td>\n",
              "      <td>[Action, Adventure, Comedy]</td>\n",
              "      <td>Steven Brill</td>\n",
              "      <td>[Adam Sandler,  David Spade,  Paula Patton,  K...</td>\n",
              "      <td>2016</td>\n",
              "      <td>108</td>\n",
              "      <td>6</td>\n",
              "      <td>24761</td>\n",
              "      <td>1</td>\n",
              "      <td>22.0</td>\n",
              "      <td>Action</td>\n",
              "      <td>Others</td>\n",
              "      <td>Others</td>\n",
              "      <td>Others</td>\n",
              "    </tr>\n",
              "    <tr>\n",
              "      <th>787</th>\n",
              "      <td>788</td>\n",
              "      <td>Max Steel</td>\n",
              "      <td>[Action, Adventure, Family]</td>\n",
              "      <td>Stewart Hendler</td>\n",
              "      <td>[Ben Winchell,  Josh Brener,  Maria Bello,  An...</td>\n",
              "      <td>2016</td>\n",
              "      <td>92</td>\n",
              "      <td>5</td>\n",
              "      <td>11555</td>\n",
              "      <td>4</td>\n",
              "      <td>22.0</td>\n",
              "      <td>Action</td>\n",
              "      <td>Others</td>\n",
              "      <td>Others</td>\n",
              "      <td>Others</td>\n",
              "    </tr>\n",
              "    <tr>\n",
              "      <th>51</th>\n",
              "      <td>52</td>\n",
              "      <td>Underworld: Blood Wars</td>\n",
              "      <td>[Action, Adventure, Fantasy]</td>\n",
              "      <td>Anna Foerster</td>\n",
              "      <td>[Kate Beckinsale,  Theo James,  Tobias Menzies...</td>\n",
              "      <td>2016</td>\n",
              "      <td>91</td>\n",
              "      <td>6</td>\n",
              "      <td>41362</td>\n",
              "      <td>30</td>\n",
              "      <td>23.0</td>\n",
              "      <td>Action</td>\n",
              "      <td>Others</td>\n",
              "      <td>Others</td>\n",
              "      <td>Others</td>\n",
              "    </tr>\n",
              "    <tr>\n",
              "      <th>215</th>\n",
              "      <td>216</td>\n",
              "      <td>Gods of Egypt</td>\n",
              "      <td>[Action, Adventure, Fantasy]</td>\n",
              "      <td>Alex Proyas</td>\n",
              "      <td>[Brenton Thwaites,  Nikolaj Coster-Waldau,  Ge...</td>\n",
              "      <td>2016</td>\n",
              "      <td>126</td>\n",
              "      <td>6</td>\n",
              "      <td>73568</td>\n",
              "      <td>31</td>\n",
              "      <td>25.0</td>\n",
              "      <td>Action</td>\n",
              "      <td>Others</td>\n",
              "      <td>Others</td>\n",
              "      <td>Others</td>\n",
              "    </tr>\n",
              "    <tr>\n",
              "      <th>...</th>\n",
              "      <td>...</td>\n",
              "      <td>...</td>\n",
              "      <td>...</td>\n",
              "      <td>...</td>\n",
              "      <td>...</td>\n",
              "      <td>...</td>\n",
              "      <td>...</td>\n",
              "      <td>...</td>\n",
              "      <td>...</td>\n",
              "      <td>...</td>\n",
              "      <td>...</td>\n",
              "      <td>...</td>\n",
              "      <td>...</td>\n",
              "      <td>...</td>\n",
              "      <td>...</td>\n",
              "    </tr>\n",
              "    <tr>\n",
              "      <th>617</th>\n",
              "      <td>618</td>\n",
              "      <td>Free State of Jones</td>\n",
              "      <td>[Action, Biography, Drama]</td>\n",
              "      <td>Gary Ross</td>\n",
              "      <td>[Matthew McConaughey,  Gugu Mbatha-Raw,  Maher...</td>\n",
              "      <td>2016</td>\n",
              "      <td>139</td>\n",
              "      <td>7</td>\n",
              "      <td>29895</td>\n",
              "      <td>None</td>\n",
              "      <td>NaN</td>\n",
              "      <td>Action</td>\n",
              "      <td>Others</td>\n",
              "      <td>Others</td>\n",
              "      <td>Others</td>\n",
              "    </tr>\n",
              "    <tr>\n",
              "      <th>758</th>\n",
              "      <td>759</td>\n",
              "      <td>Conan the Barbarian</td>\n",
              "      <td>[Action, Adventure, Fantasy]</td>\n",
              "      <td>Marcus Nispel</td>\n",
              "      <td>[Jason Momoa,  Ron Perlman,  Rose McGowan, Ste...</td>\n",
              "      <td>2011</td>\n",
              "      <td>113</td>\n",
              "      <td>5</td>\n",
              "      <td>84893</td>\n",
              "      <td>21</td>\n",
              "      <td>NaN</td>\n",
              "      <td>Action</td>\n",
              "      <td>Others</td>\n",
              "      <td>Others</td>\n",
              "      <td>Others</td>\n",
              "    </tr>\n",
              "    <tr>\n",
              "      <th>766</th>\n",
              "      <td>767</td>\n",
              "      <td>Ender's Game</td>\n",
              "      <td>[Action, Sci-Fi]</td>\n",
              "      <td>Gavin Hood</td>\n",
              "      <td>[Harrison Ford,  Asa Butterfield,  Hailee Stei...</td>\n",
              "      <td>2013</td>\n",
              "      <td>114</td>\n",
              "      <td>7</td>\n",
              "      <td>194236</td>\n",
              "      <td>62</td>\n",
              "      <td>NaN</td>\n",
              "      <td>Action</td>\n",
              "      <td>Sci_Fi</td>\n",
              "      <td>Others</td>\n",
              "      <td>Others</td>\n",
              "    </tr>\n",
              "    <tr>\n",
              "      <th>828</th>\n",
              "      <td>829</td>\n",
              "      <td>Grindhouse</td>\n",
              "      <td>[Action, Horror, Thriller]</td>\n",
              "      <td>Robert Rodriguez</td>\n",
              "      <td>[Kurt Russell,  Rose McGowan,  Danny Trejo,  Z...</td>\n",
              "      <td>2007</td>\n",
              "      <td>191</td>\n",
              "      <td>8</td>\n",
              "      <td>160350</td>\n",
              "      <td>25</td>\n",
              "      <td>NaN</td>\n",
              "      <td>Action</td>\n",
              "      <td>Others</td>\n",
              "      <td>Others</td>\n",
              "      <td>Others</td>\n",
              "    </tr>\n",
              "    <tr>\n",
              "      <th>969</th>\n",
              "      <td>970</td>\n",
              "      <td>The Lone Ranger</td>\n",
              "      <td>[Action, Adventure, Western]</td>\n",
              "      <td>Gore Verbinski</td>\n",
              "      <td>[Johnny Depp,  Armie Hammer,  William Fichtner...</td>\n",
              "      <td>2013</td>\n",
              "      <td>150</td>\n",
              "      <td>7</td>\n",
              "      <td>190855</td>\n",
              "      <td>89</td>\n",
              "      <td>NaN</td>\n",
              "      <td>Action</td>\n",
              "      <td>Others</td>\n",
              "      <td>Others</td>\n",
              "      <td>Others</td>\n",
              "    </tr>\n",
              "  </tbody>\n",
              "</table>\n",
              "<p>303 rows × 15 columns</p>\n",
              "</div>\n",
              "      <button class=\"colab-df-convert\" onclick=\"convertToInteractive('df-1c4568aa-72fc-4499-9c3e-5464fd24afa6')\"\n",
              "              title=\"Convert this dataframe to an interactive table.\"\n",
              "              style=\"display:none;\">\n",
              "        \n",
              "  <svg xmlns=\"http://www.w3.org/2000/svg\" height=\"24px\"viewBox=\"0 0 24 24\"\n",
              "       width=\"24px\">\n",
              "    <path d=\"M0 0h24v24H0V0z\" fill=\"none\"/>\n",
              "    <path d=\"M18.56 5.44l.94 2.06.94-2.06 2.06-.94-2.06-.94-.94-2.06-.94 2.06-2.06.94zm-11 1L8.5 8.5l.94-2.06 2.06-.94-2.06-.94L8.5 2.5l-.94 2.06-2.06.94zm10 10l.94 2.06.94-2.06 2.06-.94-2.06-.94-.94-2.06-.94 2.06-2.06.94z\"/><path d=\"M17.41 7.96l-1.37-1.37c-.4-.4-.92-.59-1.43-.59-.52 0-1.04.2-1.43.59L10.3 9.45l-7.72 7.72c-.78.78-.78 2.05 0 2.83L4 21.41c.39.39.9.59 1.41.59.51 0 1.02-.2 1.41-.59l7.78-7.78 2.81-2.81c.8-.78.8-2.07 0-2.86zM5.41 20L4 18.59l7.72-7.72 1.47 1.35L5.41 20z\"/>\n",
              "  </svg>\n",
              "      </button>\n",
              "      \n",
              "  <style>\n",
              "    .colab-df-container {\n",
              "      display:flex;\n",
              "      flex-wrap:wrap;\n",
              "      gap: 12px;\n",
              "    }\n",
              "\n",
              "    .colab-df-convert {\n",
              "      background-color: #E8F0FE;\n",
              "      border: none;\n",
              "      border-radius: 50%;\n",
              "      cursor: pointer;\n",
              "      display: none;\n",
              "      fill: #1967D2;\n",
              "      height: 32px;\n",
              "      padding: 0 0 0 0;\n",
              "      width: 32px;\n",
              "    }\n",
              "\n",
              "    .colab-df-convert:hover {\n",
              "      background-color: #E2EBFA;\n",
              "      box-shadow: 0px 1px 2px rgba(60, 64, 67, 0.3), 0px 1px 3px 1px rgba(60, 64, 67, 0.15);\n",
              "      fill: #174EA6;\n",
              "    }\n",
              "\n",
              "    [theme=dark] .colab-df-convert {\n",
              "      background-color: #3B4455;\n",
              "      fill: #D2E3FC;\n",
              "    }\n",
              "\n",
              "    [theme=dark] .colab-df-convert:hover {\n",
              "      background-color: #434B5C;\n",
              "      box-shadow: 0px 1px 3px 1px rgba(0, 0, 0, 0.15);\n",
              "      filter: drop-shadow(0px 1px 2px rgba(0, 0, 0, 0.3));\n",
              "      fill: #FFFFFF;\n",
              "    }\n",
              "  </style>\n",
              "\n",
              "      <script>\n",
              "        const buttonEl =\n",
              "          document.querySelector('#df-1c4568aa-72fc-4499-9c3e-5464fd24afa6 button.colab-df-convert');\n",
              "        buttonEl.style.display =\n",
              "          google.colab.kernel.accessAllowed ? 'block' : 'none';\n",
              "\n",
              "        async function convertToInteractive(key) {\n",
              "          const element = document.querySelector('#df-1c4568aa-72fc-4499-9c3e-5464fd24afa6');\n",
              "          const dataTable =\n",
              "            await google.colab.kernel.invokeFunction('convertToInteractive',\n",
              "                                                     [key], {});\n",
              "          if (!dataTable) return;\n",
              "\n",
              "          const docLinkHtml = 'Like what you see? Visit the ' +\n",
              "            '<a target=\"_blank\" href=https://colab.research.google.com/notebooks/data_table.ipynb>data table notebook</a>'\n",
              "            + ' to learn more about interactive tables.';\n",
              "          element.innerHTML = '';\n",
              "          dataTable['output_type'] = 'display_data';\n",
              "          await google.colab.output.renderOutput(dataTable, element);\n",
              "          const docLink = document.createElement('div');\n",
              "          docLink.innerHTML = docLinkHtml;\n",
              "          element.appendChild(docLink);\n",
              "        }\n",
              "      </script>\n",
              "    </div>\n",
              "  </div>\n",
              "  "
            ]
          },
          "metadata": {},
          "execution_count": 484
        }
      ]
    },
    {
      "cell_type": "code",
      "source": [
        "imdb_movies_action_worst[['Title', 'Genre','Director', 'Actors', 'Year', 'Rating', 'Metascore']].sort_values(by = 'Metascore').head(10)"
      ],
      "metadata": {
        "colab": {
          "base_uri": "https://localhost:8080/",
          "height": 363
        },
        "id": "ATfRwG7ssHxo",
        "outputId": "2169d951-189a-48ab-a3c3-9bd6c9603b77"
      },
      "execution_count": null,
      "outputs": [
        {
          "output_type": "execute_result",
          "data": {
            "text/plain": [
              "                      Title                         Genre            Director  \\\n",
              "581      The Last Airbender   [Action, Adventure, Family]  M. Night Shyamalan   \n",
              "537             The Do-Over   [Action, Adventure, Comedy]        Steven Brill   \n",
              "787               Max Steel   [Action, Adventure, Family]     Stewart Hendler   \n",
              "51   Underworld: Blood Wars  [Action, Adventure, Fantasy]       Anna Foerster   \n",
              "215           Gods of Egypt  [Action, Adventure, Fantasy]         Alex Proyas   \n",
              "624                 Taken 3            [Action, Thriller]     Olivier Megaton   \n",
              "386                  Pixels      [Action, Comedy, Family]      Chris Columbus   \n",
              "552          Fantastic Four   [Action, Adventure, Sci-Fi]          Josh Trank   \n",
              "452                Pandorum     [Action, Horror, Mystery]    Christian Alvart   \n",
              "424       London Has Fallen        [Action, Crime, Drama]        Babak Najafi   \n",
              "\n",
              "                                                Actors  Year  Rating  \\\n",
              "581  [Noah Ringer,  Nicola Peltz,  Jackson Rathbone...  2010       4   \n",
              "537  [Adam Sandler,  David Spade,  Paula Patton,  K...  2016       6   \n",
              "787  [Ben Winchell,  Josh Brener,  Maria Bello,  An...  2016       5   \n",
              "51   [Kate Beckinsale,  Theo James,  Tobias Menzies...  2016       6   \n",
              "215  [Brenton Thwaites,  Nikolaj Coster-Waldau,  Ge...  2016       6   \n",
              "624  [Liam Neeson,  Forest Whitaker,  Maggie Grace,...  2014       6   \n",
              "386  [Adam Sandler,  Kevin James,  Michelle Monagha...  2015       6   \n",
              "552  [Miles Teller,  Kate Mara,  Michael B. Jordan,...  2015       4   \n",
              "452  [Dennis Quaid,  Ben Foster,  Cam Gigandet,  An...  2009       7   \n",
              "424  [Gerard Butler,  Aaron Eckhart,  Morgan Freema...  2016       6   \n",
              "\n",
              "     Metascore  \n",
              "581       20.0  \n",
              "537       22.0  \n",
              "787       22.0  \n",
              "51        23.0  \n",
              "215       25.0  \n",
              "624       26.0  \n",
              "386       27.0  \n",
              "552       27.0  \n",
              "452       28.0  \n",
              "424       28.0  "
            ],
            "text/html": [
              "\n",
              "  <div id=\"df-e4402eb9-9503-4354-bcbd-25543ed68f7d\">\n",
              "    <div class=\"colab-df-container\">\n",
              "      <div>\n",
              "<style scoped>\n",
              "    .dataframe tbody tr th:only-of-type {\n",
              "        vertical-align: middle;\n",
              "    }\n",
              "\n",
              "    .dataframe tbody tr th {\n",
              "        vertical-align: top;\n",
              "    }\n",
              "\n",
              "    .dataframe thead th {\n",
              "        text-align: right;\n",
              "    }\n",
              "</style>\n",
              "<table border=\"1\" class=\"dataframe\">\n",
              "  <thead>\n",
              "    <tr style=\"text-align: right;\">\n",
              "      <th></th>\n",
              "      <th>Title</th>\n",
              "      <th>Genre</th>\n",
              "      <th>Director</th>\n",
              "      <th>Actors</th>\n",
              "      <th>Year</th>\n",
              "      <th>Rating</th>\n",
              "      <th>Metascore</th>\n",
              "    </tr>\n",
              "  </thead>\n",
              "  <tbody>\n",
              "    <tr>\n",
              "      <th>581</th>\n",
              "      <td>The Last Airbender</td>\n",
              "      <td>[Action, Adventure, Family]</td>\n",
              "      <td>M. Night Shyamalan</td>\n",
              "      <td>[Noah Ringer,  Nicola Peltz,  Jackson Rathbone...</td>\n",
              "      <td>2010</td>\n",
              "      <td>4</td>\n",
              "      <td>20.0</td>\n",
              "    </tr>\n",
              "    <tr>\n",
              "      <th>537</th>\n",
              "      <td>The Do-Over</td>\n",
              "      <td>[Action, Adventure, Comedy]</td>\n",
              "      <td>Steven Brill</td>\n",
              "      <td>[Adam Sandler,  David Spade,  Paula Patton,  K...</td>\n",
              "      <td>2016</td>\n",
              "      <td>6</td>\n",
              "      <td>22.0</td>\n",
              "    </tr>\n",
              "    <tr>\n",
              "      <th>787</th>\n",
              "      <td>Max Steel</td>\n",
              "      <td>[Action, Adventure, Family]</td>\n",
              "      <td>Stewart Hendler</td>\n",
              "      <td>[Ben Winchell,  Josh Brener,  Maria Bello,  An...</td>\n",
              "      <td>2016</td>\n",
              "      <td>5</td>\n",
              "      <td>22.0</td>\n",
              "    </tr>\n",
              "    <tr>\n",
              "      <th>51</th>\n",
              "      <td>Underworld: Blood Wars</td>\n",
              "      <td>[Action, Adventure, Fantasy]</td>\n",
              "      <td>Anna Foerster</td>\n",
              "      <td>[Kate Beckinsale,  Theo James,  Tobias Menzies...</td>\n",
              "      <td>2016</td>\n",
              "      <td>6</td>\n",
              "      <td>23.0</td>\n",
              "    </tr>\n",
              "    <tr>\n",
              "      <th>215</th>\n",
              "      <td>Gods of Egypt</td>\n",
              "      <td>[Action, Adventure, Fantasy]</td>\n",
              "      <td>Alex Proyas</td>\n",
              "      <td>[Brenton Thwaites,  Nikolaj Coster-Waldau,  Ge...</td>\n",
              "      <td>2016</td>\n",
              "      <td>6</td>\n",
              "      <td>25.0</td>\n",
              "    </tr>\n",
              "    <tr>\n",
              "      <th>624</th>\n",
              "      <td>Taken 3</td>\n",
              "      <td>[Action, Thriller]</td>\n",
              "      <td>Olivier Megaton</td>\n",
              "      <td>[Liam Neeson,  Forest Whitaker,  Maggie Grace,...</td>\n",
              "      <td>2014</td>\n",
              "      <td>6</td>\n",
              "      <td>26.0</td>\n",
              "    </tr>\n",
              "    <tr>\n",
              "      <th>386</th>\n",
              "      <td>Pixels</td>\n",
              "      <td>[Action, Comedy, Family]</td>\n",
              "      <td>Chris Columbus</td>\n",
              "      <td>[Adam Sandler,  Kevin James,  Michelle Monagha...</td>\n",
              "      <td>2015</td>\n",
              "      <td>6</td>\n",
              "      <td>27.0</td>\n",
              "    </tr>\n",
              "    <tr>\n",
              "      <th>552</th>\n",
              "      <td>Fantastic Four</td>\n",
              "      <td>[Action, Adventure, Sci-Fi]</td>\n",
              "      <td>Josh Trank</td>\n",
              "      <td>[Miles Teller,  Kate Mara,  Michael B. Jordan,...</td>\n",
              "      <td>2015</td>\n",
              "      <td>4</td>\n",
              "      <td>27.0</td>\n",
              "    </tr>\n",
              "    <tr>\n",
              "      <th>452</th>\n",
              "      <td>Pandorum</td>\n",
              "      <td>[Action, Horror, Mystery]</td>\n",
              "      <td>Christian Alvart</td>\n",
              "      <td>[Dennis Quaid,  Ben Foster,  Cam Gigandet,  An...</td>\n",
              "      <td>2009</td>\n",
              "      <td>7</td>\n",
              "      <td>28.0</td>\n",
              "    </tr>\n",
              "    <tr>\n",
              "      <th>424</th>\n",
              "      <td>London Has Fallen</td>\n",
              "      <td>[Action, Crime, Drama]</td>\n",
              "      <td>Babak Najafi</td>\n",
              "      <td>[Gerard Butler,  Aaron Eckhart,  Morgan Freema...</td>\n",
              "      <td>2016</td>\n",
              "      <td>6</td>\n",
              "      <td>28.0</td>\n",
              "    </tr>\n",
              "  </tbody>\n",
              "</table>\n",
              "</div>\n",
              "      <button class=\"colab-df-convert\" onclick=\"convertToInteractive('df-e4402eb9-9503-4354-bcbd-25543ed68f7d')\"\n",
              "              title=\"Convert this dataframe to an interactive table.\"\n",
              "              style=\"display:none;\">\n",
              "        \n",
              "  <svg xmlns=\"http://www.w3.org/2000/svg\" height=\"24px\"viewBox=\"0 0 24 24\"\n",
              "       width=\"24px\">\n",
              "    <path d=\"M0 0h24v24H0V0z\" fill=\"none\"/>\n",
              "    <path d=\"M18.56 5.44l.94 2.06.94-2.06 2.06-.94-2.06-.94-.94-2.06-.94 2.06-2.06.94zm-11 1L8.5 8.5l.94-2.06 2.06-.94-2.06-.94L8.5 2.5l-.94 2.06-2.06.94zm10 10l.94 2.06.94-2.06 2.06-.94-2.06-.94-.94-2.06-.94 2.06-2.06.94z\"/><path d=\"M17.41 7.96l-1.37-1.37c-.4-.4-.92-.59-1.43-.59-.52 0-1.04.2-1.43.59L10.3 9.45l-7.72 7.72c-.78.78-.78 2.05 0 2.83L4 21.41c.39.39.9.59 1.41.59.51 0 1.02-.2 1.41-.59l7.78-7.78 2.81-2.81c.8-.78.8-2.07 0-2.86zM5.41 20L4 18.59l7.72-7.72 1.47 1.35L5.41 20z\"/>\n",
              "  </svg>\n",
              "      </button>\n",
              "      \n",
              "  <style>\n",
              "    .colab-df-container {\n",
              "      display:flex;\n",
              "      flex-wrap:wrap;\n",
              "      gap: 12px;\n",
              "    }\n",
              "\n",
              "    .colab-df-convert {\n",
              "      background-color: #E8F0FE;\n",
              "      border: none;\n",
              "      border-radius: 50%;\n",
              "      cursor: pointer;\n",
              "      display: none;\n",
              "      fill: #1967D2;\n",
              "      height: 32px;\n",
              "      padding: 0 0 0 0;\n",
              "      width: 32px;\n",
              "    }\n",
              "\n",
              "    .colab-df-convert:hover {\n",
              "      background-color: #E2EBFA;\n",
              "      box-shadow: 0px 1px 2px rgba(60, 64, 67, 0.3), 0px 1px 3px 1px rgba(60, 64, 67, 0.15);\n",
              "      fill: #174EA6;\n",
              "    }\n",
              "\n",
              "    [theme=dark] .colab-df-convert {\n",
              "      background-color: #3B4455;\n",
              "      fill: #D2E3FC;\n",
              "    }\n",
              "\n",
              "    [theme=dark] .colab-df-convert:hover {\n",
              "      background-color: #434B5C;\n",
              "      box-shadow: 0px 1px 3px 1px rgba(0, 0, 0, 0.15);\n",
              "      filter: drop-shadow(0px 1px 2px rgba(0, 0, 0, 0.3));\n",
              "      fill: #FFFFFF;\n",
              "    }\n",
              "  </style>\n",
              "\n",
              "      <script>\n",
              "        const buttonEl =\n",
              "          document.querySelector('#df-e4402eb9-9503-4354-bcbd-25543ed68f7d button.colab-df-convert');\n",
              "        buttonEl.style.display =\n",
              "          google.colab.kernel.accessAllowed ? 'block' : 'none';\n",
              "\n",
              "        async function convertToInteractive(key) {\n",
              "          const element = document.querySelector('#df-e4402eb9-9503-4354-bcbd-25543ed68f7d');\n",
              "          const dataTable =\n",
              "            await google.colab.kernel.invokeFunction('convertToInteractive',\n",
              "                                                     [key], {});\n",
              "          if (!dataTable) return;\n",
              "\n",
              "          const docLinkHtml = 'Like what you see? Visit the ' +\n",
              "            '<a target=\"_blank\" href=https://colab.research.google.com/notebooks/data_table.ipynb>data table notebook</a>'\n",
              "            + ' to learn more about interactive tables.';\n",
              "          element.innerHTML = '';\n",
              "          dataTable['output_type'] = 'display_data';\n",
              "          await google.colab.output.renderOutput(dataTable, element);\n",
              "          const docLink = document.createElement('div');\n",
              "          docLink.innerHTML = docLinkHtml;\n",
              "          element.appendChild(docLink);\n",
              "        }\n",
              "      </script>\n",
              "    </div>\n",
              "  </div>\n",
              "  "
            ]
          },
          "metadata": {},
          "execution_count": 575
        }
      ]
    },
    {
      "cell_type": "code",
      "source": [
        ""
      ],
      "metadata": {
        "id": "rVD4M2mJsiz6"
      },
      "execution_count": null,
      "outputs": []
    }
  ]
}