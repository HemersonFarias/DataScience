{
  "nbformat": 4,
  "nbformat_minor": 0,
  "metadata": {
    "colab": {
      "name": "Challenge_looq.ipynb",
      "provenance": [],
      "collapsed_sections": [
        "ks2kas6j4RKF",
        "XPANtg22Ufjb",
        "JcgrXPxHUnqx",
        "BpK-NSdzUwo6",
        "2e0Y59cZV7K-",
        "D2mWhO_tWAsJ"
      ],
      "authorship_tag": "ABX9TyOZcN/q0TC1ZKSNW6V2GwSx",
      "include_colab_link": true
    },
    "kernelspec": {
      "name": "python3",
      "display_name": "Python 3"
    },
    "language_info": {
      "name": "python"
    }
  },
  "cells": [
    {
      "cell_type": "markdown",
      "metadata": {
        "id": "view-in-github",
        "colab_type": "text"
      },
      "source": [
        "<a href=\"https://colab.research.google.com/github/HemersonFarias/DataScience/blob/main/Challenge_looq.ipynb\" target=\"_parent\"><img src=\"https://colab.research.google.com/assets/colab-badge.svg\" alt=\"Open In Colab\"/></a>"
      ]
    },
    {
      "cell_type": "code",
      "source": [
        "import pandas as pd"
      ],
      "metadata": {
        "id": "xXinlGMeGWXN"
      },
      "execution_count": null,
      "outputs": []
    },
    {
      "cell_type": "code",
      "execution_count": null,
      "metadata": {
        "colab": {
          "base_uri": "https://localhost:8080/"
        },
        "id": "S8k3eBQhIYJF",
        "outputId": "7b9deb1f-9fba-4baa-b91b-7b4f742129e3"
      },
      "outputs": [
        {
          "output_type": "stream",
          "name": "stdout",
          "text": [
            "Looking in indexes: https://pypi.org/simple, https://us-python.pkg.dev/colab-wheels/public/simple/\n",
            "Collecting mysql-connector-python\n",
            "  Downloading mysql_connector_python-8.0.29-cp37-cp37m-manylinux1_x86_64.whl (25.2 MB)\n",
            "\u001b[K     |████████████████████████████████| 25.2 MB 1.7 MB/s \n",
            "\u001b[?25hRequirement already satisfied: protobuf>=3.0.0 in /usr/local/lib/python3.7/dist-packages (from mysql-connector-python) (3.17.3)\n",
            "Requirement already satisfied: six>=1.9 in /usr/local/lib/python3.7/dist-packages (from protobuf>=3.0.0->mysql-connector-python) (1.15.0)\n",
            "Installing collected packages: mysql-connector-python\n",
            "Successfully installed mysql-connector-python-8.0.29\n"
          ]
        }
      ],
      "source": [
        "!pip install mysql-connector-python"
      ]
    },
    {
      "cell_type": "markdown",
      "source": [
        "## Código que pegar usuário e senha (correto)"
      ],
      "metadata": {
        "id": "lTQe5W3D6Mnx"
      }
    },
    {
      "cell_type": "code",
      "source": [
        "import mysql.connector\n",
        "from getpass import getpass\n",
        "\n",
        "\n",
        "mydb = mysql.connector.connect(user=input(\"Enter username: \"),  \n",
        "                               password=getpass(\"Enter password: \"), \n",
        "                               host='35.199.127.241', \n",
        "                               database='looqbox_challenge'\n",
        ")\n",
        "\n",
        "mycursor = mydb.cursor()\n",
        "\n",
        "mycursor.execute(\"SELECT PRODUCT_COD, PRODUCT_NAME, PRODUCT_VAL AS 'PRODUCT VALUE' FROM data_product order by PRODUCT_VAL DESC LIMIT 10; \")\n",
        "\n",
        "myresult = mycursor.fetchall()\n",
        "for x in myresult:\n",
        "  print(x)\n"
      ],
      "metadata": {
        "id": "RwyLm0lXW1me"
      },
      "execution_count": null,
      "outputs": []
    },
    {
      "cell_type": "markdown",
      "source": [
        "## Question 1"
      ],
      "metadata": {
        "id": "ks2kas6j4RKF"
      }
    },
    {
      "cell_type": "code",
      "source": [
        "import mysql.connector\n",
        "from getpass import getpass\n",
        "\n",
        "\n",
        "mycursor = mydb.cursor()"
      ],
      "metadata": {
        "id": "AZakOXtg6XW-"
      },
      "execution_count": null,
      "outputs": []
    },
    {
      "cell_type": "code",
      "source": [
        "mycursor.execute(\"SELECT * FROM data_product_sales LIMIT 1000\")\n",
        "\n",
        "myresult = mycursor.fetchall()"
      ],
      "metadata": {
        "id": "kc7iBvlhDpzI"
      },
      "execution_count": null,
      "outputs": []
    },
    {
      "cell_type": "code",
      "source": [
        "data = pd.DataFrame(myresult, columns = ['Store_cod', 'Product_code', 'Date', 'Sales_value', 'Sales_qty'])"
      ],
      "metadata": {
        "id": "Eze4chnNFUTe"
      },
      "execution_count": null,
      "outputs": []
    },
    {
      "cell_type": "code",
      "source": [
        "data"
      ],
      "metadata": {
        "id": "KGM5thDnGEDV",
        "colab": {
          "base_uri": "https://localhost:8080/",
          "height": 424
        },
        "outputId": "db8a111a-9215-41cd-b4c0-7baa3792571f"
      },
      "execution_count": null,
      "outputs": [
        {
          "output_type": "execute_result",
          "data": {
            "text/plain": [
              "    Store_cod  Product_code        Date Sales_value Sales_qty\n",
              "0           1            18  2019-01-01      708.50        65\n",
              "1           1            18  2019-01-02     1297.10       119\n",
              "2           1            18  2019-01-03     1144.50       105\n",
              "3           1            18  2019-01-04     1090.00       100\n",
              "4           1            18  2019-01-05      893.80        82\n",
              "..        ...           ...         ...         ...       ...\n",
              "995         1            48  2016-08-15      547.68       112\n",
              "996         1            48  2016-08-16      679.71       139\n",
              "997         1            48  2016-08-17      953.55       195\n",
              "998         1            48  2016-08-18      787.29       161\n",
              "999         1            48  2016-08-19      792.18       162\n",
              "\n",
              "[1000 rows x 5 columns]"
            ],
            "text/html": [
              "\n",
              "  <div id=\"df-d0a3a399-d0b3-4812-a0b2-564619a21484\">\n",
              "    <div class=\"colab-df-container\">\n",
              "      <div>\n",
              "<style scoped>\n",
              "    .dataframe tbody tr th:only-of-type {\n",
              "        vertical-align: middle;\n",
              "    }\n",
              "\n",
              "    .dataframe tbody tr th {\n",
              "        vertical-align: top;\n",
              "    }\n",
              "\n",
              "    .dataframe thead th {\n",
              "        text-align: right;\n",
              "    }\n",
              "</style>\n",
              "<table border=\"1\" class=\"dataframe\">\n",
              "  <thead>\n",
              "    <tr style=\"text-align: right;\">\n",
              "      <th></th>\n",
              "      <th>Store_cod</th>\n",
              "      <th>Product_code</th>\n",
              "      <th>Date</th>\n",
              "      <th>Sales_value</th>\n",
              "      <th>Sales_qty</th>\n",
              "    </tr>\n",
              "  </thead>\n",
              "  <tbody>\n",
              "    <tr>\n",
              "      <th>0</th>\n",
              "      <td>1</td>\n",
              "      <td>18</td>\n",
              "      <td>2019-01-01</td>\n",
              "      <td>708.50</td>\n",
              "      <td>65</td>\n",
              "    </tr>\n",
              "    <tr>\n",
              "      <th>1</th>\n",
              "      <td>1</td>\n",
              "      <td>18</td>\n",
              "      <td>2019-01-02</td>\n",
              "      <td>1297.10</td>\n",
              "      <td>119</td>\n",
              "    </tr>\n",
              "    <tr>\n",
              "      <th>2</th>\n",
              "      <td>1</td>\n",
              "      <td>18</td>\n",
              "      <td>2019-01-03</td>\n",
              "      <td>1144.50</td>\n",
              "      <td>105</td>\n",
              "    </tr>\n",
              "    <tr>\n",
              "      <th>3</th>\n",
              "      <td>1</td>\n",
              "      <td>18</td>\n",
              "      <td>2019-01-04</td>\n",
              "      <td>1090.00</td>\n",
              "      <td>100</td>\n",
              "    </tr>\n",
              "    <tr>\n",
              "      <th>4</th>\n",
              "      <td>1</td>\n",
              "      <td>18</td>\n",
              "      <td>2019-01-05</td>\n",
              "      <td>893.80</td>\n",
              "      <td>82</td>\n",
              "    </tr>\n",
              "    <tr>\n",
              "      <th>...</th>\n",
              "      <td>...</td>\n",
              "      <td>...</td>\n",
              "      <td>...</td>\n",
              "      <td>...</td>\n",
              "      <td>...</td>\n",
              "    </tr>\n",
              "    <tr>\n",
              "      <th>995</th>\n",
              "      <td>1</td>\n",
              "      <td>48</td>\n",
              "      <td>2016-08-15</td>\n",
              "      <td>547.68</td>\n",
              "      <td>112</td>\n",
              "    </tr>\n",
              "    <tr>\n",
              "      <th>996</th>\n",
              "      <td>1</td>\n",
              "      <td>48</td>\n",
              "      <td>2016-08-16</td>\n",
              "      <td>679.71</td>\n",
              "      <td>139</td>\n",
              "    </tr>\n",
              "    <tr>\n",
              "      <th>997</th>\n",
              "      <td>1</td>\n",
              "      <td>48</td>\n",
              "      <td>2016-08-17</td>\n",
              "      <td>953.55</td>\n",
              "      <td>195</td>\n",
              "    </tr>\n",
              "    <tr>\n",
              "      <th>998</th>\n",
              "      <td>1</td>\n",
              "      <td>48</td>\n",
              "      <td>2016-08-18</td>\n",
              "      <td>787.29</td>\n",
              "      <td>161</td>\n",
              "    </tr>\n",
              "    <tr>\n",
              "      <th>999</th>\n",
              "      <td>1</td>\n",
              "      <td>48</td>\n",
              "      <td>2016-08-19</td>\n",
              "      <td>792.18</td>\n",
              "      <td>162</td>\n",
              "    </tr>\n",
              "  </tbody>\n",
              "</table>\n",
              "<p>1000 rows × 5 columns</p>\n",
              "</div>\n",
              "      <button class=\"colab-df-convert\" onclick=\"convertToInteractive('df-d0a3a399-d0b3-4812-a0b2-564619a21484')\"\n",
              "              title=\"Convert this dataframe to an interactive table.\"\n",
              "              style=\"display:none;\">\n",
              "        \n",
              "  <svg xmlns=\"http://www.w3.org/2000/svg\" height=\"24px\"viewBox=\"0 0 24 24\"\n",
              "       width=\"24px\">\n",
              "    <path d=\"M0 0h24v24H0V0z\" fill=\"none\"/>\n",
              "    <path d=\"M18.56 5.44l.94 2.06.94-2.06 2.06-.94-2.06-.94-.94-2.06-.94 2.06-2.06.94zm-11 1L8.5 8.5l.94-2.06 2.06-.94-2.06-.94L8.5 2.5l-.94 2.06-2.06.94zm10 10l.94 2.06.94-2.06 2.06-.94-2.06-.94-.94-2.06-.94 2.06-2.06.94z\"/><path d=\"M17.41 7.96l-1.37-1.37c-.4-.4-.92-.59-1.43-.59-.52 0-1.04.2-1.43.59L10.3 9.45l-7.72 7.72c-.78.78-.78 2.05 0 2.83L4 21.41c.39.39.9.59 1.41.59.51 0 1.02-.2 1.41-.59l7.78-7.78 2.81-2.81c.8-.78.8-2.07 0-2.86zM5.41 20L4 18.59l7.72-7.72 1.47 1.35L5.41 20z\"/>\n",
              "  </svg>\n",
              "      </button>\n",
              "      \n",
              "  <style>\n",
              "    .colab-df-container {\n",
              "      display:flex;\n",
              "      flex-wrap:wrap;\n",
              "      gap: 12px;\n",
              "    }\n",
              "\n",
              "    .colab-df-convert {\n",
              "      background-color: #E8F0FE;\n",
              "      border: none;\n",
              "      border-radius: 50%;\n",
              "      cursor: pointer;\n",
              "      display: none;\n",
              "      fill: #1967D2;\n",
              "      height: 32px;\n",
              "      padding: 0 0 0 0;\n",
              "      width: 32px;\n",
              "    }\n",
              "\n",
              "    .colab-df-convert:hover {\n",
              "      background-color: #E2EBFA;\n",
              "      box-shadow: 0px 1px 2px rgba(60, 64, 67, 0.3), 0px 1px 3px 1px rgba(60, 64, 67, 0.15);\n",
              "      fill: #174EA6;\n",
              "    }\n",
              "\n",
              "    [theme=dark] .colab-df-convert {\n",
              "      background-color: #3B4455;\n",
              "      fill: #D2E3FC;\n",
              "    }\n",
              "\n",
              "    [theme=dark] .colab-df-convert:hover {\n",
              "      background-color: #434B5C;\n",
              "      box-shadow: 0px 1px 3px 1px rgba(0, 0, 0, 0.15);\n",
              "      filter: drop-shadow(0px 1px 2px rgba(0, 0, 0, 0.3));\n",
              "      fill: #FFFFFF;\n",
              "    }\n",
              "  </style>\n",
              "\n",
              "      <script>\n",
              "        const buttonEl =\n",
              "          document.querySelector('#df-d0a3a399-d0b3-4812-a0b2-564619a21484 button.colab-df-convert');\n",
              "        buttonEl.style.display =\n",
              "          google.colab.kernel.accessAllowed ? 'block' : 'none';\n",
              "\n",
              "        async function convertToInteractive(key) {\n",
              "          const element = document.querySelector('#df-d0a3a399-d0b3-4812-a0b2-564619a21484');\n",
              "          const dataTable =\n",
              "            await google.colab.kernel.invokeFunction('convertToInteractive',\n",
              "                                                     [key], {});\n",
              "          if (!dataTable) return;\n",
              "\n",
              "          const docLinkHtml = 'Like what you see? Visit the ' +\n",
              "            '<a target=\"_blank\" href=https://colab.research.google.com/notebooks/data_table.ipynb>data table notebook</a>'\n",
              "            + ' to learn more about interactive tables.';\n",
              "          element.innerHTML = '';\n",
              "          dataTable['output_type'] = 'display_data';\n",
              "          await google.colab.output.renderOutput(dataTable, element);\n",
              "          const docLink = document.createElement('div');\n",
              "          docLink.innerHTML = docLinkHtml;\n",
              "          element.appendChild(docLink);\n",
              "        }\n",
              "      </script>\n",
              "    </div>\n",
              "  </div>\n",
              "  "
            ]
          },
          "metadata": {},
          "execution_count": 7
        }
      ]
    },
    {
      "cell_type": "code",
      "source": [
        "from_db = []"
      ],
      "metadata": {
        "id": "Sy6XvzH8GycR"
      },
      "execution_count": null,
      "outputs": []
    },
    {
      "cell_type": "code",
      "source": [
        "for myresult in myresult:\n",
        "  myresult = myresult\n",
        "  from_db.append(myresult)"
      ],
      "metadata": {
        "id": "Rq8gOUQBJr9x"
      },
      "execution_count": null,
      "outputs": []
    },
    {
      "cell_type": "code",
      "source": [
        "myresult"
      ],
      "metadata": {
        "id": "YkJh4RbKJ1oy",
        "colab": {
          "base_uri": "https://localhost:8080/"
        },
        "outputId": "77422406-c073-40ff-bf94-af3e5915268a"
      },
      "execution_count": null,
      "outputs": [
        {
          "output_type": "execute_result",
          "data": {
            "text/plain": [
              "('1', 48, datetime.date(2016, 8, 19), Decimal('792.18'), Decimal('162'))"
            ]
          },
          "metadata": {},
          "execution_count": 10
        }
      ]
    },
    {
      "cell_type": "code",
      "source": [
        ""
      ],
      "metadata": {
        "id": "y8QUVgp9J7We"
      },
      "execution_count": null,
      "outputs": []
    },
    {
      "cell_type": "markdown",
      "source": [
        "# Question 2"
      ],
      "metadata": {
        "id": "fot2PguOgWKg"
      }
    },
    {
      "cell_type": "markdown",
      "source": [
        "## Importing"
      ],
      "metadata": {
        "id": "XPANtg22Ufjb"
      }
    },
    {
      "cell_type": "code",
      "source": [
        "mycursor.execute(\"SELECT STORE_CODE, STORE_NAME, START_DATE, END_DATE, BUSINESS_NAME, BUSINESS_CODE FROM data_store_cad LIMIT 100\") #use query 1\n",
        "query1 = mycursor.fetchall() #fetches all results and put in query1\n",
        "query1   #show query 1"
      ],
      "metadata": {
        "id": "-4rtG04igaSI",
        "colab": {
          "base_uri": "https://localhost:8080/"
        },
        "outputId": "90230341-1d11-407e-ec5c-f1d02e25199c"
      },
      "execution_count": 233,
      "outputs": [
        {
          "output_type": "execute_result",
          "data": {
            "text/plain": [
              "[(1, 'Sao Paulo', '2006-10-01', '', 'Varejo', 1),\n",
              " (2, 'Chicago', '2007-10-01', '', 'Varejo', 1),\n",
              " (3, 'Roma', '2008-10-01', '', 'Varejo', 1),\n",
              " (4, 'Tokio', '2009-10-01', '', 'Varejo', 1),\n",
              " (5, 'Paris', '2019-01-01', '', 'Proximidade', 2),\n",
              " (6, 'Berlin', '2011-10-01', '', 'Proximidade', 2),\n",
              " (7, 'New York', '2012-10-01', '', 'Proximidade', 2),\n",
              " (8, 'Belem', '2013-10-01', '', 'Proximidade', 2),\n",
              " (9, 'London', '2014-10-01', '', 'Farma', 4),\n",
              " (10, 'Hong Kong', '2019-01-01', '', 'Farma', 4),\n",
              " (11, 'Rio de Janeiro', '2019-01-01', '', 'Farma', 4),\n",
              " (12, 'Madri', '2019-01-01', '', 'Farma', 4),\n",
              " (13, 'Dubai', '2019-01-01', '', 'Atacado', 5),\n",
              " (14, 'Bahia', '2019-01-01', '', 'Atacado', 5),\n",
              " (15, 'Buenos Aires', '2019-01-01', '', 'Atacado', 5),\n",
              " (16, 'Salvador', '2019-01-01', '', 'Atacado', 5),\n",
              " (17, 'Sidney', '2019-01-01', '', 'Posto', 3),\n",
              " (18, 'Bangkok', '2019-01-01', '', 'Posto', 3),\n",
              " (19, 'Miami', '2019-01-01', '', 'Posto', 3),\n",
              " (20, 'Vancouver', '2019-01-01', '', 'Posto', 3)]"
            ]
          },
          "metadata": {},
          "execution_count": 233
        }
      ]
    },
    {
      "cell_type": "code",
      "source": [
        "mycursor.execute(\"SELECT STORE_CODE, DATE, SALES_VALUE, SALES_QTY FROM data_store_sales WHERE DATE BETWEEN '2019-01-01' AND '2019-12-31'\") #use query 2\n",
        "query2 = mycursor.fetchall() #fetches all results and put in query2\n",
        "#query2 #show query2"
      ],
      "metadata": {
        "id": "3mg13ahBBCEw"
      },
      "execution_count": 234,
      "outputs": []
    },
    {
      "cell_type": "markdown",
      "source": [
        "## Transforming Data"
      ],
      "metadata": {
        "id": "JcgrXPxHUnqx"
      }
    },
    {
      "cell_type": "code",
      "source": [
        "df1 = pd.DataFrame(query1, columns = ['Store_cod', 'Product_code', 'Start_Date','End_Date', 'Business_Name', 'Business_code']) #tranform query 1 to dataframe and chose the name of columns\n",
        "df2 = pd.DataFrame(query2, columns = ['Store_cod', 'Date', 'Sale_value', 'Sales_qty']) ##tranform query 2 to dataframe and chose the name of columns"
      ],
      "metadata": {
        "id": "xNG4Is8Fgmts"
      },
      "execution_count": 203,
      "outputs": []
    },
    {
      "cell_type": "code",
      "source": [
        "df1.Start_Date.dtypes #check type of column"
      ],
      "metadata": {
        "id": "_YBGDNwWg6qA",
        "colab": {
          "base_uri": "https://localhost:8080/"
        },
        "outputId": "49c69146-6200-4e53-8f37-b4672d27bef8"
      },
      "execution_count": 204,
      "outputs": [
        {
          "output_type": "execute_result",
          "data": {
            "text/plain": [
              "dtype('O')"
            ]
          },
          "metadata": {},
          "execution_count": 204
        }
      ]
    },
    {
      "cell_type": "code",
      "source": [
        "df1['Start_Date'] = pd.to_datetime(df1.Start_Date) #transform to date  the columns Start_Date, because was imported as object\n",
        "df2['Date'] = pd.to_datetime(df2.Date) #transform to date  the columns Date"
      ],
      "metadata": {
        "id": "pOo-h4kaGVJI"
      },
      "execution_count": 205,
      "outputs": []
    },
    {
      "cell_type": "markdown",
      "source": [
        "## Filtering Data"
      ],
      "metadata": {
        "id": "BpK-NSdzUwo6"
      }
    },
    {
      "cell_type": "code",
      "source": [
        "df2 = df2[(df2['Date'] > '2019-12-01') & (df2['Date'] < '2019-12-31')] #filter query 2 as asked"
      ],
      "metadata": {
        "id": "HkIx58E8Bzt7"
      },
      "execution_count": 206,
      "outputs": []
    },
    {
      "cell_type": "markdown",
      "source": [
        "## Calculate ticket value"
      ],
      "metadata": {
        "id": "2e0Y59cZV7K-"
      }
    },
    {
      "cell_type": "code",
      "source": [
        "df2['Ticket'] = df2.Sale_value/df2.Sales_qty #Calculate ticket value"
      ],
      "metadata": {
        "id": "hZvGBGGCN18x"
      },
      "execution_count": 207,
      "outputs": []
    },
    {
      "cell_type": "code",
      "source": [
        "df2"
      ],
      "metadata": {
        "id": "lvJ8vBbRN7kh",
        "colab": {
          "base_uri": "https://localhost:8080/",
          "height": 0
        },
        "outputId": "dda722a0-4b19-4263-b2c0-c4c385ef747b"
      },
      "execution_count": 208,
      "outputs": [
        {
          "output_type": "execute_result",
          "data": {
            "text/plain": [
              "      Store_cod       Date  Sale_value  Sales_qty     Ticket\n",
              "6700          1 2019-12-02   170756.36      11085  15.404272\n",
              "6701         10 2019-12-02   122944.35       4649  26.445332\n",
              "6702         11 2019-12-02   222921.67       7513  29.671459\n",
              "6703         12 2019-12-02   197926.09       6797  29.119625\n",
              "6704         13 2019-12-02   170756.36      11085  15.404272\n",
              "...         ...        ...         ...        ...        ...\n",
              "7275          5 2019-12-30   169775.21      11035  15.385157\n",
              "7276          6 2019-12-30   169775.21      11035  15.385157\n",
              "7277          7 2019-12-30   169775.21      11035  15.385157\n",
              "7278          8 2019-12-30   168003.11      10936  15.362391\n",
              "7279          9 2019-12-30   154459.78       5328  28.990199\n",
              "\n",
              "[580 rows x 5 columns]"
            ],
            "text/html": [
              "\n",
              "  <div id=\"df-4be98ff9-f023-4714-b3fe-f9683f8ed9a2\">\n",
              "    <div class=\"colab-df-container\">\n",
              "      <div>\n",
              "<style scoped>\n",
              "    .dataframe tbody tr th:only-of-type {\n",
              "        vertical-align: middle;\n",
              "    }\n",
              "\n",
              "    .dataframe tbody tr th {\n",
              "        vertical-align: top;\n",
              "    }\n",
              "\n",
              "    .dataframe thead th {\n",
              "        text-align: right;\n",
              "    }\n",
              "</style>\n",
              "<table border=\"1\" class=\"dataframe\">\n",
              "  <thead>\n",
              "    <tr style=\"text-align: right;\">\n",
              "      <th></th>\n",
              "      <th>Store_cod</th>\n",
              "      <th>Date</th>\n",
              "      <th>Sale_value</th>\n",
              "      <th>Sales_qty</th>\n",
              "      <th>Ticket</th>\n",
              "    </tr>\n",
              "  </thead>\n",
              "  <tbody>\n",
              "    <tr>\n",
              "      <th>6700</th>\n",
              "      <td>1</td>\n",
              "      <td>2019-12-02</td>\n",
              "      <td>170756.36</td>\n",
              "      <td>11085</td>\n",
              "      <td>15.404272</td>\n",
              "    </tr>\n",
              "    <tr>\n",
              "      <th>6701</th>\n",
              "      <td>10</td>\n",
              "      <td>2019-12-02</td>\n",
              "      <td>122944.35</td>\n",
              "      <td>4649</td>\n",
              "      <td>26.445332</td>\n",
              "    </tr>\n",
              "    <tr>\n",
              "      <th>6702</th>\n",
              "      <td>11</td>\n",
              "      <td>2019-12-02</td>\n",
              "      <td>222921.67</td>\n",
              "      <td>7513</td>\n",
              "      <td>29.671459</td>\n",
              "    </tr>\n",
              "    <tr>\n",
              "      <th>6703</th>\n",
              "      <td>12</td>\n",
              "      <td>2019-12-02</td>\n",
              "      <td>197926.09</td>\n",
              "      <td>6797</td>\n",
              "      <td>29.119625</td>\n",
              "    </tr>\n",
              "    <tr>\n",
              "      <th>6704</th>\n",
              "      <td>13</td>\n",
              "      <td>2019-12-02</td>\n",
              "      <td>170756.36</td>\n",
              "      <td>11085</td>\n",
              "      <td>15.404272</td>\n",
              "    </tr>\n",
              "    <tr>\n",
              "      <th>...</th>\n",
              "      <td>...</td>\n",
              "      <td>...</td>\n",
              "      <td>...</td>\n",
              "      <td>...</td>\n",
              "      <td>...</td>\n",
              "    </tr>\n",
              "    <tr>\n",
              "      <th>7275</th>\n",
              "      <td>5</td>\n",
              "      <td>2019-12-30</td>\n",
              "      <td>169775.21</td>\n",
              "      <td>11035</td>\n",
              "      <td>15.385157</td>\n",
              "    </tr>\n",
              "    <tr>\n",
              "      <th>7276</th>\n",
              "      <td>6</td>\n",
              "      <td>2019-12-30</td>\n",
              "      <td>169775.21</td>\n",
              "      <td>11035</td>\n",
              "      <td>15.385157</td>\n",
              "    </tr>\n",
              "    <tr>\n",
              "      <th>7277</th>\n",
              "      <td>7</td>\n",
              "      <td>2019-12-30</td>\n",
              "      <td>169775.21</td>\n",
              "      <td>11035</td>\n",
              "      <td>15.385157</td>\n",
              "    </tr>\n",
              "    <tr>\n",
              "      <th>7278</th>\n",
              "      <td>8</td>\n",
              "      <td>2019-12-30</td>\n",
              "      <td>168003.11</td>\n",
              "      <td>10936</td>\n",
              "      <td>15.362391</td>\n",
              "    </tr>\n",
              "    <tr>\n",
              "      <th>7279</th>\n",
              "      <td>9</td>\n",
              "      <td>2019-12-30</td>\n",
              "      <td>154459.78</td>\n",
              "      <td>5328</td>\n",
              "      <td>28.990199</td>\n",
              "    </tr>\n",
              "  </tbody>\n",
              "</table>\n",
              "<p>580 rows × 5 columns</p>\n",
              "</div>\n",
              "      <button class=\"colab-df-convert\" onclick=\"convertToInteractive('df-4be98ff9-f023-4714-b3fe-f9683f8ed9a2')\"\n",
              "              title=\"Convert this dataframe to an interactive table.\"\n",
              "              style=\"display:none;\">\n",
              "        \n",
              "  <svg xmlns=\"http://www.w3.org/2000/svg\" height=\"24px\"viewBox=\"0 0 24 24\"\n",
              "       width=\"24px\">\n",
              "    <path d=\"M0 0h24v24H0V0z\" fill=\"none\"/>\n",
              "    <path d=\"M18.56 5.44l.94 2.06.94-2.06 2.06-.94-2.06-.94-.94-2.06-.94 2.06-2.06.94zm-11 1L8.5 8.5l.94-2.06 2.06-.94-2.06-.94L8.5 2.5l-.94 2.06-2.06.94zm10 10l.94 2.06.94-2.06 2.06-.94-2.06-.94-.94-2.06-.94 2.06-2.06.94z\"/><path d=\"M17.41 7.96l-1.37-1.37c-.4-.4-.92-.59-1.43-.59-.52 0-1.04.2-1.43.59L10.3 9.45l-7.72 7.72c-.78.78-.78 2.05 0 2.83L4 21.41c.39.39.9.59 1.41.59.51 0 1.02-.2 1.41-.59l7.78-7.78 2.81-2.81c.8-.78.8-2.07 0-2.86zM5.41 20L4 18.59l7.72-7.72 1.47 1.35L5.41 20z\"/>\n",
              "  </svg>\n",
              "      </button>\n",
              "      \n",
              "  <style>\n",
              "    .colab-df-container {\n",
              "      display:flex;\n",
              "      flex-wrap:wrap;\n",
              "      gap: 12px;\n",
              "    }\n",
              "\n",
              "    .colab-df-convert {\n",
              "      background-color: #E8F0FE;\n",
              "      border: none;\n",
              "      border-radius: 50%;\n",
              "      cursor: pointer;\n",
              "      display: none;\n",
              "      fill: #1967D2;\n",
              "      height: 32px;\n",
              "      padding: 0 0 0 0;\n",
              "      width: 32px;\n",
              "    }\n",
              "\n",
              "    .colab-df-convert:hover {\n",
              "      background-color: #E2EBFA;\n",
              "      box-shadow: 0px 1px 2px rgba(60, 64, 67, 0.3), 0px 1px 3px 1px rgba(60, 64, 67, 0.15);\n",
              "      fill: #174EA6;\n",
              "    }\n",
              "\n",
              "    [theme=dark] .colab-df-convert {\n",
              "      background-color: #3B4455;\n",
              "      fill: #D2E3FC;\n",
              "    }\n",
              "\n",
              "    [theme=dark] .colab-df-convert:hover {\n",
              "      background-color: #434B5C;\n",
              "      box-shadow: 0px 1px 3px 1px rgba(0, 0, 0, 0.15);\n",
              "      filter: drop-shadow(0px 1px 2px rgba(0, 0, 0, 0.3));\n",
              "      fill: #FFFFFF;\n",
              "    }\n",
              "  </style>\n",
              "\n",
              "      <script>\n",
              "        const buttonEl =\n",
              "          document.querySelector('#df-4be98ff9-f023-4714-b3fe-f9683f8ed9a2 button.colab-df-convert');\n",
              "        buttonEl.style.display =\n",
              "          google.colab.kernel.accessAllowed ? 'block' : 'none';\n",
              "\n",
              "        async function convertToInteractive(key) {\n",
              "          const element = document.querySelector('#df-4be98ff9-f023-4714-b3fe-f9683f8ed9a2');\n",
              "          const dataTable =\n",
              "            await google.colab.kernel.invokeFunction('convertToInteractive',\n",
              "                                                     [key], {});\n",
              "          if (!dataTable) return;\n",
              "\n",
              "          const docLinkHtml = 'Like what you see? Visit the ' +\n",
              "            '<a target=\"_blank\" href=https://colab.research.google.com/notebooks/data_table.ipynb>data table notebook</a>'\n",
              "            + ' to learn more about interactive tables.';\n",
              "          element.innerHTML = '';\n",
              "          dataTable['output_type'] = 'display_data';\n",
              "          await google.colab.output.renderOutput(dataTable, element);\n",
              "          const docLink = document.createElement('div');\n",
              "          docLink.innerHTML = docLinkHtml;\n",
              "          element.appendChild(docLink);\n",
              "        }\n",
              "      </script>\n",
              "    </div>\n",
              "  </div>\n",
              "  "
            ]
          },
          "metadata": {},
          "execution_count": 208
        }
      ]
    },
    {
      "cell_type": "markdown",
      "source": [
        "## Merge the columns"
      ],
      "metadata": {
        "id": "D2mWhO_tWAsJ"
      }
    },
    {
      "cell_type": "code",
      "source": [
        "df0 = pd.merge(df2, df1, on = 'Store_cod') #merge two columns (query1 and query2)\n",
        "df0"
      ],
      "metadata": {
        "id": "IdajzrrGF5Hz",
        "colab": {
          "base_uri": "https://localhost:8080/",
          "height": 0
        },
        "outputId": "746559cb-178d-4cd0-88b4-52f0fb2ac207"
      },
      "execution_count": 209,
      "outputs": [
        {
          "output_type": "execute_result",
          "data": {
            "text/plain": [
              "     Store_cod       Date  Sale_value  Sales_qty     Ticket Product_code  \\\n",
              "0            1 2019-12-02   170756.36      11085  15.404272    Sao Paulo   \n",
              "1            1 2019-12-03   196899.17      12805  15.376741    Sao Paulo   \n",
              "2            1 2019-12-04   341691.51      22195  15.394977    Sao Paulo   \n",
              "3            1 2019-12-05   296725.34      19332  15.348921    Sao Paulo   \n",
              "4            1 2019-12-06   244171.36      15800  15.453884    Sao Paulo   \n",
              "..         ...        ...         ...        ...        ...          ...   \n",
              "575          9 2019-12-26   236975.89       8170  29.005617       London   \n",
              "576          9 2019-12-27   249839.86       8622  28.977019       London   \n",
              "577          9 2019-12-28   201536.13       6958  28.964664       London   \n",
              "578          9 2019-12-29   159300.08       5497  28.979458       London   \n",
              "579          9 2019-12-30   154459.78       5328  28.990199       London   \n",
              "\n",
              "    Start_Date End_Date Business_Name  Business_code  \n",
              "0   2006-10-01                 Varejo              1  \n",
              "1   2006-10-01                 Varejo              1  \n",
              "2   2006-10-01                 Varejo              1  \n",
              "3   2006-10-01                 Varejo              1  \n",
              "4   2006-10-01                 Varejo              1  \n",
              "..         ...      ...           ...            ...  \n",
              "575 2014-10-01                  Farma              4  \n",
              "576 2014-10-01                  Farma              4  \n",
              "577 2014-10-01                  Farma              4  \n",
              "578 2014-10-01                  Farma              4  \n",
              "579 2014-10-01                  Farma              4  \n",
              "\n",
              "[580 rows x 10 columns]"
            ],
            "text/html": [
              "\n",
              "  <div id=\"df-9123f62d-aece-4cdc-bcb3-ee266980aee8\">\n",
              "    <div class=\"colab-df-container\">\n",
              "      <div>\n",
              "<style scoped>\n",
              "    .dataframe tbody tr th:only-of-type {\n",
              "        vertical-align: middle;\n",
              "    }\n",
              "\n",
              "    .dataframe tbody tr th {\n",
              "        vertical-align: top;\n",
              "    }\n",
              "\n",
              "    .dataframe thead th {\n",
              "        text-align: right;\n",
              "    }\n",
              "</style>\n",
              "<table border=\"1\" class=\"dataframe\">\n",
              "  <thead>\n",
              "    <tr style=\"text-align: right;\">\n",
              "      <th></th>\n",
              "      <th>Store_cod</th>\n",
              "      <th>Date</th>\n",
              "      <th>Sale_value</th>\n",
              "      <th>Sales_qty</th>\n",
              "      <th>Ticket</th>\n",
              "      <th>Product_code</th>\n",
              "      <th>Start_Date</th>\n",
              "      <th>End_Date</th>\n",
              "      <th>Business_Name</th>\n",
              "      <th>Business_code</th>\n",
              "    </tr>\n",
              "  </thead>\n",
              "  <tbody>\n",
              "    <tr>\n",
              "      <th>0</th>\n",
              "      <td>1</td>\n",
              "      <td>2019-12-02</td>\n",
              "      <td>170756.36</td>\n",
              "      <td>11085</td>\n",
              "      <td>15.404272</td>\n",
              "      <td>Sao Paulo</td>\n",
              "      <td>2006-10-01</td>\n",
              "      <td></td>\n",
              "      <td>Varejo</td>\n",
              "      <td>1</td>\n",
              "    </tr>\n",
              "    <tr>\n",
              "      <th>1</th>\n",
              "      <td>1</td>\n",
              "      <td>2019-12-03</td>\n",
              "      <td>196899.17</td>\n",
              "      <td>12805</td>\n",
              "      <td>15.376741</td>\n",
              "      <td>Sao Paulo</td>\n",
              "      <td>2006-10-01</td>\n",
              "      <td></td>\n",
              "      <td>Varejo</td>\n",
              "      <td>1</td>\n",
              "    </tr>\n",
              "    <tr>\n",
              "      <th>2</th>\n",
              "      <td>1</td>\n",
              "      <td>2019-12-04</td>\n",
              "      <td>341691.51</td>\n",
              "      <td>22195</td>\n",
              "      <td>15.394977</td>\n",
              "      <td>Sao Paulo</td>\n",
              "      <td>2006-10-01</td>\n",
              "      <td></td>\n",
              "      <td>Varejo</td>\n",
              "      <td>1</td>\n",
              "    </tr>\n",
              "    <tr>\n",
              "      <th>3</th>\n",
              "      <td>1</td>\n",
              "      <td>2019-12-05</td>\n",
              "      <td>296725.34</td>\n",
              "      <td>19332</td>\n",
              "      <td>15.348921</td>\n",
              "      <td>Sao Paulo</td>\n",
              "      <td>2006-10-01</td>\n",
              "      <td></td>\n",
              "      <td>Varejo</td>\n",
              "      <td>1</td>\n",
              "    </tr>\n",
              "    <tr>\n",
              "      <th>4</th>\n",
              "      <td>1</td>\n",
              "      <td>2019-12-06</td>\n",
              "      <td>244171.36</td>\n",
              "      <td>15800</td>\n",
              "      <td>15.453884</td>\n",
              "      <td>Sao Paulo</td>\n",
              "      <td>2006-10-01</td>\n",
              "      <td></td>\n",
              "      <td>Varejo</td>\n",
              "      <td>1</td>\n",
              "    </tr>\n",
              "    <tr>\n",
              "      <th>...</th>\n",
              "      <td>...</td>\n",
              "      <td>...</td>\n",
              "      <td>...</td>\n",
              "      <td>...</td>\n",
              "      <td>...</td>\n",
              "      <td>...</td>\n",
              "      <td>...</td>\n",
              "      <td>...</td>\n",
              "      <td>...</td>\n",
              "      <td>...</td>\n",
              "    </tr>\n",
              "    <tr>\n",
              "      <th>575</th>\n",
              "      <td>9</td>\n",
              "      <td>2019-12-26</td>\n",
              "      <td>236975.89</td>\n",
              "      <td>8170</td>\n",
              "      <td>29.005617</td>\n",
              "      <td>London</td>\n",
              "      <td>2014-10-01</td>\n",
              "      <td></td>\n",
              "      <td>Farma</td>\n",
              "      <td>4</td>\n",
              "    </tr>\n",
              "    <tr>\n",
              "      <th>576</th>\n",
              "      <td>9</td>\n",
              "      <td>2019-12-27</td>\n",
              "      <td>249839.86</td>\n",
              "      <td>8622</td>\n",
              "      <td>28.977019</td>\n",
              "      <td>London</td>\n",
              "      <td>2014-10-01</td>\n",
              "      <td></td>\n",
              "      <td>Farma</td>\n",
              "      <td>4</td>\n",
              "    </tr>\n",
              "    <tr>\n",
              "      <th>577</th>\n",
              "      <td>9</td>\n",
              "      <td>2019-12-28</td>\n",
              "      <td>201536.13</td>\n",
              "      <td>6958</td>\n",
              "      <td>28.964664</td>\n",
              "      <td>London</td>\n",
              "      <td>2014-10-01</td>\n",
              "      <td></td>\n",
              "      <td>Farma</td>\n",
              "      <td>4</td>\n",
              "    </tr>\n",
              "    <tr>\n",
              "      <th>578</th>\n",
              "      <td>9</td>\n",
              "      <td>2019-12-29</td>\n",
              "      <td>159300.08</td>\n",
              "      <td>5497</td>\n",
              "      <td>28.979458</td>\n",
              "      <td>London</td>\n",
              "      <td>2014-10-01</td>\n",
              "      <td></td>\n",
              "      <td>Farma</td>\n",
              "      <td>4</td>\n",
              "    </tr>\n",
              "    <tr>\n",
              "      <th>579</th>\n",
              "      <td>9</td>\n",
              "      <td>2019-12-30</td>\n",
              "      <td>154459.78</td>\n",
              "      <td>5328</td>\n",
              "      <td>28.990199</td>\n",
              "      <td>London</td>\n",
              "      <td>2014-10-01</td>\n",
              "      <td></td>\n",
              "      <td>Farma</td>\n",
              "      <td>4</td>\n",
              "    </tr>\n",
              "  </tbody>\n",
              "</table>\n",
              "<p>580 rows × 10 columns</p>\n",
              "</div>\n",
              "      <button class=\"colab-df-convert\" onclick=\"convertToInteractive('df-9123f62d-aece-4cdc-bcb3-ee266980aee8')\"\n",
              "              title=\"Convert this dataframe to an interactive table.\"\n",
              "              style=\"display:none;\">\n",
              "        \n",
              "  <svg xmlns=\"http://www.w3.org/2000/svg\" height=\"24px\"viewBox=\"0 0 24 24\"\n",
              "       width=\"24px\">\n",
              "    <path d=\"M0 0h24v24H0V0z\" fill=\"none\"/>\n",
              "    <path d=\"M18.56 5.44l.94 2.06.94-2.06 2.06-.94-2.06-.94-.94-2.06-.94 2.06-2.06.94zm-11 1L8.5 8.5l.94-2.06 2.06-.94-2.06-.94L8.5 2.5l-.94 2.06-2.06.94zm10 10l.94 2.06.94-2.06 2.06-.94-2.06-.94-.94-2.06-.94 2.06-2.06.94z\"/><path d=\"M17.41 7.96l-1.37-1.37c-.4-.4-.92-.59-1.43-.59-.52 0-1.04.2-1.43.59L10.3 9.45l-7.72 7.72c-.78.78-.78 2.05 0 2.83L4 21.41c.39.39.9.59 1.41.59.51 0 1.02-.2 1.41-.59l7.78-7.78 2.81-2.81c.8-.78.8-2.07 0-2.86zM5.41 20L4 18.59l7.72-7.72 1.47 1.35L5.41 20z\"/>\n",
              "  </svg>\n",
              "      </button>\n",
              "      \n",
              "  <style>\n",
              "    .colab-df-container {\n",
              "      display:flex;\n",
              "      flex-wrap:wrap;\n",
              "      gap: 12px;\n",
              "    }\n",
              "\n",
              "    .colab-df-convert {\n",
              "      background-color: #E8F0FE;\n",
              "      border: none;\n",
              "      border-radius: 50%;\n",
              "      cursor: pointer;\n",
              "      display: none;\n",
              "      fill: #1967D2;\n",
              "      height: 32px;\n",
              "      padding: 0 0 0 0;\n",
              "      width: 32px;\n",
              "    }\n",
              "\n",
              "    .colab-df-convert:hover {\n",
              "      background-color: #E2EBFA;\n",
              "      box-shadow: 0px 1px 2px rgba(60, 64, 67, 0.3), 0px 1px 3px 1px rgba(60, 64, 67, 0.15);\n",
              "      fill: #174EA6;\n",
              "    }\n",
              "\n",
              "    [theme=dark] .colab-df-convert {\n",
              "      background-color: #3B4455;\n",
              "      fill: #D2E3FC;\n",
              "    }\n",
              "\n",
              "    [theme=dark] .colab-df-convert:hover {\n",
              "      background-color: #434B5C;\n",
              "      box-shadow: 0px 1px 3px 1px rgba(0, 0, 0, 0.15);\n",
              "      filter: drop-shadow(0px 1px 2px rgba(0, 0, 0, 0.3));\n",
              "      fill: #FFFFFF;\n",
              "    }\n",
              "  </style>\n",
              "\n",
              "      <script>\n",
              "        const buttonEl =\n",
              "          document.querySelector('#df-9123f62d-aece-4cdc-bcb3-ee266980aee8 button.colab-df-convert');\n",
              "        buttonEl.style.display =\n",
              "          google.colab.kernel.accessAllowed ? 'block' : 'none';\n",
              "\n",
              "        async function convertToInteractive(key) {\n",
              "          const element = document.querySelector('#df-9123f62d-aece-4cdc-bcb3-ee266980aee8');\n",
              "          const dataTable =\n",
              "            await google.colab.kernel.invokeFunction('convertToInteractive',\n",
              "                                                     [key], {});\n",
              "          if (!dataTable) return;\n",
              "\n",
              "          const docLinkHtml = 'Like what you see? Visit the ' +\n",
              "            '<a target=\"_blank\" href=https://colab.research.google.com/notebooks/data_table.ipynb>data table notebook</a>'\n",
              "            + ' to learn more about interactive tables.';\n",
              "          element.innerHTML = '';\n",
              "          dataTable['output_type'] = 'display_data';\n",
              "          await google.colab.output.renderOutput(dataTable, element);\n",
              "          const docLink = document.createElement('div');\n",
              "          docLink.innerHTML = docLinkHtml;\n",
              "          element.appendChild(docLink);\n",
              "        }\n",
              "      </script>\n",
              "    </div>\n",
              "  </div>\n",
              "  "
            ]
          },
          "metadata": {},
          "execution_count": 209
        }
      ]
    },
    {
      "cell_type": "markdown",
      "source": [
        "## Choose the columns and rename"
      ],
      "metadata": {
        "id": "p7motuGtWD18"
      }
    },
    {
      "cell_type": "code",
      "source": [
        "result_df = df0[['Product_code','Business_Name','Ticket']] #Choose just 3 columns to show on the result\n",
        "#result_df = result_df.rename(columns ={'Product_code': 'Loja', 'Business_Name': 'Categoria'}) #rename columns"
      ],
      "metadata": {
        "id": "4QdTJmC4Bgap"
      },
      "execution_count": 224,
      "outputs": []
    },
    {
      "cell_type": "code",
      "source": [
        "result = result_df.groupby(['Product_code','Business_Name'], as_index=False).agg('mean').round(2) #calculae meand from group Loja and Categoria"
      ],
      "metadata": {
        "id": "x1-zcUZ8ghlA"
      },
      "execution_count": 225,
      "outputs": []
    },
    {
      "cell_type": "code",
      "source": [
        "result = result.rename(columns ={'Product_code': 'Loja', 'Business_Name': 'Categoria', 'Ticket':'TM'}) #rename columns"
      ],
      "metadata": {
        "id": "dJjaVLLZmi1W"
      },
      "execution_count": 226,
      "outputs": []
    },
    {
      "cell_type": "code",
      "source": [
        "result"
      ],
      "metadata": {
        "colab": {
          "base_uri": "https://localhost:8080/",
          "height": 676
        },
        "id": "VaQcq267iIeD",
        "outputId": "3d66f76b-3e1a-4cd3-af62-c82b56cb28f9"
      },
      "execution_count": 229,
      "outputs": [
        {
          "output_type": "execute_result",
          "data": {
            "text/plain": [
              "              Loja    Categoria     TM\n",
              "0            Bahia      Atacado  15.39\n",
              "1          Bangkok        Posto  13.67\n",
              "2            Belem  Proximidade  15.36\n",
              "3           Berlin  Proximidade  15.39\n",
              "4     Buenos Aires      Atacado  15.39\n",
              "5          Chicago       Varejo  15.53\n",
              "6            Dubai      Atacado  15.39\n",
              "7        Hong Kong        Farma  26.32\n",
              "8           London        Farma  29.00\n",
              "9            Madri        Farma  29.01\n",
              "10           Miami        Posto  13.67\n",
              "11        New York  Proximidade  15.39\n",
              "12           Paris  Proximidade  15.39\n",
              "13  Rio de Janeiro        Farma  29.56\n",
              "14            Roma       Varejo  15.39\n",
              "15        Salvador      Atacado  15.39\n",
              "16       Sao Paulo       Varejo  15.39\n",
              "17          Sidney        Posto  13.67\n",
              "18           Tokio       Varejo  15.39\n",
              "19       Vancouver        Posto  13.67"
            ],
            "text/html": [
              "\n",
              "  <div id=\"df-c5e22172-e7fb-436e-b54b-b3afb155130d\">\n",
              "    <div class=\"colab-df-container\">\n",
              "      <div>\n",
              "<style scoped>\n",
              "    .dataframe tbody tr th:only-of-type {\n",
              "        vertical-align: middle;\n",
              "    }\n",
              "\n",
              "    .dataframe tbody tr th {\n",
              "        vertical-align: top;\n",
              "    }\n",
              "\n",
              "    .dataframe thead th {\n",
              "        text-align: right;\n",
              "    }\n",
              "</style>\n",
              "<table border=\"1\" class=\"dataframe\">\n",
              "  <thead>\n",
              "    <tr style=\"text-align: right;\">\n",
              "      <th></th>\n",
              "      <th>Loja</th>\n",
              "      <th>Categoria</th>\n",
              "      <th>TM</th>\n",
              "    </tr>\n",
              "  </thead>\n",
              "  <tbody>\n",
              "    <tr>\n",
              "      <th>0</th>\n",
              "      <td>Bahia</td>\n",
              "      <td>Atacado</td>\n",
              "      <td>15.39</td>\n",
              "    </tr>\n",
              "    <tr>\n",
              "      <th>1</th>\n",
              "      <td>Bangkok</td>\n",
              "      <td>Posto</td>\n",
              "      <td>13.67</td>\n",
              "    </tr>\n",
              "    <tr>\n",
              "      <th>2</th>\n",
              "      <td>Belem</td>\n",
              "      <td>Proximidade</td>\n",
              "      <td>15.36</td>\n",
              "    </tr>\n",
              "    <tr>\n",
              "      <th>3</th>\n",
              "      <td>Berlin</td>\n",
              "      <td>Proximidade</td>\n",
              "      <td>15.39</td>\n",
              "    </tr>\n",
              "    <tr>\n",
              "      <th>4</th>\n",
              "      <td>Buenos Aires</td>\n",
              "      <td>Atacado</td>\n",
              "      <td>15.39</td>\n",
              "    </tr>\n",
              "    <tr>\n",
              "      <th>5</th>\n",
              "      <td>Chicago</td>\n",
              "      <td>Varejo</td>\n",
              "      <td>15.53</td>\n",
              "    </tr>\n",
              "    <tr>\n",
              "      <th>6</th>\n",
              "      <td>Dubai</td>\n",
              "      <td>Atacado</td>\n",
              "      <td>15.39</td>\n",
              "    </tr>\n",
              "    <tr>\n",
              "      <th>7</th>\n",
              "      <td>Hong Kong</td>\n",
              "      <td>Farma</td>\n",
              "      <td>26.32</td>\n",
              "    </tr>\n",
              "    <tr>\n",
              "      <th>8</th>\n",
              "      <td>London</td>\n",
              "      <td>Farma</td>\n",
              "      <td>29.00</td>\n",
              "    </tr>\n",
              "    <tr>\n",
              "      <th>9</th>\n",
              "      <td>Madri</td>\n",
              "      <td>Farma</td>\n",
              "      <td>29.01</td>\n",
              "    </tr>\n",
              "    <tr>\n",
              "      <th>10</th>\n",
              "      <td>Miami</td>\n",
              "      <td>Posto</td>\n",
              "      <td>13.67</td>\n",
              "    </tr>\n",
              "    <tr>\n",
              "      <th>11</th>\n",
              "      <td>New York</td>\n",
              "      <td>Proximidade</td>\n",
              "      <td>15.39</td>\n",
              "    </tr>\n",
              "    <tr>\n",
              "      <th>12</th>\n",
              "      <td>Paris</td>\n",
              "      <td>Proximidade</td>\n",
              "      <td>15.39</td>\n",
              "    </tr>\n",
              "    <tr>\n",
              "      <th>13</th>\n",
              "      <td>Rio de Janeiro</td>\n",
              "      <td>Farma</td>\n",
              "      <td>29.56</td>\n",
              "    </tr>\n",
              "    <tr>\n",
              "      <th>14</th>\n",
              "      <td>Roma</td>\n",
              "      <td>Varejo</td>\n",
              "      <td>15.39</td>\n",
              "    </tr>\n",
              "    <tr>\n",
              "      <th>15</th>\n",
              "      <td>Salvador</td>\n",
              "      <td>Atacado</td>\n",
              "      <td>15.39</td>\n",
              "    </tr>\n",
              "    <tr>\n",
              "      <th>16</th>\n",
              "      <td>Sao Paulo</td>\n",
              "      <td>Varejo</td>\n",
              "      <td>15.39</td>\n",
              "    </tr>\n",
              "    <tr>\n",
              "      <th>17</th>\n",
              "      <td>Sidney</td>\n",
              "      <td>Posto</td>\n",
              "      <td>13.67</td>\n",
              "    </tr>\n",
              "    <tr>\n",
              "      <th>18</th>\n",
              "      <td>Tokio</td>\n",
              "      <td>Varejo</td>\n",
              "      <td>15.39</td>\n",
              "    </tr>\n",
              "    <tr>\n",
              "      <th>19</th>\n",
              "      <td>Vancouver</td>\n",
              "      <td>Posto</td>\n",
              "      <td>13.67</td>\n",
              "    </tr>\n",
              "  </tbody>\n",
              "</table>\n",
              "</div>\n",
              "      <button class=\"colab-df-convert\" onclick=\"convertToInteractive('df-c5e22172-e7fb-436e-b54b-b3afb155130d')\"\n",
              "              title=\"Convert this dataframe to an interactive table.\"\n",
              "              style=\"display:none;\">\n",
              "        \n",
              "  <svg xmlns=\"http://www.w3.org/2000/svg\" height=\"24px\"viewBox=\"0 0 24 24\"\n",
              "       width=\"24px\">\n",
              "    <path d=\"M0 0h24v24H0V0z\" fill=\"none\"/>\n",
              "    <path d=\"M18.56 5.44l.94 2.06.94-2.06 2.06-.94-2.06-.94-.94-2.06-.94 2.06-2.06.94zm-11 1L8.5 8.5l.94-2.06 2.06-.94-2.06-.94L8.5 2.5l-.94 2.06-2.06.94zm10 10l.94 2.06.94-2.06 2.06-.94-2.06-.94-.94-2.06-.94 2.06-2.06.94z\"/><path d=\"M17.41 7.96l-1.37-1.37c-.4-.4-.92-.59-1.43-.59-.52 0-1.04.2-1.43.59L10.3 9.45l-7.72 7.72c-.78.78-.78 2.05 0 2.83L4 21.41c.39.39.9.59 1.41.59.51 0 1.02-.2 1.41-.59l7.78-7.78 2.81-2.81c.8-.78.8-2.07 0-2.86zM5.41 20L4 18.59l7.72-7.72 1.47 1.35L5.41 20z\"/>\n",
              "  </svg>\n",
              "      </button>\n",
              "      \n",
              "  <style>\n",
              "    .colab-df-container {\n",
              "      display:flex;\n",
              "      flex-wrap:wrap;\n",
              "      gap: 12px;\n",
              "    }\n",
              "\n",
              "    .colab-df-convert {\n",
              "      background-color: #E8F0FE;\n",
              "      border: none;\n",
              "      border-radius: 50%;\n",
              "      cursor: pointer;\n",
              "      display: none;\n",
              "      fill: #1967D2;\n",
              "      height: 32px;\n",
              "      padding: 0 0 0 0;\n",
              "      width: 32px;\n",
              "    }\n",
              "\n",
              "    .colab-df-convert:hover {\n",
              "      background-color: #E2EBFA;\n",
              "      box-shadow: 0px 1px 2px rgba(60, 64, 67, 0.3), 0px 1px 3px 1px rgba(60, 64, 67, 0.15);\n",
              "      fill: #174EA6;\n",
              "    }\n",
              "\n",
              "    [theme=dark] .colab-df-convert {\n",
              "      background-color: #3B4455;\n",
              "      fill: #D2E3FC;\n",
              "    }\n",
              "\n",
              "    [theme=dark] .colab-df-convert:hover {\n",
              "      background-color: #434B5C;\n",
              "      box-shadow: 0px 1px 3px 1px rgba(0, 0, 0, 0.15);\n",
              "      filter: drop-shadow(0px 1px 2px rgba(0, 0, 0, 0.3));\n",
              "      fill: #FFFFFF;\n",
              "    }\n",
              "  </style>\n",
              "\n",
              "      <script>\n",
              "        const buttonEl =\n",
              "          document.querySelector('#df-c5e22172-e7fb-436e-b54b-b3afb155130d button.colab-df-convert');\n",
              "        buttonEl.style.display =\n",
              "          google.colab.kernel.accessAllowed ? 'block' : 'none';\n",
              "\n",
              "        async function convertToInteractive(key) {\n",
              "          const element = document.querySelector('#df-c5e22172-e7fb-436e-b54b-b3afb155130d');\n",
              "          const dataTable =\n",
              "            await google.colab.kernel.invokeFunction('convertToInteractive',\n",
              "                                                     [key], {});\n",
              "          if (!dataTable) return;\n",
              "\n",
              "          const docLinkHtml = 'Like what you see? Visit the ' +\n",
              "            '<a target=\"_blank\" href=https://colab.research.google.com/notebooks/data_table.ipynb>data table notebook</a>'\n",
              "            + ' to learn more about interactive tables.';\n",
              "          element.innerHTML = '';\n",
              "          dataTable['output_type'] = 'display_data';\n",
              "          await google.colab.output.renderOutput(dataTable, element);\n",
              "          const docLink = document.createElement('div');\n",
              "          docLink.innerHTML = docLinkHtml;\n",
              "          element.appendChild(docLink);\n",
              "        }\n",
              "      </script>\n",
              "    </div>\n",
              "  </div>\n",
              "  "
            ]
          },
          "metadata": {},
          "execution_count": 229
        }
      ]
    },
    {
      "cell_type": "markdown",
      "source": [
        "# Question 3"
      ],
      "metadata": {
        "id": "9JprEAYDkd4A"
      }
    },
    {
      "cell_type": "code",
      "source": [
        ""
      ],
      "metadata": {
        "id": "_tgb5Zg7kf8J"
      },
      "execution_count": null,
      "outputs": []
    }
  ]
}